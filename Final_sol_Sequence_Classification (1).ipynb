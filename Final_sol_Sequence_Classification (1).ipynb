{
  "cells": [
    {
      "cell_type": "markdown",
      "id": "6338e9cf",
      "metadata": {
        "id": "6338e9cf"
      },
      "source": [
        "# Fine-tuning a Sequence Classification Model Exam"
      ]
    },
    {
      "cell_type": "markdown",
      "id": "cc78efcc",
      "metadata": {
        "id": "cc78efcc"
      },
      "source": [
        "In this exam, you will be tasked with performing dataset preprocessing and fine-tuning a model for sequence classification. Complete each step carefully according to the instructions provided.\n",
        "\n",
        "### Model and Dataset Information\n",
        "\n",
        "For this task, you will be working with the following:\n",
        "\n",
        "- **Model Checkpoint**: Use the pre-trained model checkpoint `aubmindlab/bert-base-arabertv02` for both the model and tokenizer.\n",
        "- **Dataset**: You will be using the `CUTD/sanad_df` dataset. Ensure to load and preprocess the dataset correctly for training and evaluation.\n",
        "\n",
        "**Note:**\n",
        "- Any additional steps or methods you include that improve or enhance the results will be rewarded with bonus points if they are justified.\n",
        "- The steps outlined here are suggestions. You are free to implement alternative methods or approaches to achieve the task, as long as you explain the reasoning and the process at the bottom of the notebook.\n",
        "- You can use either TensorFlow or PyTorch for this task. If you prefer TensorFlow, feel free to use it when working with Hugging Face Transformers.\n",
        "- The number of data samples you choose to work with is flexible. However, if you select a very low number of samples and the training time is too short, this could affect the evaluation of your work."
      ]
    },
    {
      "cell_type": "markdown",
      "id": "e4aded80",
      "metadata": {
        "id": "e4aded80"
      },
      "source": [
        "## Step 1: Load the Dataset"
      ]
    },
    {
      "cell_type": "markdown",
      "id": "d54930f9",
      "metadata": {
        "id": "d54930f9"
      },
      "source": [
        "Load the dataset and split it into training and test sets. Use 20% of the data for testing."
      ]
    },
    {
      "cell_type": "code",
      "source": [
        "!pip install pyarabic"
      ],
      "metadata": {
        "colab": {
          "base_uri": "https://localhost:8080/"
        },
        "id": "b01Nl8qNLaPa",
        "outputId": "68174687-07a2-4b23-8edc-9278811cf478"
      },
      "id": "b01Nl8qNLaPa",
      "execution_count": 1,
      "outputs": [
        {
          "output_type": "stream",
          "name": "stdout",
          "text": [
            "Requirement already satisfied: pyarabic in /usr/local/lib/python3.10/dist-packages (0.6.15)\n",
            "Requirement already satisfied: six>=1.14.0 in /usr/local/lib/python3.10/dist-packages (from pyarabic) (1.16.0)\n"
          ]
        }
      ]
    },
    {
      "cell_type": "code",
      "execution_count": 2,
      "id": "ef64e03c",
      "metadata": {
        "id": "ef64e03c",
        "colab": {
          "base_uri": "https://localhost:8080/"
        },
        "outputId": "6f257af6-3c91-4310-909c-e3d5b8a0ec97"
      },
      "outputs": [
        {
          "output_type": "stream",
          "name": "stderr",
          "text": [
            "/usr/local/lib/python3.10/dist-packages/huggingface_hub/utils/_token.py:89: UserWarning: \n",
            "The secret `HF_TOKEN` does not exist in your Colab secrets.\n",
            "To authenticate with the Hugging Face Hub, create a token in your settings tab (https://huggingface.co/settings/tokens), set it as secret in your Google Colab and restart your session.\n",
            "You will be able to reuse this secret in all of your notebooks.\n",
            "Please note that authentication is recommended but still optional to access public models or datasets.\n",
            "  warnings.warn(\n"
          ]
        }
      ],
      "source": [
        "import pandas as pd\n",
        "\n",
        "df = pd.read_csv(\"hf://datasets/CUTD/sanad_df/sanad_df.csv\")"
      ]
    },
    {
      "cell_type": "code",
      "execution_count": 3,
      "id": "7dd06b97",
      "metadata": {
        "id": "7dd06b97",
        "colab": {
          "base_uri": "https://localhost:8080/",
          "height": 363
        },
        "outputId": "420b159a-35ea-41a2-ab37-56486b499ac1"
      },
      "outputs": [
        {
          "output_type": "execute_result",
          "data": {
            "text/plain": [
              "   Unnamed: 0                                               text    label\n",
              "0           0  الشارقة - محمد ولد محمد سالمعرضت مساء أمس الأو...  Culture\n",
              "1           1  عبدالحكيم الزبيدي شاعر وقاص وناقد، جاءت نصوصه ...  Culture\n",
              "2           2  انطلقت في مثل هذه الأيام من العام الفائت فعالي...  Culture\n",
              "3           3  أقيمت مساء أمس الأول في إكسبو الشارقة ندوة حوا...  Culture\n",
              "4           4  باسمة يونس حينما قال صاحب السموّ الشيخ الدكتور...  Culture\n",
              "5           5  قرر اتحاد الأدباء والكتّاب الموريتانيين عقد مؤ...  Culture\n",
              "6           6  تتناول الرواية الإماراتية المرأة ومكانتها في ا...  Culture\n",
              "7           7  أعلنت هيئة دبي للثقافة والفنون (دبي للثقافة)، ...  Culture\n",
              "8           8  توفي أمس الأديب الإسباني ميجيل ديليبس الذي يعت...  Culture\n",
              "9           9  نظم مركز الشارقة للشعر الشعبي في مجلس ضاحية مغ...  Culture"
            ],
            "text/html": [
              "\n",
              "  <div id=\"df-17a8246b-64e3-4560-bb2b-3200aa7527e5\" class=\"colab-df-container\">\n",
              "    <div>\n",
              "<style scoped>\n",
              "    .dataframe tbody tr th:only-of-type {\n",
              "        vertical-align: middle;\n",
              "    }\n",
              "\n",
              "    .dataframe tbody tr th {\n",
              "        vertical-align: top;\n",
              "    }\n",
              "\n",
              "    .dataframe thead th {\n",
              "        text-align: right;\n",
              "    }\n",
              "</style>\n",
              "<table border=\"1\" class=\"dataframe\">\n",
              "  <thead>\n",
              "    <tr style=\"text-align: right;\">\n",
              "      <th></th>\n",
              "      <th>Unnamed: 0</th>\n",
              "      <th>text</th>\n",
              "      <th>label</th>\n",
              "    </tr>\n",
              "  </thead>\n",
              "  <tbody>\n",
              "    <tr>\n",
              "      <th>0</th>\n",
              "      <td>0</td>\n",
              "      <td>الشارقة - محمد ولد محمد سالمعرضت مساء أمس الأو...</td>\n",
              "      <td>Culture</td>\n",
              "    </tr>\n",
              "    <tr>\n",
              "      <th>1</th>\n",
              "      <td>1</td>\n",
              "      <td>عبدالحكيم الزبيدي شاعر وقاص وناقد، جاءت نصوصه ...</td>\n",
              "      <td>Culture</td>\n",
              "    </tr>\n",
              "    <tr>\n",
              "      <th>2</th>\n",
              "      <td>2</td>\n",
              "      <td>انطلقت في مثل هذه الأيام من العام الفائت فعالي...</td>\n",
              "      <td>Culture</td>\n",
              "    </tr>\n",
              "    <tr>\n",
              "      <th>3</th>\n",
              "      <td>3</td>\n",
              "      <td>أقيمت مساء أمس الأول في إكسبو الشارقة ندوة حوا...</td>\n",
              "      <td>Culture</td>\n",
              "    </tr>\n",
              "    <tr>\n",
              "      <th>4</th>\n",
              "      <td>4</td>\n",
              "      <td>باسمة يونس حينما قال صاحب السموّ الشيخ الدكتور...</td>\n",
              "      <td>Culture</td>\n",
              "    </tr>\n",
              "    <tr>\n",
              "      <th>5</th>\n",
              "      <td>5</td>\n",
              "      <td>قرر اتحاد الأدباء والكتّاب الموريتانيين عقد مؤ...</td>\n",
              "      <td>Culture</td>\n",
              "    </tr>\n",
              "    <tr>\n",
              "      <th>6</th>\n",
              "      <td>6</td>\n",
              "      <td>تتناول الرواية الإماراتية المرأة ومكانتها في ا...</td>\n",
              "      <td>Culture</td>\n",
              "    </tr>\n",
              "    <tr>\n",
              "      <th>7</th>\n",
              "      <td>7</td>\n",
              "      <td>أعلنت هيئة دبي للثقافة والفنون (دبي للثقافة)، ...</td>\n",
              "      <td>Culture</td>\n",
              "    </tr>\n",
              "    <tr>\n",
              "      <th>8</th>\n",
              "      <td>8</td>\n",
              "      <td>توفي أمس الأديب الإسباني ميجيل ديليبس الذي يعت...</td>\n",
              "      <td>Culture</td>\n",
              "    </tr>\n",
              "    <tr>\n",
              "      <th>9</th>\n",
              "      <td>9</td>\n",
              "      <td>نظم مركز الشارقة للشعر الشعبي في مجلس ضاحية مغ...</td>\n",
              "      <td>Culture</td>\n",
              "    </tr>\n",
              "  </tbody>\n",
              "</table>\n",
              "</div>\n",
              "    <div class=\"colab-df-buttons\">\n",
              "\n",
              "  <div class=\"colab-df-container\">\n",
              "    <button class=\"colab-df-convert\" onclick=\"convertToInteractive('df-17a8246b-64e3-4560-bb2b-3200aa7527e5')\"\n",
              "            title=\"Convert this dataframe to an interactive table.\"\n",
              "            style=\"display:none;\">\n",
              "\n",
              "  <svg xmlns=\"http://www.w3.org/2000/svg\" height=\"24px\" viewBox=\"0 -960 960 960\">\n",
              "    <path d=\"M120-120v-720h720v720H120Zm60-500h600v-160H180v160Zm220 220h160v-160H400v160Zm0 220h160v-160H400v160ZM180-400h160v-160H180v160Zm440 0h160v-160H620v160ZM180-180h160v-160H180v160Zm440 0h160v-160H620v160Z\"/>\n",
              "  </svg>\n",
              "    </button>\n",
              "\n",
              "  <style>\n",
              "    .colab-df-container {\n",
              "      display:flex;\n",
              "      gap: 12px;\n",
              "    }\n",
              "\n",
              "    .colab-df-convert {\n",
              "      background-color: #E8F0FE;\n",
              "      border: none;\n",
              "      border-radius: 50%;\n",
              "      cursor: pointer;\n",
              "      display: none;\n",
              "      fill: #1967D2;\n",
              "      height: 32px;\n",
              "      padding: 0 0 0 0;\n",
              "      width: 32px;\n",
              "    }\n",
              "\n",
              "    .colab-df-convert:hover {\n",
              "      background-color: #E2EBFA;\n",
              "      box-shadow: 0px 1px 2px rgba(60, 64, 67, 0.3), 0px 1px 3px 1px rgba(60, 64, 67, 0.15);\n",
              "      fill: #174EA6;\n",
              "    }\n",
              "\n",
              "    .colab-df-buttons div {\n",
              "      margin-bottom: 4px;\n",
              "    }\n",
              "\n",
              "    [theme=dark] .colab-df-convert {\n",
              "      background-color: #3B4455;\n",
              "      fill: #D2E3FC;\n",
              "    }\n",
              "\n",
              "    [theme=dark] .colab-df-convert:hover {\n",
              "      background-color: #434B5C;\n",
              "      box-shadow: 0px 1px 3px 1px rgba(0, 0, 0, 0.15);\n",
              "      filter: drop-shadow(0px 1px 2px rgba(0, 0, 0, 0.3));\n",
              "      fill: #FFFFFF;\n",
              "    }\n",
              "  </style>\n",
              "\n",
              "    <script>\n",
              "      const buttonEl =\n",
              "        document.querySelector('#df-17a8246b-64e3-4560-bb2b-3200aa7527e5 button.colab-df-convert');\n",
              "      buttonEl.style.display =\n",
              "        google.colab.kernel.accessAllowed ? 'block' : 'none';\n",
              "\n",
              "      async function convertToInteractive(key) {\n",
              "        const element = document.querySelector('#df-17a8246b-64e3-4560-bb2b-3200aa7527e5');\n",
              "        const dataTable =\n",
              "          await google.colab.kernel.invokeFunction('convertToInteractive',\n",
              "                                                    [key], {});\n",
              "        if (!dataTable) return;\n",
              "\n",
              "        const docLinkHtml = 'Like what you see? Visit the ' +\n",
              "          '<a target=\"_blank\" href=https://colab.research.google.com/notebooks/data_table.ipynb>data table notebook</a>'\n",
              "          + ' to learn more about interactive tables.';\n",
              "        element.innerHTML = '';\n",
              "        dataTable['output_type'] = 'display_data';\n",
              "        await google.colab.output.renderOutput(dataTable, element);\n",
              "        const docLink = document.createElement('div');\n",
              "        docLink.innerHTML = docLinkHtml;\n",
              "        element.appendChild(docLink);\n",
              "      }\n",
              "    </script>\n",
              "  </div>\n",
              "\n",
              "\n",
              "<div id=\"df-8f9c347b-afa2-44e8-8b02-026fc8c5c6ae\">\n",
              "  <button class=\"colab-df-quickchart\" onclick=\"quickchart('df-8f9c347b-afa2-44e8-8b02-026fc8c5c6ae')\"\n",
              "            title=\"Suggest charts\"\n",
              "            style=\"display:none;\">\n",
              "\n",
              "<svg xmlns=\"http://www.w3.org/2000/svg\" height=\"24px\"viewBox=\"0 0 24 24\"\n",
              "     width=\"24px\">\n",
              "    <g>\n",
              "        <path d=\"M19 3H5c-1.1 0-2 .9-2 2v14c0 1.1.9 2 2 2h14c1.1 0 2-.9 2-2V5c0-1.1-.9-2-2-2zM9 17H7v-7h2v7zm4 0h-2V7h2v10zm4 0h-2v-4h2v4z\"/>\n",
              "    </g>\n",
              "</svg>\n",
              "  </button>\n",
              "\n",
              "<style>\n",
              "  .colab-df-quickchart {\n",
              "      --bg-color: #E8F0FE;\n",
              "      --fill-color: #1967D2;\n",
              "      --hover-bg-color: #E2EBFA;\n",
              "      --hover-fill-color: #174EA6;\n",
              "      --disabled-fill-color: #AAA;\n",
              "      --disabled-bg-color: #DDD;\n",
              "  }\n",
              "\n",
              "  [theme=dark] .colab-df-quickchart {\n",
              "      --bg-color: #3B4455;\n",
              "      --fill-color: #D2E3FC;\n",
              "      --hover-bg-color: #434B5C;\n",
              "      --hover-fill-color: #FFFFFF;\n",
              "      --disabled-bg-color: #3B4455;\n",
              "      --disabled-fill-color: #666;\n",
              "  }\n",
              "\n",
              "  .colab-df-quickchart {\n",
              "    background-color: var(--bg-color);\n",
              "    border: none;\n",
              "    border-radius: 50%;\n",
              "    cursor: pointer;\n",
              "    display: none;\n",
              "    fill: var(--fill-color);\n",
              "    height: 32px;\n",
              "    padding: 0;\n",
              "    width: 32px;\n",
              "  }\n",
              "\n",
              "  .colab-df-quickchart:hover {\n",
              "    background-color: var(--hover-bg-color);\n",
              "    box-shadow: 0 1px 2px rgba(60, 64, 67, 0.3), 0 1px 3px 1px rgba(60, 64, 67, 0.15);\n",
              "    fill: var(--button-hover-fill-color);\n",
              "  }\n",
              "\n",
              "  .colab-df-quickchart-complete:disabled,\n",
              "  .colab-df-quickchart-complete:disabled:hover {\n",
              "    background-color: var(--disabled-bg-color);\n",
              "    fill: var(--disabled-fill-color);\n",
              "    box-shadow: none;\n",
              "  }\n",
              "\n",
              "  .colab-df-spinner {\n",
              "    border: 2px solid var(--fill-color);\n",
              "    border-color: transparent;\n",
              "    border-bottom-color: var(--fill-color);\n",
              "    animation:\n",
              "      spin 1s steps(1) infinite;\n",
              "  }\n",
              "\n",
              "  @keyframes spin {\n",
              "    0% {\n",
              "      border-color: transparent;\n",
              "      border-bottom-color: var(--fill-color);\n",
              "      border-left-color: var(--fill-color);\n",
              "    }\n",
              "    20% {\n",
              "      border-color: transparent;\n",
              "      border-left-color: var(--fill-color);\n",
              "      border-top-color: var(--fill-color);\n",
              "    }\n",
              "    30% {\n",
              "      border-color: transparent;\n",
              "      border-left-color: var(--fill-color);\n",
              "      border-top-color: var(--fill-color);\n",
              "      border-right-color: var(--fill-color);\n",
              "    }\n",
              "    40% {\n",
              "      border-color: transparent;\n",
              "      border-right-color: var(--fill-color);\n",
              "      border-top-color: var(--fill-color);\n",
              "    }\n",
              "    60% {\n",
              "      border-color: transparent;\n",
              "      border-right-color: var(--fill-color);\n",
              "    }\n",
              "    80% {\n",
              "      border-color: transparent;\n",
              "      border-right-color: var(--fill-color);\n",
              "      border-bottom-color: var(--fill-color);\n",
              "    }\n",
              "    90% {\n",
              "      border-color: transparent;\n",
              "      border-bottom-color: var(--fill-color);\n",
              "    }\n",
              "  }\n",
              "</style>\n",
              "\n",
              "  <script>\n",
              "    async function quickchart(key) {\n",
              "      const quickchartButtonEl =\n",
              "        document.querySelector('#' + key + ' button');\n",
              "      quickchartButtonEl.disabled = true;  // To prevent multiple clicks.\n",
              "      quickchartButtonEl.classList.add('colab-df-spinner');\n",
              "      try {\n",
              "        const charts = await google.colab.kernel.invokeFunction(\n",
              "            'suggestCharts', [key], {});\n",
              "      } catch (error) {\n",
              "        console.error('Error during call to suggestCharts:', error);\n",
              "      }\n",
              "      quickchartButtonEl.classList.remove('colab-df-spinner');\n",
              "      quickchartButtonEl.classList.add('colab-df-quickchart-complete');\n",
              "    }\n",
              "    (() => {\n",
              "      let quickchartButtonEl =\n",
              "        document.querySelector('#df-8f9c347b-afa2-44e8-8b02-026fc8c5c6ae button');\n",
              "      quickchartButtonEl.style.display =\n",
              "        google.colab.kernel.accessAllowed ? 'block' : 'none';\n",
              "    })();\n",
              "  </script>\n",
              "</div>\n",
              "\n",
              "    </div>\n",
              "  </div>\n"
            ],
            "application/vnd.google.colaboratory.intrinsic+json": {
              "type": "dataframe",
              "variable_name": "df",
              "summary": "{\n  \"name\": \"df\",\n  \"rows\": 15000,\n  \"fields\": [\n    {\n      \"column\": \"Unnamed: 0\",\n      \"properties\": {\n        \"dtype\": \"number\",\n        \"std\": 4330,\n        \"min\": 0,\n        \"max\": 14999,\n        \"num_unique_values\": 15000,\n        \"samples\": [\n          11499,\n          6475,\n          13167\n        ],\n        \"semantic_type\": \"\",\n        \"description\": \"\"\n      }\n    },\n    {\n      \"column\": \"text\",\n      \"properties\": {\n        \"dtype\": \"string\",\n        \"num_unique_values\": 14994,\n        \"samples\": [\n          \"\\u0646\\u0638\\u0645\\u062a \\u0645\\u0624\\u0633\\u0633\\u0629 \\u062d\\u0643\\u0648\\u0645\\u0629 \\u062f\\u0628\\u064a \\u0627\\u0644\\u0630\\u0643\\u064a\\u0629 \\u0628\\u0627\\u0644\\u062a\\u0639\\u0627\\u0648\\u0646 \\u0645\\u0639 \\u0647\\u064a\\u0626\\u0629 \\u062a\\u0646\\u0645\\u064a\\u0629 \\u0627\\u0644\\u0645\\u062c\\u062a\\u0645\\u0639\\u060c \\u0648\\u0631\\u0634\\u0629 \\u0639\\u0645\\u0644 \\u062a\\u0636\\u0645\\u0646\\u062a \\u062c\\u0644\\u0633\\u0627\\u062a \\u062d\\u0648\\u0627\\u0631\\u064a\\u0629 \\u062d\\u0648\\u0644 \\u0627\\u0644\\u0645\\u0639\\u0627\\u064a\\u064a\\u0631 \\u0627\\u0644\\u062a\\u064a \\u062a\\u0644\\u0628\\u064a \\u0627\\u062d\\u062a\\u064a\\u0627\\u062c\\u0627\\u062a \\u0648\\u0645\\u062a\\u0637\\u0644\\u0628\\u0627\\u062a \\u0623\\u0635\\u062d\\u0627\\u0628 \\u0627\\u0644\\u0647\\u0645\\u0645 \\u0645\\u0646 \\u0627\\u0644\\u0645\\u0648\\u0627\\u0642\\u0639 \\u0627\\u0644\\u0625\\u0644\\u0643\\u062a\\u0631\\u0648\\u0646\\u064a\\u0629 \\u0648\\u0627\\u0644\\u062a\\u0637\\u0628\\u064a\\u0642\\u0627\\u062a \\u0627\\u0644\\u0630\\u0643\\u064a\\u0629 \\u0627\\u0644\\u062a\\u0627\\u0628\\u0639\\u0629 \\u0644\\u062c\\u0647\\u0627\\u062a \\u0648\\u0645\\u0624\\u0633\\u0633\\u0627\\u062a \\u0627\\u0644\\u0642\\u0637\\u0627\\u0639 \\u0627\\u0644\\u062e\\u0627\\u0635 \\u0641\\u064a \\u062f\\u0628\\u064a\\u060c \\u0633\\u0639\\u064a\\u0627\\u064b \\u0646\\u062d\\u0648 \\u062a\\u0637\\u0648\\u064a\\u0631\\u0647\\u0627 \\u0644\\u062a\\u0643\\u0648\\u0646 \\u0635\\u062f\\u064a\\u0642\\u0629 \\u0644\\u0647\\u0645 \\u0648\\u0642\\u0627\\u062f\\u0631\\u0629 \\u0639\\u0644\\u0649 \\u062a\\u0648\\u0641\\u064a\\u0631 \\u062a\\u062c\\u0627\\u0631\\u0628 \\u0633\\u0639\\u064a\\u062f\\u0629 \\u062a\\u0644\\u0628\\u064a \\u0627\\u062d\\u062a\\u064a\\u0627\\u062c\\u0627\\u062a\\u0647\\u0645. \\u0648\\u0623\\u062a\\u062a \\u0647\\u0630\\u0647 \\u0627\\u0644\\u062c\\u0644\\u0633\\u0627\\u062a \\u0627\\u0644\\u062d\\u0648\\u0627\\u0631\\u064a\\u0629 \\u0627\\u0644\\u062a\\u064a \\u062a\\u0636\\u0645 \\u0641\\u0626\\u0627\\u062a \\u0645\\u062e\\u062a\\u0627\\u0631\\u0629 \\u0645\\u0646 \\u0623\\u0635\\u062d\\u0627\\u0628 \\u0627\\u0644\\u0647\\u0645\\u0645 \\u0643\\u0645\\u0631\\u062d\\u0644\\u0629 \\u0623\\u0648\\u0644\\u0649 \\u0645\\u0646 \\u0645\\u0628\\u0627\\u062f\\u0631\\u0629 \\u0646\\u0648\\u0639\\u064a\\u0629 \\u0648\\u0634\\u0627\\u0645\\u0644\\u0629\\u060c \\u0628\\u0647\\u062f\\u0641 \\u062a\\u0648\\u062c\\u064a\\u0647 \\u0645\\u0624\\u0633\\u0633\\u0627\\u062a \\u0627\\u0644\\u0642\\u0637\\u0627\\u0639 \\u0627\\u0644\\u062e\\u0627\\u0635 \\u0627\\u0644\\u0639\\u0627\\u0645\\u0644\\u0629 \\u0641\\u064a \\u0625\\u0645\\u0627\\u0631\\u0629 \\u062f\\u0628\\u064a \\u0644\\u062a\\u0623\\u0647\\u064a\\u0644 \\u0645\\u0648\\u0627\\u0642\\u0639\\u0647\\u0627 \\u0627\\u0644\\u0625\\u0644\\u0643\\u062a\\u0631\\u0648\\u0646\\u064a\\u0629 \\u0648\\u062a\\u0637\\u0628\\u064a\\u0642\\u0627\\u062a\\u0647\\u0627 \\u0627\\u0644\\u0630\\u0643\\u064a\\u0629 \\u0644\\u062a\\u0635\\u0628\\u062d \\u0645\\u062a\\u0637\\u0627\\u0628\\u0642\\u0629 \\u0645\\u0639 \\u0627\\u0644\\u0645\\u0639\\u0627\\u064a\\u064a\\u0631 \\u0627\\u0644\\u0642\\u064a\\u0627\\u0633\\u064a\\u0629 \\u0644\\u0625\\u0645\\u0643\\u0627\\u0646\\u064a\\u0629 \\u0648\\u0635\\u0648\\u0644 \\u0648\\u0627\\u0633\\u062a\\u062e\\u062f\\u0627\\u0645 \\u0623\\u0635\\u062d\\u0627\\u0628 \\u0627\\u0644\\u0647\\u0645\\u0645\\u060c \\u0648\\u0644\\u062a\\u062a\\u064a\\u062d \\u0644\\u0647\\u0645 \\u0625\\u0645\\u0643\\u0627\\u0646 \\u0627\\u0644\\u0648\\u0635\\u0648\\u0644 \\u0628\\u0643\\u0644 \\u0633\\u0647\\u0648\\u0644\\u0629 \\u0648\\u0633\\u0644\\u0627\\u0633\\u0629. \\u0648\\u062a\\u0645 \\u062e\\u0644\\u0627\\u0644 \\u0627\\u0644\\u062c\\u0644\\u0633\\u0627\\u062a \\u0625\\u0634\\u0631\\u0627\\u0643 \\u0623\\u0635\\u062d\\u0627\\u0628 \\u0627\\u0644\\u0647\\u0645\\u0645 \\u0641\\u064a \\u062a\\u062d\\u062f\\u064a\\u062f \\u0625\\u0631\\u0634\\u0627\\u062f\\u0627\\u062a \\u0627\\u0644\\u062a\\u0635\\u0645\\u064a\\u0645 \\u0627\\u0644\\u0645\\u064f\\u062a\\u0639\\u0644\\u0642\\u0629 \\u0628\\u0648\\u0627\\u062c\\u0647\\u0629 \\u0627\\u0644\\u062a\\u0637\\u0628\\u064a\\u0642\\u0627\\u062a \\u0627\\u0644\\u0630\\u0643\\u064a\\u0629 \\u0648\\u0627\\u0644\\u0645\\u0648\\u0627\\u0642\\u0639 \\u0627\\u0644\\u0625\\u0644\\u0643\\u062a\\u0631\\u0648\\u0646\\u064a\\u0629\\u060c \\u0648\\u0627\\u0644\\u0623\\u0644\\u0648\\u0627\\u0646 \\u0627\\u0644\\u0645\\u0631\\u064a\\u062d\\u0629 \\u0627\\u0644\\u0645\\u0641\\u0636\\u0644\\u0629 \\u0644\\u062f\\u064a\\u0647\\u0645. \\u0648\\u0623\\u0643\\u062f\\u062a \\u0627\\u0644\\u062f\\u0643\\u062a\\u0648\\u0631\\u0629 \\u0639\\u0627\\u0626\\u0634\\u0629 \\u0628\\u0646\\u062a \\u0628\\u0637\\u064a \\u0628\\u0646 \\u0628\\u0634\\u0631\\u060c \\u0645\\u062f\\u064a\\u0631 \\u0639\\u0627\\u0645 \\u0645\\u0643\\u062a\\u0628 \\u062f\\u0628\\u064a \\u0627\\u0644\\u0630\\u0643\\u064a\\u0629 \\u0636\\u0631\\u0648\\u0631\\u0629 \\u062a\\u0636\\u0627\\u0641\\u0631 \\u0627\\u0644\\u062c\\u0647\\u0648\\u062f \\u0628\\u064a\\u0646 \\u062c\\u0645\\u064a\\u0639 \\u0627\\u0644\\u062c\\u0647\\u0627\\u062a \\u0627\\u0644\\u062d\\u0643\\u0648\\u0645\\u064a\\u0629 \\u0648\\u0627\\u0644\\u062e\\u0627\\u0635\\u0629 \\u0641\\u064a \\u062f\\u0628\\u064a\\u060c \\u0648\\u0627\\u0644\\u0639\\u0645\\u0644 \\u0627\\u0644\\u062f\\u0624\\u0648\\u0628 \\u0648\\u0627\\u0644\\u062a\\u0631\\u0643\\u064a\\u0632 \\u0639\\u0644\\u0649 \\u062a\\u0646\\u0641\\u064a\\u0630 \\u062c\\u0645\\u064a\\u0639 \\u0627\\u0644\\u0645\\u0628\\u0627\\u062f\\u0631\\u0627\\u062a. \\u0648\\u0642\\u0627\\u0644 \\u0648\\u0633\\u0627\\u0645 \\u0644\\u0648\\u062a\\u0627\\u0647\\u060c \\u0627\\u0644\\u0645\\u062f\\u064a\\u0631 \\u0627\\u0644\\u062a\\u0646\\u0641\\u064a\\u0630\\u064a \\u0644\\u0645\\u0624\\u0633\\u0633\\u0629 \\u062d\\u0643\\u0648\\u0645\\u0629 \\u062f\\u0628\\u064a \\u0627\\u0644\\u0630\\u0643\\u064a\\u0629: \\u0625\\u0646 \\u0639\\u0645\\u0644\\u064a\\u0629 \\u062a\\u0623\\u0647\\u064a\\u0644 \\u0627\\u0644\\u0645\\u0648\\u0627\\u0642\\u0639 \\u0627\\u0644\\u0625\\u0644\\u0643\\u062a\\u0631\\u0648\\u0646\\u064a\\u0629 \\u0648\\u0627\\u0644\\u062a\\u0637\\u0628\\u064a\\u0642\\u0627\\u062a \\u0627\\u0644\\u0630\\u0643\\u064a\\u0629 \\u0641\\u064a \\u062c\\u0647\\u0627\\u062a \\u0627\\u0644\\u0642\\u0637\\u0627\\u0639 \\u0627\\u0644\\u062e\\u0627\\u0635 \\u0628\\u062f\\u0628\\u064a\\u060c \\u062a\\u0623\\u062a\\u064a \\u0641\\u064a \\u0625\\u0637\\u0627\\u0631 \\u062c\\u0647\\u0648\\u062f \\u00ab\\u062f\\u0628\\u064a \\u0627\\u0644\\u0630\\u0643\\u064a\\u0629\\u00bb \\u0627\\u0644\\u0647\\u0627\\u062f\\u0641\\u0629 \\u0625\\u0644\\u0649 \\u062a\\u062d\\u0648\\u064a\\u0644 \\u062f\\u0628\\u064a \\u0628\\u0627\\u0644\\u0643\\u0627\\u0645\\u0644 \\u0625\\u0644\\u0649 \\u0645\\u062f\\u064a\\u0646\\u0629 \\u0635\\u062f\\u064a\\u0642\\u0629 \\u0644\\u0623\\u0635\\u062d\\u0627\\u0628 \\u0627\\u0644\\u0647\\u0645\\u0645 \\u0628\\u062d\\u0644\\u0648\\u0644 \\u0639\\u0627\\u0645 2020. \\u0645\\u0646 \\u062c\\u0647\\u062a\\u0647 \\u0623\\u0643\\u062f \\u0623\\u062d\\u0645\\u062f \\u0639\\u0628\\u062f \\u0627\\u0644\\u0643\\u0631\\u064a\\u0645 \\u062c\\u0644\\u0641\\u0627\\u0631\\u060c \\u0645\\u062f\\u064a\\u0631 \\u0639\\u0627\\u0645 \\u0647\\u064a\\u0626\\u0629 \\u062a\\u0646\\u0645\\u064a\\u0629 \\u0627\\u0644\\u0645\\u062c\\u062a\\u0645\\u0639 \\u0636\\u0631\\u0648\\u0631\\u0629 \\u062a\\u0648\\u0641\\u064a\\u0631 \\u0628\\u064a\\u0626\\u0629 \\u062f\\u0627\\u0645\\u062c\\u0629 \\u0648\\u0645\\u0645\\u0643\\u0646\\u0629 \\u0644\\u0623\\u0635\\u062d\\u0627\\u0628 \\u0627\\u0644\\u0647\\u0645\\u0645 \\u062a\\u062a\\u064a\\u062d \\u0644\\u0647\\u0645 \\u0627\\u0644\\u0648\\u0635\\u0648\\u0644 \\u0627\\u0644\\u0643\\u0627\\u0645\\u0644 \\u0644\\u0643\\u0627\\u0641\\u0629 \\u062d\\u0642\\u0648\\u0642\\u0647\\u0645\\u060c \\u0644\\u0627\\u0641\\u062a\\u0627\\u064b \\u0625\\u0644\\u0649 \\u0623\\u0646 \\u0627\\u0644\\u062a\\u062d\\u0648\\u0644 \\u0627\\u0644\\u0630\\u0643\\u064a \\u0627\\u0644\\u0630\\u064a \\u062a\\u0634\\u0647\\u062f\\u0647 \\u062d\\u0643\\u0648\\u0645\\u0629 \\u062f\\u0628\\u064a \\u0628\\u062c\\u0645\\u064a\\u0639 \\u062e\\u062f\\u0645\\u0627\\u062a\\u0647\\u0627 \\u0645\\u0646 \\u0634\\u0623\\u0646\\u0647 \\u0623\\u0646 \\u064a\\u062a\\u064a\\u062d \\u0633\\u0647\\u0648\\u0644\\u0629 \\u0623\\u0643\\u0628\\u0631 \\u0641\\u064a \\u0645\\u0648\\u0627\\u0621\\u0645\\u0629 \\u0627\\u0644\\u062e\\u062f\\u0645\\u0627\\u062a \\u0644\\u0627\\u062d\\u062a\\u064a\\u0627\\u062c\\u0627\\u062a \\u0623\\u0635\\u062d\\u0627\\u0628 \\u0627\\u0644\\u0647\\u0645\\u0645.\",\n          \"\\u062d\\u0648\\u0627\\u0631: \\u0646\\u062c\\u0627\\u0629 \\u0627\\u0644\\u0641\\u0627\\u0631\\u0633 \\u0645\\u062d\\u0645\\u062f \\u0627\\u0644\\u062d\\u0645\\u0627\\u062f\\u064a \\u0643\\u0627\\u062a\\u0628 \\u0625\\u0645\\u0627\\u0631\\u0627\\u062a\\u064a \\u0641\\u0627\\u0632 \\u0628\\u0627\\u0644\\u0645\\u0631\\u0643\\u0632 \\u0627\\u0644\\u062b\\u0627\\u0644\\u062b \\u0628\\u062c\\u0627\\u0626\\u0632\\u0629 \\u0627\\u0644\\u0625\\u0645\\u0627\\u0631\\u0627\\u062a \\u0644\\u0644\\u0631\\u0648\\u0627\\u064a\\u0629 \\u0641\\u064a \\u062f\\u0648\\u0631\\u062a\\u0647\\u0627 \\u0627\\u0644\\u062b\\u0627\\u0644\\u062b\\u0629 \\u0639\\u0646 \\u0631\\u0648\\u0627\\u064a\\u062a\\u0647 \\u00ab\\u0627\\u0644\\u0628\\u062d\\u062b \\u0639\\u0646 \\u0645\\u0645\\u0644\\u0643\\u0629 \\u0627\\u0644\\u0634\\u0645\\u0633\\u00bb\\u060c \\u0643\\u0645\\u0627 \\u0641\\u0627\\u0632\\u062a \\u0631\\u0648\\u0627\\u064a\\u062a\\u0647 \\u00ab\\u0627\\u0644\\u064a\\u0648\\u0645 \\u0627\\u0644\\u0623\\u062e\\u064a\\u0631.. \\u064a\\u0648\\u0645\\u064a\\u0627\\u062a \\u0627\\u0644\\u0628\\u0631\\u0648\\u0641\\u064a\\u0633\\u0648\\u0631 \\u0645\\u0627\\u0643 \\u0622\\u064a\\u062f\\u064a\\u00bb\\u060c \\u0628\\u0627\\u0644\\u0645\\u0631\\u0643\\u0632 \\u0627\\u0644\\u0623\\u0648\\u0644 \\u0641\\u064a \\u0627\\u0644\\u062f\\u0648\\u0631\\u0629 \\u0627\\u0644\\u062b\\u0627\\u0646\\u064a\\u0629 \\u0644\\u062c\\u0627\\u0626\\u0632\\u0629 \\u0627\\u0644\\u0625\\u0645\\u0627\\u0631\\u0627\\u062a \\u0644\\u0644\\u0631\\u0648\\u0627\\u064a\\u0629 \\u0641\\u0626\\u0629 \\u0627\\u0644\\u0631\\u0648\\u0627\\u064a\\u0629 \\u0627\\u0644\\u0637\\u0648\\u064a\\u0644\\u0629\\u060c \\u062a\\u0633\\u062a\\u0647\\u0648\\u064a\\u0647 \\u0643\\u062a\\u0628 \\u0627\\u0644\\u0639\\u0644\\u0648\\u0645 \\u0643\\u0627\\u0644\\u0630\\u0631\\u0651\\u0629 \\u0648\\u0627\\u0644\\u0641\\u064a\\u0632\\u064a\\u0627\\u0621 \\u0648\\u0627\\u0644\\u0643\\u064a\\u0645\\u064a\\u0627\\u0621\\u060c \\u0625\\u0636\\u0627\\u0641\\u0629 \\u0625\\u0644\\u0649 \\u0627\\u0644\\u062a\\u0627\\u0631\\u064a\\u062e \\u0648\\u0627\\u0644\\u0633\\u064a\\u0631 \\u0627\\u0644\\u0630\\u0627\\u062a\\u064a\\u0629\\u060c \\u064a\\u0639\\u0645\\u0644 \\u062d\\u0627\\u0644\\u064a\\u0627\\u064b \\u0639\\u0644\\u0649 \\u0643\\u062a\\u0627\\u0628\\u0629 \\u0631\\u0648\\u0627\\u064a\\u0629 \\u062a\\u0627\\u0631\\u064a\\u062e\\u064a\\u0629 \\u062a\\u062d\\u062a \\u0639\\u0646\\u0648\\u0627\\u0646 \\u00ab\\u0627\\u0644\\u0646\\u062e\\u0644\\u0629\\u00bb \\u062a\\u062f\\u0648\\u0631 \\u0623\\u062d\\u062f\\u0627\\u062b\\u0647\\u0627 \\u0641\\u064a \\u0645\\u0635\\u0631 \\u0627\\u0644\\u0641\\u0631\\u0639\\u0648\\u0646\\u064a\\u0629 \\u0648\\u0627\\u0644\\u0628\\u062a\\u0631\\u0627\\u0621\\u060c \\u0648\\u0631\\u0648\\u0627\\u064a\\u0629 \\u0623\\u062e\\u0631\\u0649 \\u0628\\u0639\\u0646\\u0648\\u0627\\u0646 \\u00ab\\u0644\\u063a\\u0632 \\u0635\\u0648\\u0631\\u0629 \\u0645\\u0646 \\u0627\\u0644\\u0643\\u0648\\u0643\\u0628 \\u0627\\u0644\\u0623\\u062d\\u0645\\u0631\\u00bb\\u060c \\u0648\\u0647\\u064a \\u062c\\u0631\\u064a\\u0645\\u0629 \\u0645\\u0645\\u0632\\u0648\\u062c\\u0629 \\u0628\\u0627\\u0644\\u062e\\u064a\\u0627\\u0644 \\u0627\\u0644\\u0639\\u0644\\u0645\\u064a\\u060c \\u0643\\u062a\\u0628\\u0647\\u0627 \\u062a\\u0632\\u0627\\u0645\\u0646\\u0627\\u064b \\u0645\\u0639 \\u0627\\u0647\\u062a\\u0645\\u0627\\u0645 \\u0627\\u0644\\u0625\\u0645\\u0627\\u0631\\u0627\\u062a \\u0645\\u0624\\u062e\\u0631\\u0627\\u064b \\u0628\\u0627\\u0644\\u0641\\u0636\\u0627\\u0621 \\u0648\\u0643\\u0648\\u0643\\u0628 \\u0627\\u0644\\u0645\\u0631\\u064a\\u062e \\u062a\\u062d\\u062f\\u064a\\u062f\\u0627\\u064b\\u060c \\u0644\\u064a\\u0642\\u0631\\u0628 \\u0635\\u0648\\u0631\\u0629 \\u0627\\u0644\\u0645\\u0631\\u064a\\u062e \\u0648\\u0623\\u062c\\u0648\\u0627\\u0621\\u0647 \\u0644\\u0644\\u0642\\u0627\\u0631\\u0626 \\u0627\\u0644\\u0625\\u0645\\u0627\\u0631\\u0627\\u062a\\u064a \\u0648\\u0627\\u0644\\u0639\\u0631\\u0628\\u064a. \\u0648\\u0643\\u0627\\u0646 \\u0644\\u0640\\u00ab\\u0627\\u0644\\u062e\\u0644\\u064a\\u062c\\u00bb \\u0627\\u0644\\u062d\\u0648\\u0627\\u0631 \\u0627\\u0644\\u0622\\u062a\\u064a \\u0645\\u0639\\u0647: *\\u0643\\u064a\\u0641 \\u0648\\u0645\\u062a\\u0649 \\u0628\\u062f\\u0623\\u062a \\u0631\\u062d\\u0644\\u062a\\u0643 \\u0645\\u0639 \\u0627\\u0644\\u0643\\u062a\\u0627\\u0628\\u0629\\u061f- \\u0628\\u062f\\u0623\\u062a \\u0627\\u0644\\u0643\\u062a\\u0627\\u0628\\u0629 \\u0628\\u0631\\u0648\\u0627\\u064a\\u0629 \\u00ab\\u0627\\u0644\\u064a\\u0648\\u0645 \\u0627\\u0644\\u0623\\u062e\\u064a\\u0631\\u00bb \\u0648\\u0643\\u0627\\u0646\\u062a \\u062a\\u062c\\u0631\\u0628\\u062a\\u064a \\u0627\\u0644\\u0623\\u0648\\u0644\\u0649\\u060c \\u0648\\u0628\\u0639\\u062f \\u0641\\u0631\\u0627\\u063a\\u064a \\u0645\\u0646\\u0647\\u0627 \\u0628\\u0642\\u064a\\u062a \\u0627\\u0644\\u0631\\u0648\\u0627\\u064a\\u0629 \\u0641\\u0648\\u0642 \\u0627\\u0644\\u0631\\u0641 \\u0644\\u0633\\u0646\\u062a\\u064a\\u0646 \\u0625\\u0644\\u0649 \\u0623\\u0646 \\u0634\\u0627\\u0647\\u062f\\u062a \\u0639\\u0631\\u0636 \\u062c\\u0627\\u0626\\u0632\\u0629 \\u0627\\u0644\\u0625\\u0645\\u0627\\u0631\\u0627\\u062a \\u0644\\u0644\\u0631\\u0648\\u0627\\u064a\\u0629 \\u0641\\u064a \\u0645\\u0639\\u0631\\u0636 \\u0627\\u0644\\u0634\\u0627\\u0631\\u0642\\u0629 \\u0627\\u0644\\u062f\\u0648\\u0644\\u064a \\u0644\\u0644\\u0643\\u062a\\u0627\\u0628\\u060c \\u0648\\u0647\\u0646\\u0627\\u0643 \\u0642\\u0631\\u0631\\u062a \\u0625\\u0631\\u0633\\u0627\\u0644\\u0647\\u0627\\u060c \\u0648\\u0644\\u0645 \\u0623\\u062a\\u0648\\u0642\\u0639 \\u0627\\u0644\\u0641\\u0648\\u0632 \\u0625\\u0637\\u0644\\u0627\\u0642\\u0627\\u060c \\u0643\\u0646\\u062a \\u0645\\u062a\\u0634\\u0627\\u0626\\u0645\\u0627\\u064b \\u0628\\u0639\\u0636 \\u0627\\u0644\\u0634\\u064a\\u0621\\u060c \\u0644\\u0643\\u0646 \\u0641\\u0648\\u0632\\u0647\\u0627 \\u062f\\u0648\\u0646 \\u0645\\u0646\\u0627\\u0641\\u0633 \\u0645\\u0646\\u062d\\u0646\\u064a \\u0637\\u0627\\u0642\\u0629 \\u0644\\u0644\\u0625\\u0628\\u062f\\u0627\\u0639 \\u0623\\u0643\\u062b\\u0631\\u060c \\u0648\\u0639\\u0646\\u062f\\u0647\\u0627 \\u0643\\u062a\\u0628\\u062a \\u0631\\u0648\\u0627\\u064a\\u062a\\u064a \\u0627\\u0644\\u062b\\u0627\\u0646\\u064a\\u0629 \\u00ab\\u0628\\u0648\\u0646\\u063a\\u0627\\u0646\\u064a \\u0627\\u0644\\u0634\\u0627\\u0641\\u064a.. \\u062d\\u0643\\u0627\\u064a\\u0629 \\u0623\\u0645 \\u0625\\u0641\\u0631\\u064a\\u0642\\u064a\\u0629\\u00bb\\u060c \\u0648\\u0623\\u0639\\u062a\\u0628\\u0631\\u0647\\u0627 \\u0627\\u0644\\u0631\\u0648\\u0627\\u064a\\u0629 \\u0627\\u0644\\u0623\\u0642\\u0631\\u0628 \\u0625\\u0644\\u0649 \\u0642\\u0644\\u0628\\u064a\\u060c \\u0648\\u062a\\u0644\\u0642\\u0641\\u062a \\u0627\\u0644\\u0639\\u0645\\u0644 \\u062f\\u0627\\u0631 \\u0646\\u0634\\u0631 \\u00ab\\u0631\\u0648\\u0627\\u064a\\u0627\\u062a\\u00bb \\u0648\\u0644\\u0642\\u064a\\u062a \\u0627\\u0644\\u0631\\u0648\\u0627\\u064a\\u0629 \\u0646\\u062c\\u0627\\u062d\\u0627\\u064b \\u0637\\u064a\\u0628\\u0627\\u064b. *\\u0645\\u0627\\u0630\\u0627 \\u0639\\u0646 \\u0645\\u0634\\u0631\\u0648\\u0639\\u0643 \\u0627\\u0644\\u0623\\u062f\\u0628\\u064a \\u0627\\u0644\\u0642\\u0627\\u062f\\u0645\\u061f- \\u0645\\u0624\\u062e\\u0631\\u0627\\u064b \\u0628\\u062f\\u0623\\u062a \\u0628\\u0643\\u062a\\u0627\\u0628\\u0629 \\u0631\\u0648\\u0627\\u064a\\u0629 \\u062a\\u0627\\u0631\\u064a\\u062e\\u064a\\u0629 \\u062a\\u062d\\u062a \\u0639\\u0646\\u0648\\u0627\\u0646 \\u00ab\\u0627\\u0644\\u0646\\u062e\\u0644\\u0629\\u00bb \\u062a\\u062f\\u0648\\u0631 \\u0623\\u062d\\u062f\\u0627\\u062b\\u0647\\u0627 \\u0641\\u064a \\u0645\\u0635\\u0631 \\u0627\\u0644\\u0641\\u0631\\u0639\\u0648\\u0646\\u064a\\u0629 \\u0648\\u0627\\u0644\\u0628\\u062a\\u0631\\u0627\\u0621\\u060c \\u0641\\u064a \\u0627\\u0644\\u0623\\u0632\\u0645\\u0646\\u0629 \\u0627\\u0644\\u063a\\u0627\\u0628\\u0631\\u0629 \\u062d\\u064a\\u062b \\u062d\\u062f\\u062b\\u062a \\u0645\\u062c\\u0627\\u0639\\u0629 \\u0643\\u0628\\u0631\\u0649 \\u062f\\u0627\\u0631\\u062a \\u0628\\u0639\\u062f\\u0647\\u0627 \\u062d\\u0631\\u0648\\u0628 \\u0637\\u0627\\u062d\\u0646\\u0629\\u060c \\u062a\\u0642\\u0648\\u062f \\u0623\\u062d\\u062f\\u0627\\u062b \\u0627\\u0644\\u0631\\u0648\\u0627\\u064a\\u0629 \\u0628\\u0637\\u0644\\u062a\\u064a\\u0647\\u0627 \\u062a\\u0648\\u064a\\u0627 \\u0648\\u0623\\u062e\\u062a\\u0647\\u0627 \\u0628\\u0627\\u062a\\u0648\\u064a\\u0627 \\u0625\\u0644\\u0627 \\u0623\\u0646\\u0646\\u064a \\u062a\\u0648\\u0642\\u0641\\u062a \\u0639\\u0646 \\u0643\\u062a\\u0627\\u0628\\u062a\\u0647\\u0627 \\u0644\\u0623\\u0646\\u0646\\u064a \\u0623\\u0646\\u0634\\u0623\\u062a \\u062d\\u0633\\u0627\\u0628\\u0627\\u064b \\u0641\\u064a \\u0623\\u062d\\u062f \\u0645\\u0648\\u0627\\u0642\\u0639 \\u0627\\u0644\\u062a\\u0648\\u0627\\u0635\\u0644 \\u0627\\u0644\\u0627\\u062c\\u062a\\u0645\\u0627\\u0639\\u064a\\u060c \\u0648\\u0627\\u0646\\u0634\\u063a\\u0644\\u062a \\u0628\\u0625\\u0639\\u062f\\u0627\\u062f\\u0647 \\u0648\\u062a\\u062c\\u0647\\u064a\\u0632\\u0647 \\u0641\\u0623\\u062e\\u0630 \\u0645\\u0646\\u064a \\u0623\\u063a\\u0644\\u0628 \\u0648\\u0642\\u062a \\u0641\\u0631\\u0627\\u063a\\u064a\\u060c \\u0648\\u0623\\u0638\\u0646 \\u0623\\u0646\\u0646\\u064a \\u0633\\u0623\\u062a\\u0627\\u0628\\u0639 \\u0643\\u062a\\u0627\\u0628\\u062a\\u0647\\u0627 \\u0641\\u064a \\u0648\\u0642\\u062a \\u0644\\u0627\\u062d\\u0642 \\u0644\\u0627 \\u0623\\u0633\\u062a\\u0637\\u064a\\u0639 \\u062a\\u062d\\u062f\\u064a\\u062f\\u0647. *\\u0643\\u064a\\u0641 \\u062a\\u062e\\u062a\\u0627\\u0631 \\u0623\\u0628\\u0637\\u0627\\u0644 \\u0623\\u0639\\u0645\\u0627\\u0644\\u0643 \\u0627\\u0644\\u0623\\u062f\\u0628\\u064a\\u0629\\u061f- \\u0623\\u062e\\u062a\\u0627\\u0631 \\u0623\\u0628\\u0637\\u0627\\u0644 \\u0631\\u0648\\u0627\\u064a\\u0627\\u062a\\u064a \\u0645\\u0646 \\u0645\\u062e\\u064a\\u0644\\u062a\\u064a\\u060c \\u0644\\u0643\\u0646 \\u0623\\u062d\\u064a\\u0627\\u0646\\u0627 \\u0623\\u0636\\u0637\\u0631 \\u0644\\u0644\\u0627\\u0633\\u062a\\u0639\\u0627\\u0646\\u0629 \\u0628\\u0645\\u0639\\u0627\\u062c\\u0645 \\u0627\\u0644\\u0623\\u0633\\u0645\\u0627\\u0621 \\u0644\\u0627\\u0633\\u062a\\u0646\\u0628\\u0627\\u0637 \\u0627\\u0644\\u0627\\u0633\\u0645 \\u0627\\u0644\\u0645\\u0646\\u0627\\u0633\\u0628 \\u0645\\u062b\\u0644\\u0645\\u0627 \\u062d\\u062f\\u062b \\u0645\\u0639 \\u0631\\u0648\\u0627\\u064a\\u0629 \\u00ab\\u0628\\u0648\\u0646\\u063a\\u0627\\u0646\\u064a \\u0627\\u0644\\u0634\\u0627\\u0641\\u064a\\u00bb \\u0630\\u0627\\u062a \\u0627\\u0644\\u0623\\u0633\\u0645\\u0627\\u0621 \\u0627\\u0644\\u0625\\u0641\\u0631\\u064a\\u0642\\u064a\\u0629\\u060c \\u0648\\u0631\\u0648\\u0627\\u064a\\u0629 \\u00ab\\u0644\\u063a\\u0632 \\u0635\\u0648\\u0631\\u0629 \\u0645\\u0646 \\u0627\\u0644\\u0643\\u0648\\u0643\\u0628 \\u0627\\u0644\\u0623\\u062d\\u0645\\u0631\\u00bb \\u0630\\u0627\\u062a \\u0627\\u0644\\u0623\\u0633\\u0645\\u0627\\u0621 \\u0627\\u0644\\u0647\\u0648\\u0644\\u0646\\u062f\\u064a\\u0629 \\u0648\\u0627\\u0644\\u0631\\u0648\\u0633\\u064a\\u0629 \\u0648\\u0627\\u0644\\u0647\\u0646\\u062f\\u064a\\u0629\\u060c \\u0641\\u0628\\u0648\\u0646\\u063a\\u0627\\u0646\\u064a \\u0627\\u0633\\u0645 \\u0625\\u0641\\u0631\\u064a\\u0642\\u064a \\u0623\\u0635\\u064a\\u0644 \\u0645\\u0627 \\u0632\\u0627\\u0644 \\u0645\\u0633\\u062a\\u062e\\u062f\\u0645\\u0627\\u064b \\u062d\\u062a\\u0649 \\u0627\\u0644\\u0622\\u0646 \\u0648\\u064a\\u0639\\u0646\\u064a \\u0627\\u0644\\u0648\\u0641\\u064a \\u0627\\u0644\\u0645\\u062e\\u0644\\u0635\\u060c \\u0648\\u0627\\u0633\\u0645 \\u0627\\u0644\\u0623\\u0645 \\u0645\\u0627\\u0631\\u064a\\u062a \\u064a\\u0639\\u0646\\u064a \\u0644\\u0624\\u0644\\u0624\\u0629\\u060c \\u0648\\u0647\\u0646\\u0627\\u0643 \\u0627\\u0644\\u0637\\u0628\\u064a\\u0628 \\u0632\\u0627\\u064a\\u0631\\u064a \\u0623\\u064a \\u0646\\u0647\\u0631\\u060c \\u0648\\u0646\\u0648\\u0645\\u0627\\u0644\\u0627\\u063a\\u0627 \\u0646\\u0648\\u0631 \\u0627\\u0644\\u0634\\u0645\\u0633\\u060c \\u0648\\u0644\\u064a\\u0633\\u064a\\u062f\\u064a \\u0627\\u0645\\u0631\\u0623\\u0629 \\u0645\\u0646 \\u0646\\u0648\\u0631 \\u0648\\u0647\\u0643\\u0630\\u0627 \\u062f\\u0648\\u0627\\u0644\\u064a\\u0643. *\\u0645\\u0627 \\u0647\\u064a \\u0637\\u0628\\u064a\\u0639\\u0629 \\u0642\\u0631\\u0627\\u0621\\u0627\\u062a\\u0643\\u061f \\u0648\\u0645\\u0646 \\u0647\\u0648 \\u0627\\u0644\\u0643\\u0627\\u062a\\u0628 \\u0627\\u0644\\u0645\\u0641\\u0636\\u0644 \\u0644\\u062f\\u064a\\u0643 \\u0648\\u0644\\u0645\\u0627\\u0630\\u0627\\u061f- \\u0628\\u0627\\u0644\\u0646\\u0633\\u0628\\u0629 \\u0644\\u0642\\u0631\\u0627\\u0621\\u0627\\u062a\\u064a \\u0646\\u0627\\u062f\\u0631\\u0627\\u064b \\u0645\\u0627 \\u0623\\u0642\\u0631\\u0623 \\u0627\\u0644\\u0631\\u0648\\u0627\\u064a\\u0627\\u062a\\u060c \\u0625\\u0630 \\u062a\\u0633\\u062a\\u0647\\u0648\\u064a\\u0646\\u064a \\u0643\\u062a\\u0628 \\u0627\\u0644\\u0639\\u0644\\u0648\\u0645 \\u0643\\u0627\\u0644\\u0630\\u0631\\u0651\\u0629 \\u0648\\u0627\\u0644\\u0641\\u064a\\u0632\\u064a\\u0627\\u0621 \\u0648\\u0627\\u0644\\u0643\\u064a\\u0645\\u064a\\u0627\\u0621\\u060c \\u0625\\u0636\\u0627\\u0641\\u0629 \\u0625\\u0644\\u0649 \\u0627\\u0644\\u062a\\u0627\\u0631\\u064a\\u062e \\u0648\\u0627\\u0644\\u0633\\u064a\\u0631 \\u0627\\u0644\\u0630\\u0627\\u062a\\u064a\\u0629\\u060c \\u0648\\u0625\\u0646 \\u0643\\u0627\\u0646 \\u0647\\u0646\\u0627\\u0644\\u0643 \\u0643\\u0627\\u062a\\u0628 \\u0623\\u0639\\u0634\\u0642 \\u0643\\u062a\\u0628\\u0647 \\u0641\\u0647\\u0648 \\u062c\\u0648\\u0644 \\u0641\\u064a\\u0631\\u0646 \\u0627\\u0644\\u0645\\u0644\\u0642\\u0628 \\u0628\\u0623\\u0628\\u064a \\u0627\\u0644\\u062e\\u064a\\u0627\\u0644 \\u0627\\u0644\\u0639\\u0644\\u0645\\u064a\\u060c \\u0648\\u0623\\u0645\\u064a\\u0644 \\u0623\\u062d\\u064a\\u0627\\u0646\\u0627\\u064b \\u0644\\u0642\\u0631\\u0627\\u0621\\u0629 \\u0623\\u0639\\u0645\\u0627\\u0644 \\u062c\\u064a \\u0643\\u064a \\u0631\\u0648\\u0644\\u0646\\u063a \\u0645\\u0624\\u0644\\u0641\\u0629 \\u0633\\u0644\\u0633\\u0644\\u0629 \\u0647\\u0627\\u0631\\u064a \\u0628\\u0648\\u062a\\u0631 \\u0648\\u0628\\u0639\\u0636 \\u0627\\u0644\\u0642\\u0635\\u0635 \\u0627\\u0644\\u0623\\u062e\\u0631\\u0649\\u060c \\u0625\\u0630 \\u064a\\u0639\\u062c\\u0628\\u0646\\u064a \\u0623\\u0633\\u0644\\u0648\\u0628\\u0647\\u0627 \\u0627\\u0644\\u0645\\u0628\\u0647\\u0631 \\u062c\\u062f\\u0627\\u064b \\u0641\\u064a \\u0627\\u0644\\u062e\\u064a\\u0627\\u0644\\u060c \\u0648\\u0642\\u0635\\u0629 \\u0646\\u062c\\u0627\\u062d\\u0647\\u0627 \\u0627\\u0644\\u0645\\u0644\\u0647\\u0645\\u0629 \\u062c\\u062f\\u0627\\u064b \\u0628\\u0627\\u0644\\u0646\\u0633\\u0628\\u0629 \\u0644\\u064a\\u060c \\u0648\\u0645\\u0646 \\u0627\\u0644\\u0643\\u062a\\u0628 \\u0627\\u0644\\u0639\\u0631\\u0628\\u064a\\u0629 \\u062a\\u0633\\u062a\\u0647\\u0648\\u064a\\u0646\\u064a \\u0643\\u062a\\u0627\\u0628\\u0627\\u062a \\u062c\\u0645\\u0627\\u0644 \\u0627\\u0644\\u0634\\u062d\\u064a\\u060c \\u0625\\u0630 \\u0625\\u0646 \\u0633\\u0637\\u0648\\u0631 \\u0643\\u062a\\u0627\\u0628\\u0627\\u062a\\u0647 \\u062a\\u062d\\u062a\\u0648\\u064a \\u0639\\u0644\\u0649 \\u062c\\u0645\\u0644 \\u0641\\u0644\\u0633\\u0641\\u064a\\u0629 \\u0639\\u0645\\u064a\\u0642\\u0629 \\u0644\\u0647\\u0627 \\u0644\\u0630\\u062a\\u0647\\u0627 \\u0627\\u0644\\u062e\\u0627\\u0635\\u0629 \\u0641\\u064a \\u0646\\u0641\\u0633\\u064a\\u060c \\u0641\\u0647\\u0648 \\u064a\\u0633\\u062a\\u0637\\u064a\\u0639 \\u0623\\u0646 \\u064a\\u0634\\u0627\\u0647\\u062f \\u0627\\u0644\\u0623\\u0645\\u0648\\u0631 \\u0645\\u0646 \\u0632\\u0627\\u0648\\u064a\\u0629 \\u0645\\u062e\\u062a\\u0644\\u0641\\u0629. *\\u0645\\u0627 \\u0623\\u0647\\u0645 \\u0627\\u0644\\u062a\\u062d\\u062f\\u064a\\u0627\\u062a \\u0627\\u0644\\u062a\\u064a \\u0648\\u0627\\u062c\\u0647\\u062a\\u0643 \\u0623\\u062b\\u0646\\u0627\\u0621 \\u0631\\u062d\\u0644\\u062a\\u0643 \\u0645\\u0639 \\u0627\\u0644\\u0643\\u0644\\u0645\\u0629\\u061f- \\u0627\\u0644\\u062a\\u062d\\u062f\\u064a\\u0627\\u062a \\u0627\\u0644\\u062a\\u064a \\u062a\\u0648\\u0627\\u062c\\u0647 \\u0627\\u0644\\u0643\\u0627\\u062a\\u0628 \\u0643\\u062b\\u064a\\u0631\\u0629\\u060c \\u0641\\u0641\\u064a \\u0627\\u0644\\u0628\\u062f\\u0627\\u064a\\u0629 \\u064a\\u062a\\u0631\\u062a\\u0628 \\u0639\\u0644\\u064a\\u0647 \\u0623\\u0646 \\u064a\\u062a\\u063a\\u0644\\u0628 \\u0639\\u0644\\u0649 \\u0646\\u0641\\u0633\\u0647\\u060c \\u0641\\u0627\\u0644\\u0643\\u062a\\u0627\\u0628\\u0629 \\u0623\\u0645\\u0631 \\u0645\\u0631\\u0647\\u0642 \\u0648\\u064a\\u062a\\u0637\\u0644\\u0628 \\u0645\\u062c\\u0647\\u0648\\u062f\\u0627\\u064b \\u0641\\u0643\\u0631\\u064a\\u0627\\u064b \\u0648\\u062d\\u062a\\u0649 \\u062c\\u0633\\u062f\\u064a\\u0627\\u064b \\u0643\\u0628\\u064a\\u0631\\u0627\\u064b\\u060c \\u0641\\u0639\\u0644\\u064a\\u0647 \\u0623\\u0646 \\u064a\\u0624\\u0644\\u0641 \\u0639\\u0627\\u0644\\u0645\\u0627\\u064b \\u0645\\u062a\\u0643\\u0627\\u0645\\u0644\\u0627\\u064b \\u0628\\u0643\\u0644 \\u062a\\u0641\\u0627\\u0635\\u064a\\u0644\\u0647 \\u0648\\u064a\\u062a\\u062e\\u064a\\u0644 \\u0643\\u0644 \\u0630\\u0644\\u0643\\u060c \\u062b\\u0645 \\u0625\\u0646 \\u0627\\u0644\\u062c\\u0644\\u0648\\u0633 \\u0644\\u0641\\u062a\\u0631\\u0627\\u062a \\u0637\\u0648\\u064a\\u0644\\u0629 \\u0623\\u0645\\u0627\\u0645 \\u0627\\u0644\\u062d\\u0627\\u0633\\u0648\\u0628 \\u0623\\u0645\\u0631 \\u0645\\u0631\\u0647\\u0642 \\u0644\\u0644\\u0639\\u064a\\u0646\\u064a\\u0646 \\u0648\\u0627\\u0644\\u0638\\u0647\\u0631\\u060c \\u0623\\u0636\\u064a\\u0641\\u064a \\u0625\\u0644\\u0649 \\u0630\\u0644\\u0643 \\u0627\\u0644\\u062a\\u063a\\u0644\\u0628 \\u0639\\u0644\\u0649 \\u0627\\u0644\\u0623\\u0641\\u0643\\u0627\\u0631 \\u0627\\u0644\\u0633\\u0644\\u0628\\u064a\\u0629 \\u0627\\u0644\\u062a\\u064a \\u062a\\u062f\\u0639\\u0648\\u0647 \\u0644\\u0644\\u0631\\u0627\\u062d\\u0629 \\u0648\\u062a\\u0631\\u0643 \\u0627\\u0644\\u0639\\u0645\\u0644\\u060c \\u0641\\u0625\\u0646 \\u0646\\u062c\\u062d \\u0641\\u064a \\u0630\\u0644\\u0643 \\u0633\\u064a\\u0643\\u0648\\u0646 \\u0627\\u0644\\u0628\\u0627\\u0642\\u064a \\u0623\\u0633\\u0647\\u0644 \\u0644\\u0643\\u0646 \\u0644\\u0627 \\u064a\\u062e\\u0644\\u0648 \\u0645\\u0646 \\u0627\\u0644\\u062a\\u062d\\u062f\\u064a\\u060c \\u0641\\u0627\\u0644\\u0628\\u062d\\u062b \\u0639\\u0646 \\u0646\\u0627\\u0634\\u0631 \\u064a\\u0642\\u0628\\u0644 \\u0628\\u0646\\u0634\\u0631 \\u0627\\u0644\\u0639\\u0645\\u0644 \\u0623\\u0645\\u0631 \\u0645\\u062a\\u0639\\u0628\\u060c \\u0648\\u0625\\u0646 \\u0642\\u0628\\u0644 \\u0623\\u062d\\u062f\\u0647\\u0645 \\u0628\\u0627\\u0644\\u0639\\u0645\\u0644 \\u0641\\u0625\\u0646\\u0647 \\u0641\\u064a \\u0627\\u0644\\u063a\\u0627\\u0644\\u0628 \\u064a\\u0637\\u0644\\u0628 \\u0627\\u0644\\u0643\\u062b\\u064a\\u0631 \\u0645\\u0646 \\u0627\\u0644\\u062a\\u0635\\u062d\\u064a\\u062d \\u0648\\u0627\\u0644\\u062a\\u063a\\u064a\\u064a\\u0631\\u060c \\u0648\\u0645\\u0646\\u0647\\u0645 \\u0645\\u0646 \\u064a\\u0637\\u0627\\u0644\\u0628 \\u0627\\u0644\\u0643\\u0627\\u062a\\u0628 \\u0628\\u0627\\u0633\\u062a\\u062e\\u0631\\u0627\\u062c \\u0627\\u0644\\u0623\\u0648\\u0631\\u0627\\u0642 \\u0627\\u0644\\u0631\\u0633\\u0645\\u064a\\u0629 \\u0644\\u0644\\u0639\\u0645\\u0644 \\u0628\\u0646\\u0641\\u0633\\u0647 \\u0645\\u0627 \\u064a\\u062c\\u0644\\u0628 \\u0627\\u0644\\u0645\\u0634\\u0642\\u0629 \\u0648\\u0627\\u0644\\u0639\\u0646\\u0627\\u0621\\u060c \\u0648\\u0628\\u0639\\u062f \\u0643\\u0644 \\u0630\\u0644\\u0643 \\u064a\\u0642\\u0648\\u0645 \\u0627\\u0644\\u0646\\u0627\\u0634\\u0631 \\u0628\\u062a\\u062c\\u0647\\u064a\\u0632 \\u0627\\u0644\\u0646\\u0633\\u062e\\u0629 \\u0644\\u0644\\u0643\\u062a\\u0627\\u0628\\u0629 \\u0648\\u064a\\u0631\\u0633\\u0644\\u0647\\u0627 \\u0644\\u0644\\u0643\\u0627\\u062a\\u0628 \\u0644\\u064a\\u0631\\u0627\\u062c\\u0639\\u0647\\u0627 \\u0645\\u062c\\u062f\\u062f\\u0627\\u064b \\u0648\\u0644\\u0644\\u0645\\u0631\\u0629 \\u0627\\u0644\\u0623\\u062e\\u064a\\u0631\\u0629 \\u0648\\u064a\\u0645\\u0647\\u0644\\u0647 \\u0641\\u062a\\u0631\\u0629 \\u0644\\u0627 \\u062a\\u062a\\u0639\\u062f\\u0649 \\u0627\\u0644\\u062e\\u0645\\u0633\\u0629 \\u0639\\u0634\\u0631 \\u064a\\u0648\\u0645\\u0627\\u064b \\u0641\\u064a \\u0623\\u063a\\u0644\\u0628 \\u0627\\u0644\\u0623\\u062d\\u064a\\u0627\\u0646\\u060c \\u0648\\u062a\\u0643\\u0648\\u0646 \\u0647\\u064a \\u0627\\u0644\\u0641\\u0631\\u0635\\u0629 \\u0627\\u0644\\u0623\\u062e\\u064a\\u0631\\u0629 \\u0644\\u0644\\u0643\\u0627\\u062a\\u0628 \\u0644\\u0625\\u062c\\u0631\\u0627\\u0621 \\u0627\\u0644\\u062a\\u063a\\u064a\\u064a\\u0631\\u0627\\u062a\\u060c \\u0645\\u0627 \\u064a\\u062f\\u0641\\u0639\\u0647 \\u0644\\u0644\\u0627\\u0646\\u0634\\u063a\\u0627\\u0644 \\u0641\\u064a \\u0647\\u0630\\u0647 \\u0627\\u0644\\u0641\\u062a\\u0631\\u0629 \\u0648\\u0627\\u0644\\u063a\\u0631\\u0642 \\u0641\\u064a \\u0639\\u0645\\u0644\\u0647 \\u0625\\u0644\\u0649 \\u062c\\u0627\\u0646\\u0628 \\u0623\\u0639\\u0628\\u0627\\u0621 \\u062d\\u064a\\u0627\\u062a\\u0647 \\u0627\\u0644\\u064a\\u0648\\u0645\\u064a\\u0629 \\u0645\\u0646 \\u0639\\u0645\\u0644\\u064d \\u0648\\u0639\\u0627\\u0626\\u0644\\u0629\\u060c \\u0648\\u0647\\u0630\\u0627 \\u0641\\u064a \\u062d\\u062f \\u0630\\u0627\\u062a\\u0647 \\u064a\\u0634\\u0643\\u0644 \\u0636\\u063a\\u0637\\u0627\\u064b \\u0643\\u0628\\u064a\\u0631\\u0627\\u064b \\u0639\\u0644\\u064a\\u0647 \\u0648\\u0645\\u062f\\u0639\\u0627\\u0629 \\u0644\\u0644\\u062a\\u0631\\u0627\\u062c\\u0639\\u060c \\u0644\\u0643\\u0646 \\u0645\\u0627 \\u0623\\u0646 \\u064a\\u062a\\u0645 \\u0637\\u0628\\u0627\\u0639\\u0629 \\u0627\\u0644\\u0639\\u0645\\u0644 \\u0648\\u064a\\u0645\\u0633\\u0643\\u0647 \\u0627\\u0644\\u0643\\u0627\\u062a\\u0628 \\u0628\\u064a\\u0646 \\u064a\\u062f\\u064a\\u0647 \\u062d\\u062a\\u0649 \\u064a\\u062a\\u0628\\u062f\\u0644 \\u0627\\u0644\\u062a\\u0639\\u0628 \\u0625\\u0644\\u0649 \\u0633\\u0631\\u0648\\u0631\\u064d \\u063a\\u0627\\u0645\\u0631\\u060c \\u0647\\u0648 \\u0634\\u0639\\u0648\\u0631 \\u064a\\u0634\\u0628\\u0647 \\u0625\\u0644\\u0649 \\u062d\\u062f \\u0643\\u0628\\u064a\\u0631 \\u0627\\u0644\\u0634\\u0639\\u0648\\u0631 \\u0628\\u0648\\u0644\\u0627\\u062f\\u0629 \\u0637\\u0641\\u0644.\",\n          \"\\u0623\\u0628\\u0648\\u0638\\u0628\\u064a - \\u0639\\u0644\\u064a \\u0623\\u0633\\u0639\\u062f:\\u062d\\u0642\\u0642\\u062a \\u0627\\u0644\\u0623\\u0633\\u0647\\u0645 \\u0645\\u0643\\u0627\\u0633\\u0628 \\u062c\\u062f\\u064a\\u062f\\u0629 \\u0641\\u064a \\u0642\\u064a\\u0645\\u062a\\u0647\\u0627 \\u0627\\u0644\\u0633\\u0648\\u0642\\u064a\\u0629 \\u0628\\u0642\\u064a\\u0645\\u0629 239 \\u0645\\u0644\\u064a\\u0648\\u0646 \\u062f\\u0631\\u0647\\u0645 \\u0644\\u062a\\u0631\\u062a\\u0641\\u0639 \\u0625\\u0644\\u0649 54 .803 \\u0645\\u0644\\u064a\\u0627\\u0631 \\u062f\\u0631\\u0647\\u0645\\u060c \\u0648\\u0633\\u0637 \\u062a\\u062d\\u0633\\u0646 \\u062c\\u064a\\u062f \\u0641\\u064a \\u0627\\u0644\\u0633\\u064a\\u0648\\u0644\\u0629 \\u0627\\u0644\\u062a\\u064a \\u062a\\u062c\\u0627\\u0648\\u0632\\u062a 267 .2 \\u0645\\u0644\\u064a\\u0627\\u0631 \\u062f\\u0631\\u0647\\u0645\\u060c \\u0648\\u0627\\u0633\\u062a\\u062d\\u0648\\u0630 \\u0633\\u0647\\u0645 \\u0623\\u0631\\u0627\\u0628\\u062a\\u0643 \\u0627\\u0644\\u0642\\u0627\\u0628\\u0636\\u0629 \\u0639\\u0644\\u0649 1 .51% \\u0645\\u0646 \\u0625\\u062c\\u0645\\u0627\\u0644\\u064a \\u0627\\u0644\\u062a\\u062f\\u0627\\u0648\\u0644 \\u0641\\u064a \\u0633\\u0648\\u0642\\u064a \\u0623\\u0628\\u0648\\u0638\\u0628\\u064a \\u0648\\u062f\\u0628\\u064a \\u0627\\u0644\\u0645\\u0627\\u0644\\u064a\\u064a\\u0646\\u060c \\u0648\\u0647\\u0648 \\u0645\\u0627 \\u0623\\u062f\\u0649 \\u0625\\u0644\\u0649 \\u0636\\u063a\\u0637 \\u0627\\u0644\\u062a\\u062f\\u0627\\u0648\\u0644 \\u0639\\u0644\\u0649 \\u0627\\u0644\\u0639\\u062f\\u064a\\u062f \\u0645\\u0646 \\u0627\\u0644\\u0623\\u0633\\u0647\\u0645 \\u0628\\u0639\\u062f \\u0642\\u064a\\u0627\\u0645 \\u0645\\u0633\\u062a\\u062b\\u0645\\u0631\\u064a\\u0646 \\u0628\\u0627\\u0644\\u062a\\u0633\\u064a\\u064a\\u0644 \\u0639\\u0644\\u0649 \\u0628\\u0639\\u0636 \\u0627\\u0644\\u0623\\u0633\\u0647\\u0645 \\u0644\\u0634\\u0631\\u0627\\u0621 \\\"\\u0623\\u0631\\u0627\\u0628\\u062a\\u0643\\\" \\u0627\\u0644\\u0630\\u064a \\u0623\\u063a\\u0644\\u0642 \\u0639\\u0644\\u0649 \\u0627\\u0631\\u062a\\u0641\\u0627\\u0639 \\u0628\\u0646\\u0633\\u0628\\u0629 81 .4% \\u0639\\u0646\\u062f 79 .4 \\u062f\\u0631\\u0647\\u0645 \\u0645\\u062a\\u0623\\u062b\\u0631\\u0627\\u064b \\u0628\\u062a\\u0648\\u0642\\u0639\\u0627\\u062a \\u0628\\u0639\\u0636 \\u0627\\u0644\\u0645\\u0633\\u062a\\u062b\\u0645\\u0631\\u064a\\u0646 \\u0628\\u0642\\u064a\\u0627\\u0645 \\u062d\\u0633\\u0646 \\u0623\\u0633\\u0645\\u064a\\u0643 \\u0627\\u0644\\u0631\\u0626\\u064a\\u0633 \\u0627\\u0644\\u062a\\u0646\\u0641\\u064a\\u0630\\u064a \\u0627\\u0644\\u0633\\u0627\\u0628\\u0642 \\u0644\\u0644\\u0634\\u0631\\u0643\\u0629 \\u0628\\u0628\\u064a\\u0639 \\u062b\\u0644\\u062b \\u062d\\u0635\\u062a\\u0647 \\u0641\\u064a \\u0627\\u0644\\u0634\\u0631\\u0643\\u0629 \\u0628\\u0633\\u0639\\u0631 5 \\u062f\\u0631\\u0627\\u0647\\u0645 \\u0644\\u0644\\u0633\\u0647\\u0645 \\u0627\\u0644\\u0648\\u0627\\u062d\\u062f .\\u0648\\u0627\\u0631\\u062a\\u0641\\u0639 \\u0645\\u0624\\u0634\\u0631 \\u0633\\u0648\\u0642 \\u062f\\u0628\\u064a \\u0627\\u0644\\u0645\\u0627\\u0644\\u064a 23 .0% \\u0639\\u0646\\u062f \\u0645\\u0633\\u062a\\u0648\\u0649 13 .4986 \\u0646\\u0642\\u0637\\u0629\\u060c \\u0648\\u0645\\u0624\\u0634\\u0631 \\u0633\\u0648\\u0642 \\u0623\\u0628\\u0648\\u0638\\u0628\\u064a 26 .0% \\u0639\\u0646\\u062f \\u0645\\u0633\\u062a\\u0648\\u0649 82 .5128 \\u0646\\u0642\\u0637\\u0629 . \\u0648\\u0627\\u0631\\u062a\\u0641\\u0639 \\u0645\\u0624\\u0634\\u0631 \\u0633\\u0648\\u0642 \\u0627\\u0644\\u0625\\u0645\\u0627\\u0631\\u0627\\u062a 03 .0% \\u0639\\u0646\\u062f 12 .5350 \\u0646\\u0642\\u0637\\u0629 \\u0628\\u062f\\u0639\\u0645 \\u0631\\u0626\\u064a\\u0633 \\u0645\\u0646 \\u0623\\u0633\\u0647\\u0645 \\u0634\\u0631\\u0643\\u0627\\u062a \\u0627\\u0644\\u0639\\u0642\\u0627\\u0631 \\u0648\\u0627\\u0644\\u0635\\u0646\\u0627\\u0639\\u0629 \\u0648\\u0627\\u0644\\u062a\\u0623\\u0645\\u064a\\u0646 \\u0627\\u0644\\u062a\\u064a \\u0627\\u0631\\u062a\\u0641\\u0639\\u062a \\u0645\\u0624\\u0634\\u0631\\u0627\\u062a\\u0647\\u0627 \\u0627\\u0644\\u0642\\u0637\\u0627\\u0639\\u064a\\u0629 \\u0628\\u0646\\u0633\\u0628 \\u0645\\u062a\\u0641\\u0627\\u0648\\u062a\\u0629 \\u0623\\u0643\\u062b\\u0631\\u0647\\u0627 \\u0627\\u0631\\u062a\\u0641\\u0627\\u0639\\u0627\\u064b \\u0645\\u0624\\u0634\\u0631 \\u0627\\u0644\\u0639\\u0642\\u0627\\u0631 \\u0628\\u0646\\u0633\\u0628\\u0629 877 .0% . \\u0648\\u062a\\u0645 \\u062a\\u062f\\u0627\\u0648\\u0644 \\u0623\\u0633\\u0647\\u0645 65 \\u0634\\u0631\\u0643\\u0629 \\u0628\\u0645\\u0642\\u062f\\u0627\\u0631 27 .748 \\u0645\\u0644\\u064a\\u0648\\u0646 \\u0633\\u0647\\u0645 \\u0646\\u0641\\u0630\\u062a \\u0645\\u0646 \\u062e\\u0644\\u0627\\u0644 11991 \\u0635\\u0641\\u0642\\u0629 \\u0628\\u0642\\u064a\\u0645\\u0629 267 .2 \\u0645\\u0644\\u064a\\u0627\\u0631 \\u062f\\u0631\\u0647\\u0645\\u060c \\u0648\\u0627\\u0633\\u062a\\u062d\\u0648\\u0630\\u062a \\u0623\\u0633\\u0647\\u0645 \\u0634\\u0631\\u0643\\u0627\\u062a \\u0627\\u0644\\u0639\\u0642\\u0627\\u0631 \\u0639\\u0644\\u0649 \\u0627\\u0644\\u062d\\u0635\\u0629 \\u0627\\u0644\\u0623\\u0643\\u0628\\u0631 \\u0645\\u0646 \\u0627\\u0644\\u0633\\u064a\\u0648\\u0644\\u0629 \\u0628\\u0642\\u064a\\u0645\\u0629 805 .1 \\u0645\\u0644\\u064a\\u0627\\u0631 \\u062f\\u0631\\u0647\\u0645 .\\u0648\\u062a\\u0635\\u062f\\u0631 \\u0633\\u0647\\u0645 \\u0623\\u0631\\u0627\\u0628\\u062a\\u0643 \\u0642\\u0627\\u0626\\u0645\\u0629 \\u0627\\u0644\\u0623\\u0633\\u0647\\u0645 \\u0627\\u0644\\u0623\\u0643\\u062b\\u0631 \\u062a\\u062f\\u0627\\u0648\\u0644\\u0627\\u064b \\u0628\\u0642\\u064a\\u0645\\u0629 159 .1 \\u0645\\u0644\\u064a\\u0627\\u0631 \\u062f\\u0631\\u0647\\u0645\\u060c \\u0648\\u0623\\u063a\\u0644\\u0642 \\u0633\\u0639\\u0631 \\u0627\\u0644\\u0633\\u0647\\u0645 \\u0639\\u0644\\u0649 \\u0627\\u0631\\u062a\\u0641\\u0627\\u0639 \\u0628\\u0646\\u0633\\u0628\\u0629 81 .4% \\u0639\\u0646\\u062f 79 .4 \\u062f\\u0631\\u0647\\u0645\\u060c \\u0648\\u0646\\u0641\\u0630\\u062a \\u0635\\u0641\\u0642\\u0627\\u062a \\u0639\\u0644\\u0649 \\u0627\\u0644\\u0633\\u0647\\u0645 \\u0639\\u0646\\u062f \\u0633\\u0639\\u0631 94 .4 \\u062f\\u0631\\u0647\\u0645\\u060c \\u0648\\u0647\\u0648 \\u0623\\u0639\\u0644\\u0649 \\u0633\\u0639\\u0631 \\u0646\\u0641\\u0630 \\u0639\\u0644\\u064a\\u0629 \\u062e\\u0644\\u0627\\u0644 \\u062c\\u0644\\u0633\\u0629 \\u064a\\u0648\\u0645 \\u0623\\u0645\\u0633\\u060c \\u0648\\u0639\\u0627\\u062f \\u0627\\u0644\\u0633\\u0647\\u0645 \\u0648\\u062a\\u0631\\u0627\\u062c\\u0639 \\u0625\\u0644\\u0649 79 .4 \\u062f\\u0631\\u0647\\u0645 \\u062a\\u062d\\u062a \\u0636\\u063a\\u0637 \\u0639\\u0645\\u0644\\u064a\\u0627\\u062a \\u062c\\u0646\\u064a \\u0627\\u0644\\u0623\\u0631\\u0628\\u0627\\u062d \\u062e\\u0644\\u0627\\u0644 \\u0627\\u0644\\u062c\\u0644\\u0633\\u0629 \\u0646\\u0641\\u0633\\u0647\\u0627 . \\u0648\\u062c\\u0627\\u0621 \\u0633\\u0647\\u0645 \\u0627\\u0644\\u062f\\u0627\\u0631 \\u0627\\u0644\\u0639\\u0642\\u0627\\u0631\\u064a\\u0629 \\u0641\\u064a \\u0627\\u0644\\u0645\\u0631\\u0643\\u0632 \\u0627\\u0644\\u062b\\u0627\\u0646\\u064a \\u0628\\u062a\\u062f\\u0627\\u0648\\u0644 2 .268 \\u0645\\u0644\\u064a\\u0648\\u0646 \\u062f\\u0631\\u0647\\u0645\\u060c \\u0648\\u0627\\u0631\\u062a\\u0641\\u0639 \\u0633\\u0639\\u0631 \\u0627\\u0644\\u0633\\u0647\\u0645 8 \\u0641\\u0644\\u0648\\u0633 \\u0639\\u0646\\u062f 02 .4 \\u062f\\u0631\\u0647\\u0645 . \\u0648\\u062c\\u0627\\u0621 \\u0633\\u0647\\u0645 \\u0625\\u0639\\u0645\\u0627\\u0631 \\u0627\\u0644\\u0639\\u0642\\u0627\\u0631\\u064a\\u0629 \\u0641\\u064a \\u0627\\u0644\\u0645\\u0631\\u0643\\u0632 \\u0627\\u0644\\u062b\\u0627\\u0644\\u062b \\u0628\\u062a\\u062f\\u0627\\u0648\\u0644 8 .125 \\u0645\\u0644\\u064a\\u0648\\u0646 \\u062f\\u0631\\u0647\\u0645\\u060c \\u0648\\u062a\\u0631\\u0627\\u062c\\u0639 \\u0627\\u0644\\u0633\\u0647\\u0645 5 \\u0641\\u0644\\u0648\\u0633 \\u0646\\u062d\\u0648 48 .0% \\u0639\\u0646\\u062f 4 .10 \\u062f\\u0631\\u0647\\u0645 . \\u0648\\u0627\\u062d\\u062a\\u0644 \\u0633\\u0647\\u0645 \\u0627\\u0644\\u0627\\u062a\\u062d\\u0627\\u062f \\u0627\\u0644\\u0639\\u0642\\u0627\\u0631\\u064a\\u0629 \\u0627\\u0644\\u0645\\u0631\\u0643\\u0632 \\u0627\\u0644\\u0631\\u0627\\u0628\\u0639 \\u0628\\u062a\\u062f\\u0627\\u0648\\u0644 123 \\u0645\\u0644\\u064a\\u0648\\u0646 \\u062f\\u0631\\u0647\\u0645 \\u0648\\u062a\\u0631\\u0627\\u062c\\u0639 \\u0627\\u0644\\u0633\\u0647\\u0645 \\u0641\\u0644\\u0633\\u0627\\u064b \\u0648\\u0627\\u062d\\u062f\\u0627\\u064b \\u0646\\u062d\\u0648 44 .0% \\u0639\\u0646\\u062f 28 .2 \\u062f\\u0631\\u0647\\u0645 . \\u0648\\u062c\\u0627\\u0621 \\u0633\\u0647\\u0645 \\u0633\\u0648\\u0642 \\u062f\\u0628\\u064a \\u0627\\u0644\\u0645\\u0627\\u0644\\u064a \\u0641\\u064a \\u0627\\u0644\\u0645\\u0631\\u0643\\u0632 \\u0627\\u0644\\u062e\\u0627\\u0645\\u0633 \\u0628\\u062a\\u062f\\u0627\\u0648\\u0644 3 .83 \\u0645\\u0644\\u064a\\u0648\\u0646 \\u062f\\u0631\\u0647\\u0645\\u060c \\u0648\\u062a\\u0631\\u0627\\u062c\\u0639 \\u0627\\u0644\\u0633\\u0647\\u0645 14 .1 % \\u0639\\u0646\\u062f 47 .3 \\u062f\\u0631\\u0647\\u0645 .\\u0648\\u062a\\u0635\\u062f\\u0631 \\u0633\\u0647\\u0645 \\u062f\\u0628\\u064a \\u0627\\u0644\\u0648\\u0637\\u0646\\u064a\\u0629 \\u0644\\u0644\\u062a\\u0623\\u0645\\u064a\\u0646 \\u0642\\u0627\\u0626\\u0645\\u0629 \\u0627\\u0644\\u0623\\u0633\\u0647\\u0645 \\u0627\\u0644\\u0623\\u0643\\u062b\\u0631 \\u0627\\u0631\\u062a\\u0641\\u0627\\u0639\\u0627\\u064b \\u0641\\u064a \\u0627\\u0644\\u0623\\u0633\\u0639\\u0627\\u0631\\u060c \\u0648\\u0635\\u0639\\u062f \\u0627\\u0644\\u0633\\u0647\\u0645 \\u0628\\u0627\\u0644\\u062d\\u062f \\u0627\\u0644\\u0623\\u0639\\u0644\\u0649 71 .14% \\u0639\\u0646\\u062f 9 .3 \\u062f\\u0631\\u0647\\u0645 \\u0645\\u062d\\u0642\\u0642\\u0627\\u064b \\u0645\\u0643\\u0627\\u0633\\u0628 \\u0645\\u0642\\u062f\\u0627\\u0631\\u0647\\u0627 50 \\u0641\\u0644\\u0633\\u0627\\u064b \\u0648\\u0633\\u0637 \\u062a\\u062f\\u0627\\u0648\\u0644\\u0627\\u062a \\u0636\\u0639\\u064a\\u0641\\u0629 \\u0628\\u0644\\u063a\\u062a \\u0623\\u0642\\u0644 \\u0645\\u0646 2000 \\u062f\\u0631\\u0647\\u0645 \\u0641\\u0642\\u0637 . \\u0643\\u0645\\u0627 \\u0627\\u0631\\u062a\\u0641\\u0639 \\u0633\\u0647\\u0645 \\u0627\\u0644\\u0647\\u0644\\u0627\\u0644 \\u0627\\u0644\\u0623\\u062e\\u0636\\u0631 \\u0644\\u0644\\u062a\\u0623\\u0645\\u064a\\u0646 12 .6% \\u0625\\u0644\\u0649 4_ .1 \\u062f\\u0631\\u0647\\u0645 . \\u0648\\u0641\\u064a \\u0627\\u0644\\u0645\\u0642\\u0627\\u0628\\u0644 \\u062a\\u0635\\u062f\\u0631 \\u0633\\u0647\\u0645 \\\"\\u0623\\u0631\\u064a\\u062c\\\" \\u0642\\u0627\\u0626\\u0645\\u0629 \\u0627\\u0644\\u0623\\u0633\\u0647\\u0645 \\u0627\\u0644\\u0623\\u0643\\u062b\\u0631 \\u062a\\u0631\\u0627\\u062c\\u0639\\u0627\\u064b \\u0641\\u064a \\u0627\\u0644\\u0623\\u0633\\u0639\\u0627\\u0631\\u060c \\u0648\\u0647\\u0628\\u0637 \\u0627\\u0644\\u0633\\u0647\\u0645 \\u0628\\u0627\\u0644\\u062d\\u062f \\u0627\\u0644\\u0623\\u062f\\u0646\\u0649 10% \\u0639\\u0646\\u062f 97 .2 \\u062f\\u0631\\u0647\\u0645 . \\u0643\\u0645\\u0627 \\u0647\\u0628\\u0637 \\u0633\\u0647\\u0645 \\u0627\\u0644\\u0628\\u0646\\u0643 \\u0627\\u0644\\u0639\\u0631\\u0628\\u064a \\u0627\\u0644\\u0645\\u062a\\u062d\\u062f 43 .8% \\u0639\\u0646\\u062f 41 .6 \\u062f\\u0631\\u0647\\u0645 .\\u0648\\u0627\\u062a\\u062c\\u0647 \\u0627\\u0644\\u0645\\u0633\\u062a\\u062b\\u0645\\u0631\\u0648\\u0646 \\u0627\\u0644\\u0645\\u0648\\u0627\\u0637\\u0646\\u0648\\u0646 \\u062e\\u0644\\u0627\\u0644 \\u062c\\u0644\\u0633\\u0629 \\u0623\\u0645\\u0633 \\u0646\\u062d\\u0648 \\u0634\\u0631\\u0627\\u0621 \\u0627\\u0644\\u0623\\u0633\\u0647\\u0645 \\u0628\\u0642\\u064a\\u0645\\u0629 437 .1 \\u0645\\u0644\\u064a\\u0627\\u0631 \\u062f\\u0631\\u0647\\u0645\\u060c \\u0648\\u0628\\u0644\\u063a\\u062a \\u0645\\u0628\\u064a\\u0639\\u0627\\u062a\\u0647\\u0645 376 .1 \\u0645\\u0644\\u064a\\u0627\\u0631 \\u062f\\u0631\\u0647\\u0645\\u060c \\u0648\\u0648\\u0635\\u0644 \\u0635\\u0627\\u0641\\u064a \\u0627\\u0633\\u062a\\u062b\\u0645\\u0627\\u0631\\u062a\\u0647\\u0645 \\u0625\\u0644\\u0649 6 .60 \\u0645\\u0644\\u064a\\u0648\\u0646 \\u062f\\u0631\\u0647\\u0645 \\u0645\\u062d\\u0635\\u0644\\u0629 \\u0634\\u0631\\u0627\\u0621 . \\u0643\\u0645\\u0627 \\u0627\\u062a\\u062c\\u0647 \\u0627\\u0644\\u0645\\u0633\\u062a\\u062b\\u0645\\u0631\\u0648\\u0646 \\u0627\\u0644\\u0623\\u062c\\u0627\\u0646\\u0628 \\u0645\\u0646 \\u063a\\u064a\\u0631 \\u0627\\u0644\\u0639\\u0631\\u0628 \\u0646\\u062d\\u0648 \\u0634\\u0631\\u0627\\u0621 \\u0627\\u0644\\u0623\\u0633\\u0647\\u0645 \\u0628\\u0642\\u064a\\u0645\\u0629 8 .267 \\u0645\\u0644\\u064a\\u0648\\u0646 \\u062f\\u0631\\u0647\\u0645\\u060c \\u0648\\u0628\\u0644\\u063a\\u062a \\u0645\\u0628\\u064a\\u0639\\u0627\\u062a\\u0647\\u0645 7 .237 \\u0645\\u0644\\u064a\\u0648\\u0646 \\u062f\\u0631\\u0647\\u0645\\u060c \\u0648\\u0648\\u0635\\u0644 \\u0635\\u0627\\u0641\\u064a \\u0627\\u0633\\u062a\\u062b\\u0645\\u0627\\u0631\\u0627\\u062a\\u0647\\u0645 \\u0625\\u0644\\u0649 2 .30 \\u0645\\u0644\\u064a\\u0648\\u0646 \\u062f\\u0631\\u0647\\u0645 \\u0645\\u062d\\u0635\\u0644\\u0629 \\u0634\\u0631\\u0627\\u0621 . \\u0648\\u0631\\u0643\\u0632 \\u0627\\u0644\\u0645\\u0633\\u062a\\u062b\\u0645\\u0631\\u0648\\u0646 \\u0627\\u0644\\u0623\\u062c\\u0627\\u0646\\u0628 \\u0645\\u0634\\u062a\\u0631\\u064a\\u0627\\u062a\\u0647\\u0645 \\u0639\\u0644\\u0649 \\u0623\\u0633\\u0647\\u0645 \\u0645\\u062d\\u062f\\u062f\\u0629\\u060c \\u0648\\u0632\\u0627\\u062f\\u0648\\u0627 \\u0645\\u0644\\u0643\\u064a\\u062a\\u0647\\u0645 \\u0641\\u064a \\u0627\\u0644\\u0627\\u062a\\u062d\\u0627\\u062f \\u0627\\u0644\\u0639\\u0642\\u0627\\u0631\\u064a\\u0629 \\u0628\\u0645\\u0642\\u062f\\u0627\\u0631 5 .3 \\u0645\\u0644\\u064a\\u0648\\u0646 \\u0633\\u0647\\u0645\\u060c \\u0648\\u0641\\u064a \\u0631\\u0623\\u0633 \\u0627\\u0644\\u062e\\u064a\\u0645\\u0629 \\u0628\\u0645\\u0642\\u062f\\u0627\\u063199 .2 \\u0645\\u0644\\u064a\\u0648\\u0646 \\u0633\\u0647\\u0645\\u060c \\u0648\\u0641\\u064a \\u0625\\u0639\\u0645\\u0627\\u0631 \\u0627\\u0644\\u0639\\u0642\\u0627\\u0631\\u064a\\u0629 \\u0628\\u0645\\u0642\\u062f\\u0627\\u0631 7 .2 \\u0645\\u0644\\u064a\\u0648\\u0646 \\u0633\\u0647\\u0645\\u060c \\u0648\\u0641\\u064a \\u0627\\u0644\\u062f\\u0627\\u0631 \\u0627\\u0644\\u0639\\u0642\\u0627\\u0631\\u064a\\u0629 \\u0628\\u0645\\u0642\\u062f\\u0627\\u0631 4 .1 \\u0645\\u0644\\u064a\\u0648\\u0646 \\u0633\\u0647\\u0645 . \\u0648\\u0641\\u064a \\u0627\\u0644\\u0645\\u0642\\u0627\\u0628\\u0644 \\u062e\\u0641\\u0636\\u0648\\u0627 \\u0645\\u0644\\u0643\\u064a\\u062a\\u0647\\u0645 \\u0641\\u064a \\u0623\\u0631\\u0627\\u0628\\u062a\\u0643 \\u0628\\u0645\\u0642\\u062f\\u0627\\u0631 7 .5 \\u0645\\u0644\\u064a\\u0648\\u0646 \\u0633\\u0647\\u0645\\u060c \\u0648\\u0641\\u064a \\u062f\\u0628\\u064a \\u0627\\u0644\\u0645\\u0627\\u0644\\u064a \\u0628\\u0645\\u0642\\u062f\\u0627\\u0631 4 .2 \\u0645\\u0644\\u064a\\u0648\\u0646 \\u0633\\u0647\\u0645\\u060c \\u0648\\u0641\\u064a \\u0633\\u064a\\u0631\\u0627\\u0645\\u064a\\u0643 \\u0631\\u0623\\u0633 \\u0627\\u0644\\u062e\\u064a\\u0645\\u0629 \\u0628\\u0645\\u0642\\u062f\\u0627\\u0631 4 .640 \\u0623\\u0644\\u0641 \\u0633\\u0647\\u0645 .\\u0648\\u0627\\u062a\\u062c\\u0647 \\u0627\\u0644\\u0645\\u0633\\u062a\\u062b\\u0645\\u0631\\u0648\\u0646 \\u0627\\u0644\\u062e\\u0644\\u064a\\u062c\\u064a\\u0648\\u0646 \\u0648\\u0627\\u0644\\u0639\\u0631\\u0628 \\u0646\\u062d\\u0648 \\u0628\\u064a\\u0639 \\u0627\\u0644\\u0623\\u0633\\u0647\\u0645\\u060c \\u0648\\u0634\\u0643\\u0644\\u062a \\u0645\\u0628\\u064a\\u0639\\u0627\\u062a\\u0647\\u0645 \\u0636\\u063a\\u0648\\u0637\\u0627\\u064b \\u0639\\u0644\\u0649 \\u062d\\u0631\\u0643\\u0629 \\u0627\\u0644\\u0623\\u0633\\u0648\\u0627\\u0642\\u060c \\u0648\\u0628\\u0644\\u063a \\u0635\\u0627\\u0641\\u064a \\u0627\\u0633\\u062a\\u062b\\u0645\\u0627\\u0631\\u0627\\u062a \\u0627\\u0644\\u0639\\u0631\\u0628 7 .27 \\u0645\\u0644\\u064a\\u0648\\u0646 \\u0633\\u0647\\u0645 \\u0645\\u062d\\u0635\\u0644\\u0629 \\u0628\\u064a\\u0639\\u060c \\u0641\\u064a\\u0645\\u0627 \\u0628\\u0644\\u063a \\u0635\\u0627\\u0641\\u064a \\u0627\\u0633\\u062a\\u062b\\u0645\\u0627\\u0631\\u0627\\u062a \\u0627\\u0644\\u062e\\u0644\\u064a\\u062c\\u064a\\u064a\\u0646 1 .63 \\u0645\\u0644\\u064a\\u0648\\u0646 \\u0633\\u0647\\u0645 \\u0645\\u062d\\u0635\\u0644\\u0629 \\u0628\\u064a\\u0639 . \\u0628\\u062f\\u0648\\u0631\\u0647\\u0627 \\u0627\\u062a\\u062c\\u0647\\u062a \\u0627\\u0644\\u0645\\u062d\\u0627\\u0641\\u0638 \\u0627\\u0644\\u0627\\u0633\\u062a\\u062b\\u0645\\u0627\\u0631\\u064a\\u0629 \\u0646\\u062d\\u0648 \\u0628\\u064a\\u0639 \\u0627\\u0644\\u0623\\u0633\\u0647\\u0645 \\u0648\\u0634\\u0643\\u0644\\u062a \\u0645\\u0628\\u064a\\u0639\\u0627\\u062a\\u0647\\u0627 \\u0627\\u0644\\u0628\\u0627\\u0644\\u063a\\u0629 3 .490 \\u0645\\u0644\\u064a\\u0648\\u0646 \\u062f\\u0631\\u0647\\u0645 \\u0636\\u063a\\u0648\\u0637\\u0627\\u064b \\u0639\\u0644\\u0649 \\u062d\\u0631\\u0643\\u0629 \\u0627\\u0644\\u0623\\u0633\\u0648\\u0627\\u0642\\u060c \\u0641\\u064a\\u0645\\u0627 \\u0628\\u0644\\u063a\\u062a \\u0645\\u0634\\u062a\\u0631\\u064a\\u0627\\u062a\\u0647\\u0627 7 .382 \\u0645\\u0644\\u064a\\u0648\\u0646 \\u062f\\u0631\\u0647\\u0645\\u060c \\u0648\\u0648\\u0635\\u0644 \\u0635\\u0627\\u0641\\u064a \\u0627\\u0633\\u062a\\u062b\\u0645\\u0627\\u0631\\u0627\\u062a\\u0647\\u0627 \\u0625\\u0644\\u0649 7 .107 \\u0645\\u0644\\u064a\\u0648\\u0646 \\u062f\\u0631\\u0647\\u0645 \\u0645\\u062d\\u0635\\u0644\\u0629 \\u0628\\u064a\\u0639\\u060c \\u0648\\u0641\\u064a \\u0627\\u0644\\u0645\\u0642\\u0627\\u0628\\u0644 \\u0627\\u062a\\u062c\\u0647 \\u0627\\u0644\\u0645\\u0633\\u062a\\u062b\\u0645\\u0631\\u0648\\u0646 \\u0627\\u0644\\u0623\\u0641\\u0631\\u0627\\u062f \\u0646\\u062d\\u0648 \\u0634\\u0631\\u0627\\u0621 \\u0627\\u0644\\u0623\\u0633\\u0647\\u0645 \\u0628\\u0635\\u0627\\u0641\\u064a \\u0627\\u0633\\u062a\\u062b\\u0645\\u0627\\u0631 \\u0648\\u0635\\u0644 \\u0625\\u0644\\u0649 7 .107 \\u0645\\u0644\\u064a\\u0648\\u0646 \\u062f\\u0631\\u0647\\u0645 \\u0645\\u062d\\u0635\\u0644\\u0629 \\u0634\\u0631\\u0627\\u0621 . \\u0623\\u0633\\u0645\\u064a\\u0643 \\u064a\\u0631\\u0641\\u0636 \\u0639\\u0631\\u0636\\u0627\\u064b \\u0644\\u0628\\u064a\\u0639 \\u062c\\u0632\\u0621 \\u0645\\u0646 \\u062d\\u0635\\u062a\\u0647 \\u0641\\u064a \\\"\\u0623\\u0631\\u0627\\u0628\\u062a\\u0643\\\" \\u0628\\u0640 5 \\u062f\\u0631\\u0627\\u0647\\u0645 \\u0644\\u0644\\u0633\\u0647\\u0645 \\u0631\\u0641\\u0636 \\u062d\\u0633\\u0646 \\u0623\\u0633\\u0645\\u064a\\u0643\\u060c \\u0627\\u0644\\u0631\\u0626\\u064a\\u0633 \\u0627\\u0644\\u062a\\u0646\\u0641\\u064a\\u0630\\u064a \\u0627\\u0644\\u0633\\u0627\\u0628\\u0642 \\u0644\\u0634\\u0631\\u0643\\u0629 \\\"\\u0623\\u0631\\u0627\\u0628\\u062a\\u0643 \\u0627\\u0644\\u0642\\u0627\\u0628\\u0636\\u0629\\\" \\u0639\\u0631\\u0636\\u0627\\u064b \\u0645\\u0646 \\u0642\\u0628\\u0644 \\u0634\\u0631\\u0643\\u0629 \\\"\\u0622\\u0628\\u0627\\u0631 \\u0644\\u0644\\u0627\\u0633\\u062a\\u062b\\u0645\\u0627\\u0631\\\" \\u0644\\u0628\\u064a\\u0639 \\u062c\\u0632\\u0621 \\u0645\\u0646 \\u062d\\u0635\\u062a\\u0647 \\u0641\\u064a \\\"\\u0623\\u0631\\u0627\\u0628\\u062a\\u0643\\\" \\u0628\\u0642\\u064a\\u0645\\u0629 5 \\u062f\\u0631\\u0627\\u0647\\u0645 \\u0644\\u0644\\u0633\\u0647\\u0645 \\u0627\\u0644\\u0648\\u0627\\u062d\\u062f . \\u0648\\u0623\\u0648\\u0636\\u062d \\u0623\\u0633\\u0645\\u064a\\u0643 \\u0641\\u064a \\u0645\\u0642\\u0627\\u0628\\u0644\\u0629 \\u0647\\u0627\\u062a\\u0641\\u064a\\u0629 \\u0645\\u0639 \\\"\\u0628\\u0644\\u0648\\u0645\\u0628\\u064a\\u0631\\u063a\\\" \\u0623\\u0646 \\\"\\u0622\\u0628\\u0627\\u0631\\\" \\u0644\\u0627 \\u062a\\u0632\\u0627\\u0644 \\u062a\\u062a\\u0641\\u0627\\u0648\\u0636 \\u0645\\u0639\\u0647 \\u0644\\u0628\\u064a\\u0639 \\u0646\\u0635\\u0641 \\u062d\\u0635\\u062a\\u0647 \\u0641\\u064a \\u0627\\u0644\\u0634\\u0631\\u0643\\u0629\\u060c \\u0645\\u0634\\u064a\\u0631\\u0627\\u064b \\u0625\\u0644\\u0649 \\u0623\\u0646\\u0647 \\u064a\\u0633\\u0639\\u0649 \\u0625\\u0644\\u0649 \\u0628\\u064a\\u0639 \\u062d\\u0635\\u062a\\u0647 \\u0628\\u0633\\u0639\\u0631 \\u064a\\u0632\\u064a\\u062f \\u0639\\u0644\\u0649 5 \\u062f\\u0631\\u0627\\u0647\\u0645 \\u0644\\u0644\\u0633\\u0647\\u0645 .\\u0645\\u0646 \\u062c\\u0647\\u0629 \\u0623\\u062e\\u0631\\u0649\\u060c \\u0642\\u0627\\u0644 \\u062d\\u0633\\u0646 \\u0623\\u0633\\u0645\\u064a\\u0643 \\u0625\\u0646\\u0647 \\u064a\\u062c\\u0631\\u064a \\u0645\\u062d\\u0627\\u062f\\u062b\\u0627\\u062a \\u062d\\u0648\\u0644 \\u0628\\u064a\\u0639 \\u062c\\u0632\\u0621 \\u0645\\u0646 \\u062d\\u0635\\u062a\\u0647 \\u0627\\u0644\\u0628\\u0627\\u0644\\u063a\\u0629 9 .27% \\u0644\\u0635\\u0646\\u062f\\u0648\\u0642 \\u0622\\u0628\\u0627\\u0631 \\u0644\\u0644\\u0627\\u0633\\u062a\\u062b\\u0645\\u0627\\u0631\\u0627\\u062a \\u0641\\u064a \\u0623\\u0628\\u0648\\u0638\\u0628\\u064a \\u0648\\u064a\\u0631\\u064a\\u062f \\u0633\\u0639\\u0631\\u0627\\u064b \\u064a\\u062a\\u062c\\u0627\\u0648\\u0632 5 \\u062f\\u0631\\u0627\\u0647\\u0645 \\u0644\\u0644\\u0633\\u0647\\u0645\\u060c \\u0648\\u0647\\u0648 \\u0645\\u0627 \\u064a\\u0641\\u0648\\u0642 \\u0633\\u0639\\u0631 \\u0627\\u0644\\u0633\\u0648\\u0642 \\u0627\\u0644\\u062d\\u0627\\u0644\\u064a \\u0628\\u0646\\u062d\\u0648 4% .\\u0648\\u0642\\u0627\\u0644 \\u0644\\\"\\u0631\\u0648\\u064a\\u062a\\u0631\\u0632\\\" \\u0639\\u0628\\u0631 \\u0627\\u0644\\u0647\\u0627\\u062a\\u0641: \\\"\\u062e\\u0645\\u0633\\u0629 \\u062f\\u0631\\u0627\\u0647\\u0645 \\u0644\\u0644\\u0633\\u0647\\u0645 \\u0644\\u064a\\u0633\\u062a \\u0645\\u0642\\u0628\\u0648\\u0644\\u0629 \\u0628\\u0627\\u0644\\u0646\\u0633\\u0628\\u0629 \\u0625\\u0644\\u064a\\\" .\\u0648\\u0642\\u0641\\u0632 \\u0633\\u0639\\u0631 \\u0633\\u0647\\u0645 \\u0623\\u0631\\u0627\\u0628\\u062a\\u0643 13% \\u0625\\u0644\\u0649 97 .4 \\u062f\\u0631\\u0647\\u0645 \\u0641\\u064a \\u0627\\u0644\\u062c\\u0644\\u0633\\u0627\\u062a \\u0627\\u0644\\u0623\\u0631\\u0628\\u0639 \\u0627\\u0644\\u0623\\u062e\\u064a\\u0631\\u0629 .\"\n        ],\n        \"semantic_type\": \"\",\n        \"description\": \"\"\n      }\n    },\n    {\n      \"column\": \"label\",\n      \"properties\": {\n        \"dtype\": \"category\",\n        \"num_unique_values\": 3,\n        \"samples\": [\n          \"Culture\",\n          \"Finance\",\n          \"Medical\"\n        ],\n        \"semantic_type\": \"\",\n        \"description\": \"\"\n      }\n    }\n  ]\n}"
            }
          },
          "metadata": {},
          "execution_count": 3
        }
      ],
      "source": [
        "df.head(10)"
      ]
    },
    {
      "cell_type": "code",
      "source": [
        "print(df['text'][2])"
      ],
      "metadata": {
        "colab": {
          "base_uri": "https://localhost:8080/"
        },
        "id": "c959c-PrHj7M",
        "outputId": "07efbfea-f3e8-4c9c-c67c-18754de1d25b"
      },
      "id": "c959c-PrHj7M",
      "execution_count": 4,
      "outputs": [
        {
          "output_type": "stream",
          "name": "stdout",
          "text": [
            "انطلقت في مثل هذه الأيام من العام الفائت فعاليات مهرجان دبي لمسرح الشباب، تحت مظلة مجلس دبي الثقافي، وكانت فكرة المهرجان تهدف الى تشجيع ودعم المواهب الشابة من الفنانين المسرحيين، وإتاحة الفرصة أمامهم لتقديم أعمالهم المسرحية أمام الجمهور، وهو ما يزيد من خبرتهم ويصقل موهبتهم المسرحية، ويوم 10 أغسطس الفائت انطلقت فعاليات المهرجان في دورته الثانية وتستمر حتى 20 أغسطس/ آب الجاري، ولكن مع قرار صاحب السمو الشيخ محمد بن راشد آل مكتوم نائب رئيس الدولة رئيس مجلس الوزراء حاكم دبي، بإنشاء هيئة دبي للثقافة والفنون تحولت رعاية المهرجان الى الهيئة التي تسعى الى المساهمة في الحياة الاجتماعية والفكرية والثقافية في دولة الإمارات، وترسيخ مكانة دبي كمقر حيوي للثقافة والفنون والتراث.وقد وضعت هيئة دبي للثقافة والفنون في استراتيجيتها الثقافة الشاملة، أهمية المحافظة على الهوية الوطنية من خلال تعزيز الوعي بالأنشطة الثقافية، والتعاون مع المؤسسات المعنية في الدولة، للمشاركة في أنشطة وفعاليات الهيئة، والتي يبرز مهرجان دبي لمسرح الشباب في مقدمتها، لأن الهيئة تؤمن بضرورة أن يظل المسرح يقوم بدوره العضوي الحيوي في الحراك الاجتماعي والثقافي، وهو ما يسهم في وعي الإنسان وإدراكه لذاته وواقعه ومجتمعه ووطنه.وتسعى الهيئة أيضاً الى دعم وتشجيع الجيل المسرحي الشاب في الإمارات، من خلال مشاركته في فعالياتها، والمساهمة في ترويج منتوجه الثقافي والفني، خصوصاً أن المكانة التي وصل إليها المسرح في الإمارات، على المستويين الخليجي والعربي، تتطلب النظر بمسؤولية الى أهمية وجود جيل مسرحي شاب وموهوب فنياً وفكرياً، يستكمل المسيرة، ويحافظ على المستوى الذي حققه الجيل المفصل، والذي يتربع الآن على القمة.والمتابع لفعاليات مهرجان دبي لمسرح الشباب، بدأ يتعرف من خلال العروض على أسماء شابة في مجال التمثيل والتأليف والإخراج، وأصبحت أسماء مألوفة له، مثل حمد الحمادي وعبدالله الظاهري وخالد علي ربيع ومحمد الحمادي ومنال بن عمرو ومروان عبدالله صالح وهم جميعاً من العاملين في مجال الإخراج وقد تتلمذوا على أيدي كوكبة من المخرجين الإماراتيين من الجيل المفصل وقد برزوا من خلال أعمالهم المسرحية التي تدور حول الأرض والوطن والهوية بدلالات ورموز مختلفة في أبعادها الفنية والفكرية، والموقف من مواكبة العصر أو التمسك بالماضي، وأحلام الإنسان العادي وطموحاته في هذه الحياة التي تعج بالصراعات الاجتماعية والسياسية والاقتصادية.ولا تقتصر فعاليات المهرجان على العروض وحسب، وإنما أدرجت اللجنة الاستشارية للمهرجان وفي كل دورة، تكريم أحد الفنانين المسرحيين من الجيل المؤسس في الدولة، حيث يكرم في هذه الدورة الفنان الشامل عبدالله صالح، وهي لفتة نبيلة تحسب لإدارة المهرجان.نواف يونسRAFET.JANAH@gmail.com\n"
          ]
        }
      ]
    },
    {
      "cell_type": "code",
      "source": [
        "df.shape"
      ],
      "metadata": {
        "colab": {
          "base_uri": "https://localhost:8080/"
        },
        "id": "yznIdmjq15Yh",
        "outputId": "cc45a7c9-2153-45e8-e88b-672f80c56663"
      },
      "id": "yznIdmjq15Yh",
      "execution_count": 5,
      "outputs": [
        {
          "output_type": "execute_result",
          "data": {
            "text/plain": [
              "(15000, 3)"
            ]
          },
          "metadata": {},
          "execution_count": 5
        }
      ]
    },
    {
      "cell_type": "code",
      "source": [
        "df['label'].unique()"
      ],
      "metadata": {
        "colab": {
          "base_uri": "https://localhost:8080/"
        },
        "id": "JvfQ-8bn2NxG",
        "outputId": "9bfeeead-d4a7-45ac-84f1-29de4d6388d0"
      },
      "id": "JvfQ-8bn2NxG",
      "execution_count": 6,
      "outputs": [
        {
          "output_type": "execute_result",
          "data": {
            "text/plain": [
              "array(['Culture', 'Finance', 'Medical'], dtype=object)"
            ]
          },
          "metadata": {},
          "execution_count": 6
        }
      ]
    },
    {
      "cell_type": "markdown",
      "id": "d87ddcd5",
      "metadata": {
        "id": "d87ddcd5"
      },
      "source": [
        "## Step 2: Clean Unnecessary Columns"
      ]
    },
    {
      "cell_type": "markdown",
      "id": "bb10d4d4",
      "metadata": {
        "id": "bb10d4d4"
      },
      "source": [
        "Remove any columns from the dataset that are not needed for training."
      ]
    },
    {
      "cell_type": "code",
      "source": [
        "df.drop(columns=['Unnamed: 0'], inplace= True)"
      ],
      "metadata": {
        "id": "j2p2dc9q18jn"
      },
      "id": "j2p2dc9q18jn",
      "execution_count": 7,
      "outputs": []
    },
    {
      "cell_type": "markdown",
      "id": "790b4a9e",
      "metadata": {
        "id": "790b4a9e"
      },
      "source": [
        "## Step 3: Splitting the Dataset"
      ]
    },
    {
      "cell_type": "markdown",
      "id": "66c8c1f4",
      "metadata": {
        "id": "66c8c1f4"
      },
      "source": [
        "Split the dataset into training and testing sets, ensuring that 20% of the data is used for testing."
      ]
    },
    {
      "cell_type": "code",
      "execution_count": 8,
      "id": "3f839fea",
      "metadata": {
        "id": "3f839fea"
      },
      "outputs": [],
      "source": [
        "from sklearn.model_selection import train_test_split\n"
      ]
    },
    {
      "cell_type": "code",
      "source": [
        "from transformers import pipeline\n",
        "pipe = pipeline(task=\"text-classification\",model=\"aubmindlab/bert-base-arabertv02\")\n",
        "import re\n",
        "import pyarabic.araby as araby\n",
        "import nltk\n",
        "from nltk.corpus import stopwords\n",
        "import nltk\n",
        "from nltk.stem.isri import ISRIStemmer\n",
        "nltk.download('stopwords')\n",
        "\n",
        "arabic_stopwords = set(stopwords.words('arabic'))\n",
        "\n",
        "stemmer = ISRIStemmer()\n",
        "\n",
        "def cleaning(text):\n",
        "\n",
        "    # RE for url and punctuation\n",
        "    cleaned_text = re.sub(r'https?\\S+|www.\\S+|\\S+\\.sa|\\S+\\.com', '', text)\n",
        "    cleaned_text = re.sub(r'[^\\w\\s]', '', cleaned_text)\n",
        "    cleaned_text = re.sub(\"[a-z]+@[a-z]+\\.com\",'',cleaned_text)\n",
        "    # araby lib\n",
        "    cleaned_text = araby.strip_tashkeel(cleaned_text)\n",
        "    cleaned_text = araby.strip_tatweel(cleaned_text)\n",
        "    cleaned_text = araby.strip_lastharaka(cleaned_text)\n",
        "    cleaned_text = araby.normalize_hamza(cleaned_text)\n",
        "\n",
        "    # toknize\n",
        "    words = cleaned_text.split()\n",
        "\n",
        "    # remove stopwords\n",
        "    filtered_words = [x for x in words if x not in arabic_stopwords]\n",
        "\n",
        "    # i prefered stemming bc it is faster then lemmmatization\n",
        "    stemmed = []\n",
        "    for x in filtered_words:\n",
        "      stemmed.append(stemmer.stem(x))\n",
        "\n",
        "    stemmed = ' '.join(filtered_words)\n",
        "\n",
        "    return cleaned_text\n"
      ],
      "metadata": {
        "id": "FnnwZRL2GuZb",
        "colab": {
          "base_uri": "https://localhost:8080/"
        },
        "outputId": "38820dbf-95d4-4315-837e-520af3f5b3fe"
      },
      "id": "FnnwZRL2GuZb",
      "execution_count": 9,
      "outputs": [
        {
          "output_type": "stream",
          "name": "stderr",
          "text": [
            "Some weights of BertForSequenceClassification were not initialized from the model checkpoint at aubmindlab/bert-base-arabertv02 and are newly initialized: ['classifier.bias', 'classifier.weight']\n",
            "You should probably TRAIN this model on a down-stream task to be able to use it for predictions and inference.\n",
            "/usr/local/lib/python3.10/dist-packages/transformers/tokenization_utils_base.py:1601: FutureWarning: `clean_up_tokenization_spaces` was not set. It will be set to `True` by default. This behavior will be depracted in transformers v4.45, and will be then set to `False` by default. For more details check this issue: https://github.com/huggingface/transformers/issues/31884\n",
            "  warnings.warn(\n",
            "Hardware accelerator e.g. GPU is available in the environment, but no `device` argument is passed to the `Pipeline` object. Model will be on CPU.\n",
            "[nltk_data] Downloading package stopwords to /root/nltk_data...\n",
            "[nltk_data]   Package stopwords is already up-to-date!\n"
          ]
        }
      ]
    },
    {
      "cell_type": "code",
      "source": [
        "df['text'] = df['text'].apply(cleaning)\n"
      ],
      "metadata": {
        "id": "rpGZWcV1LqZP"
      },
      "id": "rpGZWcV1LqZP",
      "execution_count": 10,
      "outputs": []
    },
    {
      "cell_type": "code",
      "source": [
        "df.head()"
      ],
      "metadata": {
        "colab": {
          "base_uri": "https://localhost:8080/",
          "height": 206
        },
        "id": "xp0qsYnPNQJj",
        "outputId": "55b07122-d556-4c28-e393-e1b14ed721bb"
      },
      "id": "xp0qsYnPNQJj",
      "execution_count": 11,
      "outputs": [
        {
          "output_type": "execute_result",
          "data": {
            "text/plain": [
              "                                                text    label\n",
              "0  الشارقة  محمد ولد محمد سالمعرضت مساء ءمس الءول...  Culture\n",
              "1  عبدالحكيم الزبيدي شاعر وقاص وناقد جاءت نصوصه م...  Culture\n",
              "2  انطلقت في مثل هذه الءيام من العام الفاءت فعالي...  Culture\n",
              "3  ءقيمت مساء ءمس الءول في ءكسبو الشارقة ندوة حوا...  Culture\n",
              "4  باسمة يونس حينما قال صاحب السمو الشيخ الدكتور ...  Culture"
            ],
            "text/html": [
              "\n",
              "  <div id=\"df-fdba23af-2c9f-4eb7-a43e-f069decc251a\" class=\"colab-df-container\">\n",
              "    <div>\n",
              "<style scoped>\n",
              "    .dataframe tbody tr th:only-of-type {\n",
              "        vertical-align: middle;\n",
              "    }\n",
              "\n",
              "    .dataframe tbody tr th {\n",
              "        vertical-align: top;\n",
              "    }\n",
              "\n",
              "    .dataframe thead th {\n",
              "        text-align: right;\n",
              "    }\n",
              "</style>\n",
              "<table border=\"1\" class=\"dataframe\">\n",
              "  <thead>\n",
              "    <tr style=\"text-align: right;\">\n",
              "      <th></th>\n",
              "      <th>text</th>\n",
              "      <th>label</th>\n",
              "    </tr>\n",
              "  </thead>\n",
              "  <tbody>\n",
              "    <tr>\n",
              "      <th>0</th>\n",
              "      <td>الشارقة  محمد ولد محمد سالمعرضت مساء ءمس الءول...</td>\n",
              "      <td>Culture</td>\n",
              "    </tr>\n",
              "    <tr>\n",
              "      <th>1</th>\n",
              "      <td>عبدالحكيم الزبيدي شاعر وقاص وناقد جاءت نصوصه م...</td>\n",
              "      <td>Culture</td>\n",
              "    </tr>\n",
              "    <tr>\n",
              "      <th>2</th>\n",
              "      <td>انطلقت في مثل هذه الءيام من العام الفاءت فعالي...</td>\n",
              "      <td>Culture</td>\n",
              "    </tr>\n",
              "    <tr>\n",
              "      <th>3</th>\n",
              "      <td>ءقيمت مساء ءمس الءول في ءكسبو الشارقة ندوة حوا...</td>\n",
              "      <td>Culture</td>\n",
              "    </tr>\n",
              "    <tr>\n",
              "      <th>4</th>\n",
              "      <td>باسمة يونس حينما قال صاحب السمو الشيخ الدكتور ...</td>\n",
              "      <td>Culture</td>\n",
              "    </tr>\n",
              "  </tbody>\n",
              "</table>\n",
              "</div>\n",
              "    <div class=\"colab-df-buttons\">\n",
              "\n",
              "  <div class=\"colab-df-container\">\n",
              "    <button class=\"colab-df-convert\" onclick=\"convertToInteractive('df-fdba23af-2c9f-4eb7-a43e-f069decc251a')\"\n",
              "            title=\"Convert this dataframe to an interactive table.\"\n",
              "            style=\"display:none;\">\n",
              "\n",
              "  <svg xmlns=\"http://www.w3.org/2000/svg\" height=\"24px\" viewBox=\"0 -960 960 960\">\n",
              "    <path d=\"M120-120v-720h720v720H120Zm60-500h600v-160H180v160Zm220 220h160v-160H400v160Zm0 220h160v-160H400v160ZM180-400h160v-160H180v160Zm440 0h160v-160H620v160ZM180-180h160v-160H180v160Zm440 0h160v-160H620v160Z\"/>\n",
              "  </svg>\n",
              "    </button>\n",
              "\n",
              "  <style>\n",
              "    .colab-df-container {\n",
              "      display:flex;\n",
              "      gap: 12px;\n",
              "    }\n",
              "\n",
              "    .colab-df-convert {\n",
              "      background-color: #E8F0FE;\n",
              "      border: none;\n",
              "      border-radius: 50%;\n",
              "      cursor: pointer;\n",
              "      display: none;\n",
              "      fill: #1967D2;\n",
              "      height: 32px;\n",
              "      padding: 0 0 0 0;\n",
              "      width: 32px;\n",
              "    }\n",
              "\n",
              "    .colab-df-convert:hover {\n",
              "      background-color: #E2EBFA;\n",
              "      box-shadow: 0px 1px 2px rgba(60, 64, 67, 0.3), 0px 1px 3px 1px rgba(60, 64, 67, 0.15);\n",
              "      fill: #174EA6;\n",
              "    }\n",
              "\n",
              "    .colab-df-buttons div {\n",
              "      margin-bottom: 4px;\n",
              "    }\n",
              "\n",
              "    [theme=dark] .colab-df-convert {\n",
              "      background-color: #3B4455;\n",
              "      fill: #D2E3FC;\n",
              "    }\n",
              "\n",
              "    [theme=dark] .colab-df-convert:hover {\n",
              "      background-color: #434B5C;\n",
              "      box-shadow: 0px 1px 3px 1px rgba(0, 0, 0, 0.15);\n",
              "      filter: drop-shadow(0px 1px 2px rgba(0, 0, 0, 0.3));\n",
              "      fill: #FFFFFF;\n",
              "    }\n",
              "  </style>\n",
              "\n",
              "    <script>\n",
              "      const buttonEl =\n",
              "        document.querySelector('#df-fdba23af-2c9f-4eb7-a43e-f069decc251a button.colab-df-convert');\n",
              "      buttonEl.style.display =\n",
              "        google.colab.kernel.accessAllowed ? 'block' : 'none';\n",
              "\n",
              "      async function convertToInteractive(key) {\n",
              "        const element = document.querySelector('#df-fdba23af-2c9f-4eb7-a43e-f069decc251a');\n",
              "        const dataTable =\n",
              "          await google.colab.kernel.invokeFunction('convertToInteractive',\n",
              "                                                    [key], {});\n",
              "        if (!dataTable) return;\n",
              "\n",
              "        const docLinkHtml = 'Like what you see? Visit the ' +\n",
              "          '<a target=\"_blank\" href=https://colab.research.google.com/notebooks/data_table.ipynb>data table notebook</a>'\n",
              "          + ' to learn more about interactive tables.';\n",
              "        element.innerHTML = '';\n",
              "        dataTable['output_type'] = 'display_data';\n",
              "        await google.colab.output.renderOutput(dataTable, element);\n",
              "        const docLink = document.createElement('div');\n",
              "        docLink.innerHTML = docLinkHtml;\n",
              "        element.appendChild(docLink);\n",
              "      }\n",
              "    </script>\n",
              "  </div>\n",
              "\n",
              "\n",
              "<div id=\"df-54cd3c5a-e901-4fe4-ae07-896dd78f7f82\">\n",
              "  <button class=\"colab-df-quickchart\" onclick=\"quickchart('df-54cd3c5a-e901-4fe4-ae07-896dd78f7f82')\"\n",
              "            title=\"Suggest charts\"\n",
              "            style=\"display:none;\">\n",
              "\n",
              "<svg xmlns=\"http://www.w3.org/2000/svg\" height=\"24px\"viewBox=\"0 0 24 24\"\n",
              "     width=\"24px\">\n",
              "    <g>\n",
              "        <path d=\"M19 3H5c-1.1 0-2 .9-2 2v14c0 1.1.9 2 2 2h14c1.1 0 2-.9 2-2V5c0-1.1-.9-2-2-2zM9 17H7v-7h2v7zm4 0h-2V7h2v10zm4 0h-2v-4h2v4z\"/>\n",
              "    </g>\n",
              "</svg>\n",
              "  </button>\n",
              "\n",
              "<style>\n",
              "  .colab-df-quickchart {\n",
              "      --bg-color: #E8F0FE;\n",
              "      --fill-color: #1967D2;\n",
              "      --hover-bg-color: #E2EBFA;\n",
              "      --hover-fill-color: #174EA6;\n",
              "      --disabled-fill-color: #AAA;\n",
              "      --disabled-bg-color: #DDD;\n",
              "  }\n",
              "\n",
              "  [theme=dark] .colab-df-quickchart {\n",
              "      --bg-color: #3B4455;\n",
              "      --fill-color: #D2E3FC;\n",
              "      --hover-bg-color: #434B5C;\n",
              "      --hover-fill-color: #FFFFFF;\n",
              "      --disabled-bg-color: #3B4455;\n",
              "      --disabled-fill-color: #666;\n",
              "  }\n",
              "\n",
              "  .colab-df-quickchart {\n",
              "    background-color: var(--bg-color);\n",
              "    border: none;\n",
              "    border-radius: 50%;\n",
              "    cursor: pointer;\n",
              "    display: none;\n",
              "    fill: var(--fill-color);\n",
              "    height: 32px;\n",
              "    padding: 0;\n",
              "    width: 32px;\n",
              "  }\n",
              "\n",
              "  .colab-df-quickchart:hover {\n",
              "    background-color: var(--hover-bg-color);\n",
              "    box-shadow: 0 1px 2px rgba(60, 64, 67, 0.3), 0 1px 3px 1px rgba(60, 64, 67, 0.15);\n",
              "    fill: var(--button-hover-fill-color);\n",
              "  }\n",
              "\n",
              "  .colab-df-quickchart-complete:disabled,\n",
              "  .colab-df-quickchart-complete:disabled:hover {\n",
              "    background-color: var(--disabled-bg-color);\n",
              "    fill: var(--disabled-fill-color);\n",
              "    box-shadow: none;\n",
              "  }\n",
              "\n",
              "  .colab-df-spinner {\n",
              "    border: 2px solid var(--fill-color);\n",
              "    border-color: transparent;\n",
              "    border-bottom-color: var(--fill-color);\n",
              "    animation:\n",
              "      spin 1s steps(1) infinite;\n",
              "  }\n",
              "\n",
              "  @keyframes spin {\n",
              "    0% {\n",
              "      border-color: transparent;\n",
              "      border-bottom-color: var(--fill-color);\n",
              "      border-left-color: var(--fill-color);\n",
              "    }\n",
              "    20% {\n",
              "      border-color: transparent;\n",
              "      border-left-color: var(--fill-color);\n",
              "      border-top-color: var(--fill-color);\n",
              "    }\n",
              "    30% {\n",
              "      border-color: transparent;\n",
              "      border-left-color: var(--fill-color);\n",
              "      border-top-color: var(--fill-color);\n",
              "      border-right-color: var(--fill-color);\n",
              "    }\n",
              "    40% {\n",
              "      border-color: transparent;\n",
              "      border-right-color: var(--fill-color);\n",
              "      border-top-color: var(--fill-color);\n",
              "    }\n",
              "    60% {\n",
              "      border-color: transparent;\n",
              "      border-right-color: var(--fill-color);\n",
              "    }\n",
              "    80% {\n",
              "      border-color: transparent;\n",
              "      border-right-color: var(--fill-color);\n",
              "      border-bottom-color: var(--fill-color);\n",
              "    }\n",
              "    90% {\n",
              "      border-color: transparent;\n",
              "      border-bottom-color: var(--fill-color);\n",
              "    }\n",
              "  }\n",
              "</style>\n",
              "\n",
              "  <script>\n",
              "    async function quickchart(key) {\n",
              "      const quickchartButtonEl =\n",
              "        document.querySelector('#' + key + ' button');\n",
              "      quickchartButtonEl.disabled = true;  // To prevent multiple clicks.\n",
              "      quickchartButtonEl.classList.add('colab-df-spinner');\n",
              "      try {\n",
              "        const charts = await google.colab.kernel.invokeFunction(\n",
              "            'suggestCharts', [key], {});\n",
              "      } catch (error) {\n",
              "        console.error('Error during call to suggestCharts:', error);\n",
              "      }\n",
              "      quickchartButtonEl.classList.remove('colab-df-spinner');\n",
              "      quickchartButtonEl.classList.add('colab-df-quickchart-complete');\n",
              "    }\n",
              "    (() => {\n",
              "      let quickchartButtonEl =\n",
              "        document.querySelector('#df-54cd3c5a-e901-4fe4-ae07-896dd78f7f82 button');\n",
              "      quickchartButtonEl.style.display =\n",
              "        google.colab.kernel.accessAllowed ? 'block' : 'none';\n",
              "    })();\n",
              "  </script>\n",
              "</div>\n",
              "\n",
              "    </div>\n",
              "  </div>\n"
            ],
            "application/vnd.google.colaboratory.intrinsic+json": {
              "type": "dataframe",
              "variable_name": "df",
              "summary": "{\n  \"name\": \"df\",\n  \"rows\": 15000,\n  \"fields\": [\n    {\n      \"column\": \"text\",\n      \"properties\": {\n        \"dtype\": \"string\",\n        \"num_unique_values\": 14994,\n        \"samples\": [\n          \"\\u0646\\u0638\\u0645\\u062a \\u0645\\u0621\\u0633\\u0633\\u0629 \\u062d\\u0643\\u0648\\u0645\\u0629 \\u062f\\u0628\\u064a \\u0627\\u0644\\u0630\\u0643\\u064a\\u0629 \\u0628\\u0627\\u0644\\u062a\\u0639\\u0627\\u0648\\u0646 \\u0645\\u0639 \\u0647\\u064a\\u0621\\u0629 \\u062a\\u0646\\u0645\\u064a\\u0629 \\u0627\\u0644\\u0645\\u062c\\u062a\\u0645\\u0639 \\u0648\\u0631\\u0634\\u0629 \\u0639\\u0645\\u0644 \\u062a\\u0636\\u0645\\u0646\\u062a \\u062c\\u0644\\u0633\\u0627\\u062a \\u062d\\u0648\\u0627\\u0631\\u064a\\u0629 \\u062d\\u0648\\u0644 \\u0627\\u0644\\u0645\\u0639\\u0627\\u064a\\u064a\\u0631 \\u0627\\u0644\\u062a\\u064a \\u062a\\u0644\\u0628\\u064a \\u0627\\u062d\\u062a\\u064a\\u0627\\u062c\\u0627\\u062a \\u0648\\u0645\\u062a\\u0637\\u0644\\u0628\\u0627\\u062a \\u0621\\u0635\\u062d\\u0627\\u0628 \\u0627\\u0644\\u0647\\u0645\\u0645 \\u0645\\u0646 \\u0627\\u0644\\u0645\\u0648\\u0627\\u0642\\u0639 \\u0627\\u0644\\u0621\\u0644\\u0643\\u062a\\u0631\\u0648\\u0646\\u064a\\u0629 \\u0648\\u0627\\u0644\\u062a\\u0637\\u0628\\u064a\\u0642\\u0627\\u062a \\u0627\\u0644\\u0630\\u0643\\u064a\\u0629 \\u0627\\u0644\\u062a\\u0627\\u0628\\u0639\\u0629 \\u0644\\u062c\\u0647\\u0627\\u062a \\u0648\\u0645\\u0621\\u0633\\u0633\\u0627\\u062a \\u0627\\u0644\\u0642\\u0637\\u0627\\u0639 \\u0627\\u0644\\u062e\\u0627\\u0635 \\u0641\\u064a \\u062f\\u0628\\u064a \\u0633\\u0639\\u064a\\u0627 \\u0646\\u062d\\u0648 \\u062a\\u0637\\u0648\\u064a\\u0631\\u0647\\u0627 \\u0644\\u062a\\u0643\\u0648\\u0646 \\u0635\\u062f\\u064a\\u0642\\u0629 \\u0644\\u0647\\u0645 \\u0648\\u0642\\u0627\\u062f\\u0631\\u0629 \\u0639\\u0644\\u0649 \\u062a\\u0648\\u0641\\u064a\\u0631 \\u062a\\u062c\\u0627\\u0631\\u0628 \\u0633\\u0639\\u064a\\u062f\\u0629 \\u062a\\u0644\\u0628\\u064a \\u0627\\u062d\\u062a\\u064a\\u0627\\u062c\\u0627\\u062a\\u0647\\u0645 \\u0648\\u0621\\u062a\\u062a \\u0647\\u0630\\u0647 \\u0627\\u0644\\u062c\\u0644\\u0633\\u0627\\u062a \\u0627\\u0644\\u062d\\u0648\\u0627\\u0631\\u064a\\u0629 \\u0627\\u0644\\u062a\\u064a \\u062a\\u0636\\u0645 \\u0641\\u0621\\u0627\\u062a \\u0645\\u062e\\u062a\\u0627\\u0631\\u0629 \\u0645\\u0646 \\u0621\\u0635\\u062d\\u0627\\u0628 \\u0627\\u0644\\u0647\\u0645\\u0645 \\u0643\\u0645\\u0631\\u062d\\u0644\\u0629 \\u0621\\u0648\\u0644\\u0649 \\u0645\\u0646 \\u0645\\u0628\\u0627\\u062f\\u0631\\u0629 \\u0646\\u0648\\u0639\\u064a\\u0629 \\u0648\\u0634\\u0627\\u0645\\u0644\\u0629 \\u0628\\u0647\\u062f\\u0641 \\u062a\\u0648\\u062c\\u064a\\u0647 \\u0645\\u0621\\u0633\\u0633\\u0627\\u062a \\u0627\\u0644\\u0642\\u0637\\u0627\\u0639 \\u0627\\u0644\\u062e\\u0627\\u0635 \\u0627\\u0644\\u0639\\u0627\\u0645\\u0644\\u0629 \\u0641\\u064a \\u0621\\u0645\\u0627\\u0631\\u0629 \\u062f\\u0628\\u064a \\u0644\\u062a\\u0621\\u0647\\u064a\\u0644 \\u0645\\u0648\\u0627\\u0642\\u0639\\u0647\\u0627 \\u0627\\u0644\\u0621\\u0644\\u0643\\u062a\\u0631\\u0648\\u0646\\u064a\\u0629 \\u0648\\u062a\\u0637\\u0628\\u064a\\u0642\\u0627\\u062a\\u0647\\u0627 \\u0627\\u0644\\u0630\\u0643\\u064a\\u0629 \\u0644\\u062a\\u0635\\u0628\\u062d \\u0645\\u062a\\u0637\\u0627\\u0628\\u0642\\u0629 \\u0645\\u0639 \\u0627\\u0644\\u0645\\u0639\\u0627\\u064a\\u064a\\u0631 \\u0627\\u0644\\u0642\\u064a\\u0627\\u0633\\u064a\\u0629 \\u0644\\u0621\\u0645\\u0643\\u0627\\u0646\\u064a\\u0629 \\u0648\\u0635\\u0648\\u0644 \\u0648\\u0627\\u0633\\u062a\\u062e\\u062f\\u0627\\u0645 \\u0621\\u0635\\u062d\\u0627\\u0628 \\u0627\\u0644\\u0647\\u0645\\u0645 \\u0648\\u0644\\u062a\\u062a\\u064a\\u062d \\u0644\\u0647\\u0645 \\u0621\\u0645\\u0643\\u0627\\u0646 \\u0627\\u0644\\u0648\\u0635\\u0648\\u0644 \\u0628\\u0643\\u0644 \\u0633\\u0647\\u0648\\u0644\\u0629 \\u0648\\u0633\\u0644\\u0627\\u0633\\u0629 \\u0648\\u062a\\u0645 \\u062e\\u0644\\u0627\\u0644 \\u0627\\u0644\\u062c\\u0644\\u0633\\u0627\\u062a \\u0621\\u0634\\u0631\\u0627\\u0643 \\u0621\\u0635\\u062d\\u0627\\u0628 \\u0627\\u0644\\u0647\\u0645\\u0645 \\u0641\\u064a \\u062a\\u062d\\u062f\\u064a\\u062f \\u0621\\u0631\\u0634\\u0627\\u062f\\u0627\\u062a \\u0627\\u0644\\u062a\\u0635\\u0645\\u064a\\u0645 \\u0627\\u0644\\u0645\\u062a\\u0639\\u0644\\u0642\\u0629 \\u0628\\u0648\\u0627\\u062c\\u0647\\u0629 \\u0627\\u0644\\u062a\\u0637\\u0628\\u064a\\u0642\\u0627\\u062a \\u0627\\u0644\\u0630\\u0643\\u064a\\u0629 \\u0648\\u0627\\u0644\\u0645\\u0648\\u0627\\u0642\\u0639 \\u0627\\u0644\\u0621\\u0644\\u0643\\u062a\\u0631\\u0648\\u0646\\u064a\\u0629 \\u0648\\u0627\\u0644\\u0621\\u0644\\u0648\\u0627\\u0646 \\u0627\\u0644\\u0645\\u0631\\u064a\\u062d\\u0629 \\u0627\\u0644\\u0645\\u0641\\u0636\\u0644\\u0629 \\u0644\\u062f\\u064a\\u0647\\u0645 \\u0648\\u0621\\u0643\\u062f\\u062a \\u0627\\u0644\\u062f\\u0643\\u062a\\u0648\\u0631\\u0629 \\u0639\\u0627\\u0621\\u0634\\u0629 \\u0628\\u0646\\u062a \\u0628\\u0637\\u064a \\u0628\\u0646 \\u0628\\u0634\\u0631 \\u0645\\u062f\\u064a\\u0631 \\u0639\\u0627\\u0645 \\u0645\\u0643\\u062a\\u0628 \\u062f\\u0628\\u064a \\u0627\\u0644\\u0630\\u0643\\u064a\\u0629 \\u0636\\u0631\\u0648\\u0631\\u0629 \\u062a\\u0636\\u0627\\u0641\\u0631 \\u0627\\u0644\\u062c\\u0647\\u0648\\u062f \\u0628\\u064a\\u0646 \\u062c\\u0645\\u064a\\u0639 \\u0627\\u0644\\u062c\\u0647\\u0627\\u062a \\u0627\\u0644\\u062d\\u0643\\u0648\\u0645\\u064a\\u0629 \\u0648\\u0627\\u0644\\u062e\\u0627\\u0635\\u0629 \\u0641\\u064a \\u062f\\u0628\\u064a \\u0648\\u0627\\u0644\\u0639\\u0645\\u0644 \\u0627\\u0644\\u062f\\u0621\\u0648\\u0628 \\u0648\\u0627\\u0644\\u062a\\u0631\\u0643\\u064a\\u0632 \\u0639\\u0644\\u0649 \\u062a\\u0646\\u0641\\u064a\\u0630 \\u062c\\u0645\\u064a\\u0639 \\u0627\\u0644\\u0645\\u0628\\u0627\\u062f\\u0631\\u0627\\u062a \\u0648\\u0642\\u0627\\u0644 \\u0648\\u0633\\u0627\\u0645 \\u0644\\u0648\\u062a\\u0627\\u0647 \\u0627\\u0644\\u0645\\u062f\\u064a\\u0631 \\u0627\\u0644\\u062a\\u0646\\u0641\\u064a\\u0630\\u064a \\u0644\\u0645\\u0621\\u0633\\u0633\\u0629 \\u062d\\u0643\\u0648\\u0645\\u0629 \\u062f\\u0628\\u064a \\u0627\\u0644\\u0630\\u0643\\u064a\\u0629 \\u0621\\u0646 \\u0639\\u0645\\u0644\\u064a\\u0629 \\u062a\\u0621\\u0647\\u064a\\u0644 \\u0627\\u0644\\u0645\\u0648\\u0627\\u0642\\u0639 \\u0627\\u0644\\u0621\\u0644\\u0643\\u062a\\u0631\\u0648\\u0646\\u064a\\u0629 \\u0648\\u0627\\u0644\\u062a\\u0637\\u0628\\u064a\\u0642\\u0627\\u062a \\u0627\\u0644\\u0630\\u0643\\u064a\\u0629 \\u0641\\u064a \\u062c\\u0647\\u0627\\u062a \\u0627\\u0644\\u0642\\u0637\\u0627\\u0639 \\u0627\\u0644\\u062e\\u0627\\u0635 \\u0628\\u062f\\u0628\\u064a \\u062a\\u0621\\u062a\\u064a \\u0641\\u064a \\u0621\\u0637\\u0627\\u0631 \\u062c\\u0647\\u0648\\u062f \\u062f\\u0628\\u064a \\u0627\\u0644\\u0630\\u0643\\u064a\\u0629 \\u0627\\u0644\\u0647\\u0627\\u062f\\u0641\\u0629 \\u0621\\u0644\\u0649 \\u062a\\u062d\\u0648\\u064a\\u0644 \\u062f\\u0628\\u064a \\u0628\\u0627\\u0644\\u0643\\u0627\\u0645\\u0644 \\u0621\\u0644\\u0649 \\u0645\\u062f\\u064a\\u0646\\u0629 \\u0635\\u062f\\u064a\\u0642\\u0629 \\u0644\\u0621\\u0635\\u062d\\u0627\\u0628 \\u0627\\u0644\\u0647\\u0645\\u0645 \\u0628\\u062d\\u0644\\u0648\\u0644 \\u0639\\u0627\\u0645 2020 \\u0645\\u0646 \\u062c\\u0647\\u062a\\u0647 \\u0621\\u0643\\u062f \\u0621\\u062d\\u0645\\u062f \\u0639\\u0628\\u062f \\u0627\\u0644\\u0643\\u0631\\u064a\\u0645 \\u062c\\u0644\\u0641\\u0627\\u0631 \\u0645\\u062f\\u064a\\u0631 \\u0639\\u0627\\u0645 \\u0647\\u064a\\u0621\\u0629 \\u062a\\u0646\\u0645\\u064a\\u0629 \\u0627\\u0644\\u0645\\u062c\\u062a\\u0645\\u0639 \\u0636\\u0631\\u0648\\u0631\\u0629 \\u062a\\u0648\\u0641\\u064a\\u0631 \\u0628\\u064a\\u0621\\u0629 \\u062f\\u0627\\u0645\\u062c\\u0629 \\u0648\\u0645\\u0645\\u0643\\u0646\\u0629 \\u0644\\u0621\\u0635\\u062d\\u0627\\u0628 \\u0627\\u0644\\u0647\\u0645\\u0645 \\u062a\\u062a\\u064a\\u062d \\u0644\\u0647\\u0645 \\u0627\\u0644\\u0648\\u0635\\u0648\\u0644 \\u0627\\u0644\\u0643\\u0627\\u0645\\u0644 \\u0644\\u0643\\u0627\\u0641\\u0629 \\u062d\\u0642\\u0648\\u0642\\u0647\\u0645 \\u0644\\u0627\\u0641\\u062a\\u0627 \\u0621\\u0644\\u0649 \\u0621\\u0646 \\u0627\\u0644\\u062a\\u062d\\u0648\\u0644 \\u0627\\u0644\\u0630\\u0643\\u064a \\u0627\\u0644\\u0630\\u064a \\u062a\\u0634\\u0647\\u062f\\u0647 \\u062d\\u0643\\u0648\\u0645\\u0629 \\u062f\\u0628\\u064a \\u0628\\u062c\\u0645\\u064a\\u0639 \\u062e\\u062f\\u0645\\u0627\\u062a\\u0647\\u0627 \\u0645\\u0646 \\u0634\\u0621\\u0646\\u0647 \\u0621\\u0646 \\u064a\\u062a\\u064a\\u062d \\u0633\\u0647\\u0648\\u0644\\u0629 \\u0621\\u0643\\u0628\\u0631 \\u0641\\u064a \\u0645\\u0648\\u0627\\u0621\\u0645\\u0629 \\u0627\\u0644\\u062e\\u062f\\u0645\\u0627\\u062a \\u0644\\u0627\\u062d\\u062a\\u064a\\u0627\\u062c\\u0627\\u062a \\u0621\\u0635\\u062d\\u0627\\u0628 \\u0627\\u0644\\u0647\\u0645\\u0645\",\n          \"\\u062d\\u0648\\u0627\\u0631 \\u0646\\u062c\\u0627\\u0629 \\u0627\\u0644\\u0641\\u0627\\u0631\\u0633 \\u0645\\u062d\\u0645\\u062f \\u0627\\u0644\\u062d\\u0645\\u0627\\u062f\\u064a \\u0643\\u0627\\u062a\\u0628 \\u0621\\u0645\\u0627\\u0631\\u0627\\u062a\\u064a \\u0641\\u0627\\u0632 \\u0628\\u0627\\u0644\\u0645\\u0631\\u0643\\u0632 \\u0627\\u0644\\u062b\\u0627\\u0644\\u062b \\u0628\\u062c\\u0627\\u0621\\u0632\\u0629 \\u0627\\u0644\\u0621\\u0645\\u0627\\u0631\\u0627\\u062a \\u0644\\u0644\\u0631\\u0648\\u0627\\u064a\\u0629 \\u0641\\u064a \\u062f\\u0648\\u0631\\u062a\\u0647\\u0627 \\u0627\\u0644\\u062b\\u0627\\u0644\\u062b\\u0629 \\u0639\\u0646 \\u0631\\u0648\\u0627\\u064a\\u062a\\u0647 \\u0627\\u0644\\u0628\\u062d\\u062b \\u0639\\u0646 \\u0645\\u0645\\u0644\\u0643\\u0629 \\u0627\\u0644\\u0634\\u0645\\u0633 \\u0643\\u0645\\u0627 \\u0641\\u0627\\u0632\\u062a \\u0631\\u0648\\u0627\\u064a\\u062a\\u0647 \\u0627\\u0644\\u064a\\u0648\\u0645 \\u0627\\u0644\\u0621\\u062e\\u064a\\u0631 \\u064a\\u0648\\u0645\\u064a\\u0627\\u062a \\u0627\\u0644\\u0628\\u0631\\u0648\\u0641\\u064a\\u0633\\u0648\\u0631 \\u0645\\u0627\\u0643 \\u0621\\u0621\\u064a\\u062f\\u064a \\u0628\\u0627\\u0644\\u0645\\u0631\\u0643\\u0632 \\u0627\\u0644\\u0621\\u0648\\u0644 \\u0641\\u064a \\u0627\\u0644\\u062f\\u0648\\u0631\\u0629 \\u0627\\u0644\\u062b\\u0627\\u0646\\u064a\\u0629 \\u0644\\u062c\\u0627\\u0621\\u0632\\u0629 \\u0627\\u0644\\u0621\\u0645\\u0627\\u0631\\u0627\\u062a \\u0644\\u0644\\u0631\\u0648\\u0627\\u064a\\u0629 \\u0641\\u0621\\u0629 \\u0627\\u0644\\u0631\\u0648\\u0627\\u064a\\u0629 \\u0627\\u0644\\u0637\\u0648\\u064a\\u0644\\u0629 \\u062a\\u0633\\u062a\\u0647\\u0648\\u064a\\u0647 \\u0643\\u062a\\u0628 \\u0627\\u0644\\u0639\\u0644\\u0648\\u0645 \\u0643\\u0627\\u0644\\u0630\\u0631\\u0629 \\u0648\\u0627\\u0644\\u0641\\u064a\\u0632\\u064a\\u0627\\u0621 \\u0648\\u0627\\u0644\\u0643\\u064a\\u0645\\u064a\\u0627\\u0621 \\u0621\\u0636\\u0627\\u0641\\u0629 \\u0621\\u0644\\u0649 \\u0627\\u0644\\u062a\\u0627\\u0631\\u064a\\u062e \\u0648\\u0627\\u0644\\u0633\\u064a\\u0631 \\u0627\\u0644\\u0630\\u0627\\u062a\\u064a\\u0629 \\u064a\\u0639\\u0645\\u0644 \\u062d\\u0627\\u0644\\u064a\\u0627 \\u0639\\u0644\\u0649 \\u0643\\u062a\\u0627\\u0628\\u0629 \\u0631\\u0648\\u0627\\u064a\\u0629 \\u062a\\u0627\\u0631\\u064a\\u062e\\u064a\\u0629 \\u062a\\u062d\\u062a \\u0639\\u0646\\u0648\\u0627\\u0646 \\u0627\\u0644\\u0646\\u062e\\u0644\\u0629 \\u062a\\u062f\\u0648\\u0631 \\u0621\\u062d\\u062f\\u0627\\u062b\\u0647\\u0627 \\u0641\\u064a \\u0645\\u0635\\u0631 \\u0627\\u0644\\u0641\\u0631\\u0639\\u0648\\u0646\\u064a\\u0629 \\u0648\\u0627\\u0644\\u0628\\u062a\\u0631\\u0627\\u0621 \\u0648\\u0631\\u0648\\u0627\\u064a\\u0629 \\u0621\\u062e\\u0631\\u0649 \\u0628\\u0639\\u0646\\u0648\\u0627\\u0646 \\u0644\\u063a\\u0632 \\u0635\\u0648\\u0631\\u0629 \\u0645\\u0646 \\u0627\\u0644\\u0643\\u0648\\u0643\\u0628 \\u0627\\u0644\\u0621\\u062d\\u0645\\u0631 \\u0648\\u0647\\u064a \\u062c\\u0631\\u064a\\u0645\\u0629 \\u0645\\u0645\\u0632\\u0648\\u062c\\u0629 \\u0628\\u0627\\u0644\\u062e\\u064a\\u0627\\u0644 \\u0627\\u0644\\u0639\\u0644\\u0645\\u064a \\u0643\\u062a\\u0628\\u0647\\u0627 \\u062a\\u0632\\u0627\\u0645\\u0646\\u0627 \\u0645\\u0639 \\u0627\\u0647\\u062a\\u0645\\u0627\\u0645 \\u0627\\u0644\\u0621\\u0645\\u0627\\u0631\\u0627\\u062a \\u0645\\u0621\\u062e\\u0631\\u0627 \\u0628\\u0627\\u0644\\u0641\\u0636\\u0627\\u0621 \\u0648\\u0643\\u0648\\u0643\\u0628 \\u0627\\u0644\\u0645\\u0631\\u064a\\u062e \\u062a\\u062d\\u062f\\u064a\\u062f\\u0627 \\u0644\\u064a\\u0642\\u0631\\u0628 \\u0635\\u0648\\u0631\\u0629 \\u0627\\u0644\\u0645\\u0631\\u064a\\u062e \\u0648\\u0621\\u062c\\u0648\\u0627\\u0621\\u0647 \\u0644\\u0644\\u0642\\u0627\\u0631\\u0621 \\u0627\\u0644\\u0621\\u0645\\u0627\\u0631\\u0627\\u062a\\u064a \\u0648\\u0627\\u0644\\u0639\\u0631\\u0628\\u064a \\u0648\\u0643\\u0627\\u0646 \\u0644\\u0627\\u0644\\u062e\\u0644\\u064a\\u062c \\u0627\\u0644\\u062d\\u0648\\u0627\\u0631 \\u0627\\u0644\\u0621\\u0621\\u062a\\u064a \\u0645\\u0639\\u0647 \\u0643\\u064a\\u0641 \\u0648\\u0645\\u062a\\u0649 \\u0628\\u062f\\u0621\\u062a \\u0631\\u062d\\u0644\\u062a\\u0643 \\u0645\\u0639 \\u0627\\u0644\\u0643\\u062a\\u0627\\u0628\\u0629 \\u0628\\u062f\\u0621\\u062a \\u0627\\u0644\\u0643\\u062a\\u0627\\u0628\\u0629 \\u0628\\u0631\\u0648\\u0627\\u064a\\u0629 \\u0627\\u0644\\u064a\\u0648\\u0645 \\u0627\\u0644\\u0621\\u062e\\u064a\\u0631 \\u0648\\u0643\\u0627\\u0646\\u062a \\u062a\\u062c\\u0631\\u0628\\u062a\\u064a \\u0627\\u0644\\u0621\\u0648\\u0644\\u0649 \\u0648\\u0628\\u0639\\u062f \\u0641\\u0631\\u0627\\u063a\\u064a \\u0645\\u0646\\u0647\\u0627 \\u0628\\u0642\\u064a\\u062a \\u0627\\u0644\\u0631\\u0648\\u0627\\u064a\\u0629 \\u0641\\u0648\\u0642 \\u0627\\u0644\\u0631\\u0641 \\u0644\\u0633\\u0646\\u062a\\u064a\\u0646 \\u0621\\u0644\\u0649 \\u0621\\u0646 \\u0634\\u0627\\u0647\\u062f\\u062a \\u0639\\u0631\\u0636 \\u062c\\u0627\\u0621\\u0632\\u0629 \\u0627\\u0644\\u0621\\u0645\\u0627\\u0631\\u0627\\u062a \\u0644\\u0644\\u0631\\u0648\\u0627\\u064a\\u0629 \\u0641\\u064a \\u0645\\u0639\\u0631\\u0636 \\u0627\\u0644\\u0634\\u0627\\u0631\\u0642\\u0629 \\u0627\\u0644\\u062f\\u0648\\u0644\\u064a \\u0644\\u0644\\u0643\\u062a\\u0627\\u0628 \\u0648\\u0647\\u0646\\u0627\\u0643 \\u0642\\u0631\\u0631\\u062a \\u0621\\u0631\\u0633\\u0627\\u0644\\u0647\\u0627 \\u0648\\u0644\\u0645 \\u0621\\u062a\\u0648\\u0642\\u0639 \\u0627\\u0644\\u0641\\u0648\\u0632 \\u0621\\u0637\\u0644\\u0627\\u0642\\u0627 \\u0643\\u0646\\u062a \\u0645\\u062a\\u0634\\u0627\\u0621\\u0645\\u0627 \\u0628\\u0639\\u0636 \\u0627\\u0644\\u0634\\u064a\\u0621 \\u0644\\u0643\\u0646 \\u0641\\u0648\\u0632\\u0647\\u0627 \\u062f\\u0648\\u0646 \\u0645\\u0646\\u0627\\u0641\\u0633 \\u0645\\u0646\\u062d\\u0646\\u064a \\u0637\\u0627\\u0642\\u0629 \\u0644\\u0644\\u0621\\u0628\\u062f\\u0627\\u0639 \\u0621\\u0643\\u062b\\u0631 \\u0648\\u0639\\u0646\\u062f\\u0647\\u0627 \\u0643\\u062a\\u0628\\u062a \\u0631\\u0648\\u0627\\u064a\\u062a\\u064a \\u0627\\u0644\\u062b\\u0627\\u0646\\u064a\\u0629 \\u0628\\u0648\\u0646\\u063a\\u0627\\u0646\\u064a \\u0627\\u0644\\u0634\\u0627\\u0641\\u064a \\u062d\\u0643\\u0627\\u064a\\u0629 \\u0621\\u0645 \\u0621\\u0641\\u0631\\u064a\\u0642\\u064a\\u0629 \\u0648\\u0621\\u0639\\u062a\\u0628\\u0631\\u0647\\u0627 \\u0627\\u0644\\u0631\\u0648\\u0627\\u064a\\u0629 \\u0627\\u0644\\u0621\\u0642\\u0631\\u0628 \\u0621\\u0644\\u0649 \\u0642\\u0644\\u0628\\u064a \\u0648\\u062a\\u0644\\u0642\\u0641\\u062a \\u0627\\u0644\\u0639\\u0645\\u0644 \\u062f\\u0627\\u0631 \\u0646\\u0634\\u0631 \\u0631\\u0648\\u0627\\u064a\\u0627\\u062a \\u0648\\u0644\\u0642\\u064a\\u062a \\u0627\\u0644\\u0631\\u0648\\u0627\\u064a\\u0629 \\u0646\\u062c\\u0627\\u062d\\u0627 \\u0637\\u064a\\u0628\\u0627 \\u0645\\u0627\\u0630\\u0627 \\u0639\\u0646 \\u0645\\u0634\\u0631\\u0648\\u0639\\u0643 \\u0627\\u0644\\u0621\\u062f\\u0628\\u064a \\u0627\\u0644\\u0642\\u0627\\u062f\\u0645 \\u0645\\u0621\\u062e\\u0631\\u0627 \\u0628\\u062f\\u0621\\u062a \\u0628\\u0643\\u062a\\u0627\\u0628\\u0629 \\u0631\\u0648\\u0627\\u064a\\u0629 \\u062a\\u0627\\u0631\\u064a\\u062e\\u064a\\u0629 \\u062a\\u062d\\u062a \\u0639\\u0646\\u0648\\u0627\\u0646 \\u0627\\u0644\\u0646\\u062e\\u0644\\u0629 \\u062a\\u062f\\u0648\\u0631 \\u0621\\u062d\\u062f\\u0627\\u062b\\u0647\\u0627 \\u0641\\u064a \\u0645\\u0635\\u0631 \\u0627\\u0644\\u0641\\u0631\\u0639\\u0648\\u0646\\u064a\\u0629 \\u0648\\u0627\\u0644\\u0628\\u062a\\u0631\\u0627\\u0621 \\u0641\\u064a \\u0627\\u0644\\u0621\\u0632\\u0645\\u0646\\u0629 \\u0627\\u0644\\u063a\\u0627\\u0628\\u0631\\u0629 \\u062d\\u064a\\u062b \\u062d\\u062f\\u062b\\u062a \\u0645\\u062c\\u0627\\u0639\\u0629 \\u0643\\u0628\\u0631\\u0649 \\u062f\\u0627\\u0631\\u062a \\u0628\\u0639\\u062f\\u0647\\u0627 \\u062d\\u0631\\u0648\\u0628 \\u0637\\u0627\\u062d\\u0646\\u0629 \\u062a\\u0642\\u0648\\u062f \\u0621\\u062d\\u062f\\u0627\\u062b \\u0627\\u0644\\u0631\\u0648\\u0627\\u064a\\u0629 \\u0628\\u0637\\u0644\\u062a\\u064a\\u0647\\u0627 \\u062a\\u0648\\u064a\\u0627 \\u0648\\u0621\\u062e\\u062a\\u0647\\u0627 \\u0628\\u0627\\u062a\\u0648\\u064a\\u0627 \\u0621\\u0644\\u0627 \\u0621\\u0646\\u0646\\u064a \\u062a\\u0648\\u0642\\u0641\\u062a \\u0639\\u0646 \\u0643\\u062a\\u0627\\u0628\\u062a\\u0647\\u0627 \\u0644\\u0621\\u0646\\u0646\\u064a \\u0621\\u0646\\u0634\\u0621\\u062a \\u062d\\u0633\\u0627\\u0628\\u0627 \\u0641\\u064a \\u0621\\u062d\\u062f \\u0645\\u0648\\u0627\\u0642\\u0639 \\u0627\\u0644\\u062a\\u0648\\u0627\\u0635\\u0644 \\u0627\\u0644\\u0627\\u062c\\u062a\\u0645\\u0627\\u0639\\u064a \\u0648\\u0627\\u0646\\u0634\\u063a\\u0644\\u062a \\u0628\\u0621\\u0639\\u062f\\u0627\\u062f\\u0647 \\u0648\\u062a\\u062c\\u0647\\u064a\\u0632\\u0647 \\u0641\\u0621\\u062e\\u0630 \\u0645\\u0646\\u064a \\u0621\\u063a\\u0644\\u0628 \\u0648\\u0642\\u062a \\u0641\\u0631\\u0627\\u063a\\u064a \\u0648\\u0621\\u0638\\u0646 \\u0621\\u0646\\u0646\\u064a \\u0633\\u0621\\u062a\\u0627\\u0628\\u0639 \\u0643\\u062a\\u0627\\u0628\\u062a\\u0647\\u0627 \\u0641\\u064a \\u0648\\u0642\\u062a \\u0644\\u0627\\u062d\\u0642 \\u0644\\u0627 \\u0621\\u0633\\u062a\\u0637\\u064a\\u0639 \\u062a\\u062d\\u062f\\u064a\\u062f\\u0647 \\u0643\\u064a\\u0641 \\u062a\\u062e\\u062a\\u0627\\u0631 \\u0621\\u0628\\u0637\\u0627\\u0644 \\u0621\\u0639\\u0645\\u0627\\u0644\\u0643 \\u0627\\u0644\\u0621\\u062f\\u0628\\u064a\\u0629 \\u0621\\u062e\\u062a\\u0627\\u0631 \\u0621\\u0628\\u0637\\u0627\\u0644 \\u0631\\u0648\\u0627\\u064a\\u0627\\u062a\\u064a \\u0645\\u0646 \\u0645\\u062e\\u064a\\u0644\\u062a\\u064a \\u0644\\u0643\\u0646 \\u0621\\u062d\\u064a\\u0627\\u0646\\u0627 \\u0621\\u0636\\u0637\\u0631 \\u0644\\u0644\\u0627\\u0633\\u062a\\u0639\\u0627\\u0646\\u0629 \\u0628\\u0645\\u0639\\u0627\\u062c\\u0645 \\u0627\\u0644\\u0621\\u0633\\u0645\\u0627\\u0621 \\u0644\\u0627\\u0633\\u062a\\u0646\\u0628\\u0627\\u0637 \\u0627\\u0644\\u0627\\u0633\\u0645 \\u0627\\u0644\\u0645\\u0646\\u0627\\u0633\\u0628 \\u0645\\u062b\\u0644\\u0645\\u0627 \\u062d\\u062f\\u062b \\u0645\\u0639 \\u0631\\u0648\\u0627\\u064a\\u0629 \\u0628\\u0648\\u0646\\u063a\\u0627\\u0646\\u064a \\u0627\\u0644\\u0634\\u0627\\u0641\\u064a \\u0630\\u0627\\u062a \\u0627\\u0644\\u0621\\u0633\\u0645\\u0627\\u0621 \\u0627\\u0644\\u0621\\u0641\\u0631\\u064a\\u0642\\u064a\\u0629 \\u0648\\u0631\\u0648\\u0627\\u064a\\u0629 \\u0644\\u063a\\u0632 \\u0635\\u0648\\u0631\\u0629 \\u0645\\u0646 \\u0627\\u0644\\u0643\\u0648\\u0643\\u0628 \\u0627\\u0644\\u0621\\u062d\\u0645\\u0631 \\u0630\\u0627\\u062a \\u0627\\u0644\\u0621\\u0633\\u0645\\u0627\\u0621 \\u0627\\u0644\\u0647\\u0648\\u0644\\u0646\\u062f\\u064a\\u0629 \\u0648\\u0627\\u0644\\u0631\\u0648\\u0633\\u064a\\u0629 \\u0648\\u0627\\u0644\\u0647\\u0646\\u062f\\u064a\\u0629 \\u0641\\u0628\\u0648\\u0646\\u063a\\u0627\\u0646\\u064a \\u0627\\u0633\\u0645 \\u0621\\u0641\\u0631\\u064a\\u0642\\u064a \\u0621\\u0635\\u064a\\u0644 \\u0645\\u0627 \\u0632\\u0627\\u0644 \\u0645\\u0633\\u062a\\u062e\\u062f\\u0645\\u0627 \\u062d\\u062a\\u0649 \\u0627\\u0644\\u0621\\u0621\\u0646 \\u0648\\u064a\\u0639\\u0646\\u064a \\u0627\\u0644\\u0648\\u0641\\u064a \\u0627\\u0644\\u0645\\u062e\\u0644\\u0635 \\u0648\\u0627\\u0633\\u0645 \\u0627\\u0644\\u0621\\u0645 \\u0645\\u0627\\u0631\\u064a\\u062a \\u064a\\u0639\\u0646\\u064a \\u0644\\u0621\\u0644\\u0621\\u0629 \\u0648\\u0647\\u0646\\u0627\\u0643 \\u0627\\u0644\\u0637\\u0628\\u064a\\u0628 \\u0632\\u0627\\u064a\\u0631\\u064a \\u0621\\u064a \\u0646\\u0647\\u0631 \\u0648\\u0646\\u0648\\u0645\\u0627\\u0644\\u0627\\u063a\\u0627 \\u0646\\u0648\\u0631 \\u0627\\u0644\\u0634\\u0645\\u0633 \\u0648\\u0644\\u064a\\u0633\\u064a\\u062f\\u064a \\u0627\\u0645\\u0631\\u0621\\u0629 \\u0645\\u0646 \\u0646\\u0648\\u0631 \\u0648\\u0647\\u0643\\u0630\\u0627 \\u062f\\u0648\\u0627\\u0644\\u064a\\u0643 \\u0645\\u0627 \\u0647\\u064a \\u0637\\u0628\\u064a\\u0639\\u0629 \\u0642\\u0631\\u0627\\u0621\\u0627\\u062a\\u0643 \\u0648\\u0645\\u0646 \\u0647\\u0648 \\u0627\\u0644\\u0643\\u0627\\u062a\\u0628 \\u0627\\u0644\\u0645\\u0641\\u0636\\u0644 \\u0644\\u062f\\u064a\\u0643 \\u0648\\u0644\\u0645\\u0627\\u0630\\u0627 \\u0628\\u0627\\u0644\\u0646\\u0633\\u0628\\u0629 \\u0644\\u0642\\u0631\\u0627\\u0621\\u0627\\u062a\\u064a \\u0646\\u0627\\u062f\\u0631\\u0627 \\u0645\\u0627 \\u0621\\u0642\\u0631\\u0621 \\u0627\\u0644\\u0631\\u0648\\u0627\\u064a\\u0627\\u062a \\u0621\\u0630 \\u062a\\u0633\\u062a\\u0647\\u0648\\u064a\\u0646\\u064a \\u0643\\u062a\\u0628 \\u0627\\u0644\\u0639\\u0644\\u0648\\u0645 \\u0643\\u0627\\u0644\\u0630\\u0631\\u0629 \\u0648\\u0627\\u0644\\u0641\\u064a\\u0632\\u064a\\u0627\\u0621 \\u0648\\u0627\\u0644\\u0643\\u064a\\u0645\\u064a\\u0627\\u0621 \\u0621\\u0636\\u0627\\u0641\\u0629 \\u0621\\u0644\\u0649 \\u0627\\u0644\\u062a\\u0627\\u0631\\u064a\\u062e \\u0648\\u0627\\u0644\\u0633\\u064a\\u0631 \\u0627\\u0644\\u0630\\u0627\\u062a\\u064a\\u0629 \\u0648\\u0621\\u0646 \\u0643\\u0627\\u0646 \\u0647\\u0646\\u0627\\u0644\\u0643 \\u0643\\u0627\\u062a\\u0628 \\u0621\\u0639\\u0634\\u0642 \\u0643\\u062a\\u0628\\u0647 \\u0641\\u0647\\u0648 \\u062c\\u0648\\u0644 \\u0641\\u064a\\u0631\\u0646 \\u0627\\u0644\\u0645\\u0644\\u0642\\u0628 \\u0628\\u0621\\u0628\\u064a \\u0627\\u0644\\u062e\\u064a\\u0627\\u0644 \\u0627\\u0644\\u0639\\u0644\\u0645\\u064a \\u0648\\u0621\\u0645\\u064a\\u0644 \\u0621\\u062d\\u064a\\u0627\\u0646\\u0627 \\u0644\\u0642\\u0631\\u0627\\u0621\\u0629 \\u0621\\u0639\\u0645\\u0627\\u0644 \\u062c\\u064a \\u0643\\u064a \\u0631\\u0648\\u0644\\u0646\\u063a \\u0645\\u0621\\u0644\\u0641\\u0629 \\u0633\\u0644\\u0633\\u0644\\u0629 \\u0647\\u0627\\u0631\\u064a \\u0628\\u0648\\u062a\\u0631 \\u0648\\u0628\\u0639\\u0636 \\u0627\\u0644\\u0642\\u0635\\u0635 \\u0627\\u0644\\u0621\\u062e\\u0631\\u0649 \\u0621\\u0630 \\u064a\\u0639\\u062c\\u0628\\u0646\\u064a \\u0621\\u0633\\u0644\\u0648\\u0628\\u0647\\u0627 \\u0627\\u0644\\u0645\\u0628\\u0647\\u0631 \\u062c\\u062f\\u0627 \\u0641\\u064a \\u0627\\u0644\\u062e\\u064a\\u0627\\u0644 \\u0648\\u0642\\u0635\\u0629 \\u0646\\u062c\\u0627\\u062d\\u0647\\u0627 \\u0627\\u0644\\u0645\\u0644\\u0647\\u0645\\u0629 \\u062c\\u062f\\u0627 \\u0628\\u0627\\u0644\\u0646\\u0633\\u0628\\u0629 \\u0644\\u064a \\u0648\\u0645\\u0646 \\u0627\\u0644\\u0643\\u062a\\u0628 \\u0627\\u0644\\u0639\\u0631\\u0628\\u064a\\u0629 \\u062a\\u0633\\u062a\\u0647\\u0648\\u064a\\u0646\\u064a \\u0643\\u062a\\u0627\\u0628\\u0627\\u062a \\u062c\\u0645\\u0627\\u0644 \\u0627\\u0644\\u0634\\u062d\\u064a \\u0621\\u0630 \\u0621\\u0646 \\u0633\\u0637\\u0648\\u0631 \\u0643\\u062a\\u0627\\u0628\\u0627\\u062a\\u0647 \\u062a\\u062d\\u062a\\u0648\\u064a \\u0639\\u0644\\u0649 \\u062c\\u0645\\u0644 \\u0641\\u0644\\u0633\\u0641\\u064a\\u0629 \\u0639\\u0645\\u064a\\u0642\\u0629 \\u0644\\u0647\\u0627 \\u0644\\u0630\\u062a\\u0647\\u0627 \\u0627\\u0644\\u062e\\u0627\\u0635\\u0629 \\u0641\\u064a \\u0646\\u0641\\u0633\\u064a \\u0641\\u0647\\u0648 \\u064a\\u0633\\u062a\\u0637\\u064a\\u0639 \\u0621\\u0646 \\u064a\\u0634\\u0627\\u0647\\u062f \\u0627\\u0644\\u0621\\u0645\\u0648\\u0631 \\u0645\\u0646 \\u0632\\u0627\\u0648\\u064a\\u0629 \\u0645\\u062e\\u062a\\u0644\\u0641\\u0629 \\u0645\\u0627 \\u0621\\u0647\\u0645 \\u0627\\u0644\\u062a\\u062d\\u062f\\u064a\\u0627\\u062a \\u0627\\u0644\\u062a\\u064a \\u0648\\u0627\\u062c\\u0647\\u062a\\u0643 \\u0621\\u062b\\u0646\\u0627\\u0621 \\u0631\\u062d\\u0644\\u062a\\u0643 \\u0645\\u0639 \\u0627\\u0644\\u0643\\u0644\\u0645\\u0629 \\u0627\\u0644\\u062a\\u062d\\u062f\\u064a\\u0627\\u062a \\u0627\\u0644\\u062a\\u064a \\u062a\\u0648\\u0627\\u062c\\u0647 \\u0627\\u0644\\u0643\\u0627\\u062a\\u0628 \\u0643\\u062b\\u064a\\u0631\\u0629 \\u0641\\u0641\\u064a \\u0627\\u0644\\u0628\\u062f\\u0627\\u064a\\u0629 \\u064a\\u062a\\u0631\\u062a\\u0628 \\u0639\\u0644\\u064a\\u0647 \\u0621\\u0646 \\u064a\\u062a\\u063a\\u0644\\u0628 \\u0639\\u0644\\u0649 \\u0646\\u0641\\u0633\\u0647 \\u0641\\u0627\\u0644\\u0643\\u062a\\u0627\\u0628\\u0629 \\u0621\\u0645\\u0631 \\u0645\\u0631\\u0647\\u0642 \\u0648\\u064a\\u062a\\u0637\\u0644\\u0628 \\u0645\\u062c\\u0647\\u0648\\u062f\\u0627 \\u0641\\u0643\\u0631\\u064a\\u0627 \\u0648\\u062d\\u062a\\u0649 \\u062c\\u0633\\u062f\\u064a\\u0627 \\u0643\\u0628\\u064a\\u0631\\u0627 \\u0641\\u0639\\u0644\\u064a\\u0647 \\u0621\\u0646 \\u064a\\u0621\\u0644\\u0641 \\u0639\\u0627\\u0644\\u0645\\u0627 \\u0645\\u062a\\u0643\\u0627\\u0645\\u0644\\u0627 \\u0628\\u0643\\u0644 \\u062a\\u0641\\u0627\\u0635\\u064a\\u0644\\u0647 \\u0648\\u064a\\u062a\\u062e\\u064a\\u0644 \\u0643\\u0644 \\u0630\\u0644\\u0643 \\u062b\\u0645 \\u0621\\u0646 \\u0627\\u0644\\u062c\\u0644\\u0648\\u0633 \\u0644\\u0641\\u062a\\u0631\\u0627\\u062a \\u0637\\u0648\\u064a\\u0644\\u0629 \\u0621\\u0645\\u0627\\u0645 \\u0627\\u0644\\u062d\\u0627\\u0633\\u0648\\u0628 \\u0621\\u0645\\u0631 \\u0645\\u0631\\u0647\\u0642 \\u0644\\u0644\\u0639\\u064a\\u0646\\u064a\\u0646 \\u0648\\u0627\\u0644\\u0638\\u0647\\u0631 \\u0621\\u0636\\u064a\\u0641\\u064a \\u0621\\u0644\\u0649 \\u0630\\u0644\\u0643 \\u0627\\u0644\\u062a\\u063a\\u0644\\u0628 \\u0639\\u0644\\u0649 \\u0627\\u0644\\u0621\\u0641\\u0643\\u0627\\u0631 \\u0627\\u0644\\u0633\\u0644\\u0628\\u064a\\u0629 \\u0627\\u0644\\u062a\\u064a \\u062a\\u062f\\u0639\\u0648\\u0647 \\u0644\\u0644\\u0631\\u0627\\u062d\\u0629 \\u0648\\u062a\\u0631\\u0643 \\u0627\\u0644\\u0639\\u0645\\u0644 \\u0641\\u0621\\u0646 \\u0646\\u062c\\u062d \\u0641\\u064a \\u0630\\u0644\\u0643 \\u0633\\u064a\\u0643\\u0648\\u0646 \\u0627\\u0644\\u0628\\u0627\\u0642\\u064a \\u0621\\u0633\\u0647\\u0644 \\u0644\\u0643\\u0646 \\u0644\\u0627 \\u064a\\u062e\\u0644\\u0648 \\u0645\\u0646 \\u0627\\u0644\\u062a\\u062d\\u062f\\u064a \\u0641\\u0627\\u0644\\u0628\\u062d\\u062b \\u0639\\u0646 \\u0646\\u0627\\u0634\\u0631 \\u064a\\u0642\\u0628\\u0644 \\u0628\\u0646\\u0634\\u0631 \\u0627\\u0644\\u0639\\u0645\\u0644 \\u0621\\u0645\\u0631 \\u0645\\u062a\\u0639\\u0628 \\u0648\\u0621\\u0646 \\u0642\\u0628\\u0644 \\u0621\\u062d\\u062f\\u0647\\u0645 \\u0628\\u0627\\u0644\\u0639\\u0645\\u0644 \\u0641\\u0621\\u0646\\u0647 \\u0641\\u064a \\u0627\\u0644\\u063a\\u0627\\u0644\\u0628 \\u064a\\u0637\\u0644\\u0628 \\u0627\\u0644\\u0643\\u062b\\u064a\\u0631 \\u0645\\u0646 \\u0627\\u0644\\u062a\\u0635\\u062d\\u064a\\u062d \\u0648\\u0627\\u0644\\u062a\\u063a\\u064a\\u064a\\u0631 \\u0648\\u0645\\u0646\\u0647\\u0645 \\u0645\\u0646 \\u064a\\u0637\\u0627\\u0644\\u0628 \\u0627\\u0644\\u0643\\u0627\\u062a\\u0628 \\u0628\\u0627\\u0633\\u062a\\u062e\\u0631\\u0627\\u062c \\u0627\\u0644\\u0621\\u0648\\u0631\\u0627\\u0642 \\u0627\\u0644\\u0631\\u0633\\u0645\\u064a\\u0629 \\u0644\\u0644\\u0639\\u0645\\u0644 \\u0628\\u0646\\u0641\\u0633\\u0647 \\u0645\\u0627 \\u064a\\u062c\\u0644\\u0628 \\u0627\\u0644\\u0645\\u0634\\u0642\\u0629 \\u0648\\u0627\\u0644\\u0639\\u0646\\u0627\\u0621 \\u0648\\u0628\\u0639\\u062f \\u0643\\u0644 \\u0630\\u0644\\u0643 \\u064a\\u0642\\u0648\\u0645 \\u0627\\u0644\\u0646\\u0627\\u0634\\u0631 \\u0628\\u062a\\u062c\\u0647\\u064a\\u0632 \\u0627\\u0644\\u0646\\u0633\\u062e\\u0629 \\u0644\\u0644\\u0643\\u062a\\u0627\\u0628\\u0629 \\u0648\\u064a\\u0631\\u0633\\u0644\\u0647\\u0627 \\u0644\\u0644\\u0643\\u0627\\u062a\\u0628 \\u0644\\u064a\\u0631\\u0627\\u062c\\u0639\\u0647\\u0627 \\u0645\\u062c\\u062f\\u062f\\u0627 \\u0648\\u0644\\u0644\\u0645\\u0631\\u0629 \\u0627\\u0644\\u0621\\u062e\\u064a\\u0631\\u0629 \\u0648\\u064a\\u0645\\u0647\\u0644\\u0647 \\u0641\\u062a\\u0631\\u0629 \\u0644\\u0627 \\u062a\\u062a\\u0639\\u062f\\u0649 \\u0627\\u0644\\u062e\\u0645\\u0633\\u0629 \\u0639\\u0634\\u0631 \\u064a\\u0648\\u0645\\u0627 \\u0641\\u064a \\u0621\\u063a\\u0644\\u0628 \\u0627\\u0644\\u0621\\u062d\\u064a\\u0627\\u0646 \\u0648\\u062a\\u0643\\u0648\\u0646 \\u0647\\u064a \\u0627\\u0644\\u0641\\u0631\\u0635\\u0629 \\u0627\\u0644\\u0621\\u062e\\u064a\\u0631\\u0629 \\u0644\\u0644\\u0643\\u0627\\u062a\\u0628 \\u0644\\u0621\\u062c\\u0631\\u0627\\u0621 \\u0627\\u0644\\u062a\\u063a\\u064a\\u064a\\u0631\\u0627\\u062a \\u0645\\u0627 \\u064a\\u062f\\u0641\\u0639\\u0647 \\u0644\\u0644\\u0627\\u0646\\u0634\\u063a\\u0627\\u0644 \\u0641\\u064a \\u0647\\u0630\\u0647 \\u0627\\u0644\\u0641\\u062a\\u0631\\u0629 \\u0648\\u0627\\u0644\\u063a\\u0631\\u0642 \\u0641\\u064a \\u0639\\u0645\\u0644\\u0647 \\u0621\\u0644\\u0649 \\u062c\\u0627\\u0646\\u0628 \\u0621\\u0639\\u0628\\u0627\\u0621 \\u062d\\u064a\\u0627\\u062a\\u0647 \\u0627\\u0644\\u064a\\u0648\\u0645\\u064a\\u0629 \\u0645\\u0646 \\u0639\\u0645\\u0644 \\u0648\\u0639\\u0627\\u0621\\u0644\\u0629 \\u0648\\u0647\\u0630\\u0627 \\u0641\\u064a \\u062d\\u062f \\u0630\\u0627\\u062a\\u0647 \\u064a\\u0634\\u0643\\u0644 \\u0636\\u063a\\u0637\\u0627 \\u0643\\u0628\\u064a\\u0631\\u0627 \\u0639\\u0644\\u064a\\u0647 \\u0648\\u0645\\u062f\\u0639\\u0627\\u0629 \\u0644\\u0644\\u062a\\u0631\\u0627\\u062c\\u0639 \\u0644\\u0643\\u0646 \\u0645\\u0627 \\u0621\\u0646 \\u064a\\u062a\\u0645 \\u0637\\u0628\\u0627\\u0639\\u0629 \\u0627\\u0644\\u0639\\u0645\\u0644 \\u0648\\u064a\\u0645\\u0633\\u0643\\u0647 \\u0627\\u0644\\u0643\\u0627\\u062a\\u0628 \\u0628\\u064a\\u0646 \\u064a\\u062f\\u064a\\u0647 \\u062d\\u062a\\u0649 \\u064a\\u062a\\u0628\\u062f\\u0644 \\u0627\\u0644\\u062a\\u0639\\u0628 \\u0621\\u0644\\u0649 \\u0633\\u0631\\u0648\\u0631 \\u063a\\u0627\\u0645\\u0631 \\u0647\\u0648 \\u0634\\u0639\\u0648\\u0631 \\u064a\\u0634\\u0628\\u0647 \\u0621\\u0644\\u0649 \\u062d\\u062f \\u0643\\u0628\\u064a\\u0631 \\u0627\\u0644\\u0634\\u0639\\u0648\\u0631 \\u0628\\u0648\\u0644\\u0627\\u062f\\u0629 \\u0637\\u0641\\u0644\",\n          \"\\u0621\\u0628\\u0648\\u0638\\u0628\\u064a  \\u0639\\u0644\\u064a \\u0621\\u0633\\u0639\\u062f\\u062d\\u0642\\u0642\\u062a \\u0627\\u0644\\u0621\\u0633\\u0647\\u0645 \\u0645\\u0643\\u0627\\u0633\\u0628 \\u062c\\u062f\\u064a\\u062f\\u0629 \\u0641\\u064a \\u0642\\u064a\\u0645\\u062a\\u0647\\u0627 \\u0627\\u0644\\u0633\\u0648\\u0642\\u064a\\u0629 \\u0628\\u0642\\u064a\\u0645\\u0629 239 \\u0645\\u0644\\u064a\\u0648\\u0646 \\u062f\\u0631\\u0647\\u0645 \\u0644\\u062a\\u0631\\u062a\\u0641\\u0639 \\u0621\\u0644\\u0649 54 803 \\u0645\\u0644\\u064a\\u0627\\u0631 \\u062f\\u0631\\u0647\\u0645 \\u0648\\u0633\\u0637 \\u062a\\u062d\\u0633\\u0646 \\u062c\\u064a\\u062f \\u0641\\u064a \\u0627\\u0644\\u0633\\u064a\\u0648\\u0644\\u0629 \\u0627\\u0644\\u062a\\u064a \\u062a\\u062c\\u0627\\u0648\\u0632\\u062a 267 2 \\u0645\\u0644\\u064a\\u0627\\u0631 \\u062f\\u0631\\u0647\\u0645 \\u0648\\u0627\\u0633\\u062a\\u062d\\u0648\\u0630 \\u0633\\u0647\\u0645 \\u0621\\u0631\\u0627\\u0628\\u062a\\u0643 \\u0627\\u0644\\u0642\\u0627\\u0628\\u0636\\u0629 \\u0639\\u0644\\u0649 1 51 \\u0645\\u0646 \\u0621\\u062c\\u0645\\u0627\\u0644\\u064a \\u0627\\u0644\\u062a\\u062f\\u0627\\u0648\\u0644 \\u0641\\u064a \\u0633\\u0648\\u0642\\u064a \\u0621\\u0628\\u0648\\u0638\\u0628\\u064a \\u0648\\u062f\\u0628\\u064a \\u0627\\u0644\\u0645\\u0627\\u0644\\u064a\\u064a\\u0646 \\u0648\\u0647\\u0648 \\u0645\\u0627 \\u0621\\u062f\\u0649 \\u0621\\u0644\\u0649 \\u0636\\u063a\\u0637 \\u0627\\u0644\\u062a\\u062f\\u0627\\u0648\\u0644 \\u0639\\u0644\\u0649 \\u0627\\u0644\\u0639\\u062f\\u064a\\u062f \\u0645\\u0646 \\u0627\\u0644\\u0621\\u0633\\u0647\\u0645 \\u0628\\u0639\\u062f \\u0642\\u064a\\u0627\\u0645 \\u0645\\u0633\\u062a\\u062b\\u0645\\u0631\\u064a\\u0646 \\u0628\\u0627\\u0644\\u062a\\u0633\\u064a\\u064a\\u0644 \\u0639\\u0644\\u0649 \\u0628\\u0639\\u0636 \\u0627\\u0644\\u0621\\u0633\\u0647\\u0645 \\u0644\\u0634\\u0631\\u0627\\u0621 \\u0621\\u0631\\u0627\\u0628\\u062a\\u0643 \\u0627\\u0644\\u0630\\u064a \\u0621\\u063a\\u0644\\u0642 \\u0639\\u0644\\u0649 \\u0627\\u0631\\u062a\\u0641\\u0627\\u0639 \\u0628\\u0646\\u0633\\u0628\\u0629 81 4 \\u0639\\u0646\\u062f 79 4 \\u062f\\u0631\\u0647\\u0645 \\u0645\\u062a\\u0621\\u062b\\u0631\\u0627 \\u0628\\u062a\\u0648\\u0642\\u0639\\u0627\\u062a \\u0628\\u0639\\u0636 \\u0627\\u0644\\u0645\\u0633\\u062a\\u062b\\u0645\\u0631\\u064a\\u0646 \\u0628\\u0642\\u064a\\u0627\\u0645 \\u062d\\u0633\\u0646 \\u0621\\u0633\\u0645\\u064a\\u0643 \\u0627\\u0644\\u0631\\u0621\\u064a\\u0633 \\u0627\\u0644\\u062a\\u0646\\u0641\\u064a\\u0630\\u064a \\u0627\\u0644\\u0633\\u0627\\u0628\\u0642 \\u0644\\u0644\\u0634\\u0631\\u0643\\u0629 \\u0628\\u0628\\u064a\\u0639 \\u062b\\u0644\\u062b \\u062d\\u0635\\u062a\\u0647 \\u0641\\u064a \\u0627\\u0644\\u0634\\u0631\\u0643\\u0629 \\u0628\\u0633\\u0639\\u0631 5 \\u062f\\u0631\\u0627\\u0647\\u0645 \\u0644\\u0644\\u0633\\u0647\\u0645 \\u0627\\u0644\\u0648\\u0627\\u062d\\u062f \\u0648\\u0627\\u0631\\u062a\\u0641\\u0639 \\u0645\\u0621\\u0634\\u0631 \\u0633\\u0648\\u0642 \\u062f\\u0628\\u064a \\u0627\\u0644\\u0645\\u0627\\u0644\\u064a 23 0 \\u0639\\u0646\\u062f \\u0645\\u0633\\u062a\\u0648\\u0649 13 4986 \\u0646\\u0642\\u0637\\u0629 \\u0648\\u0645\\u0621\\u0634\\u0631 \\u0633\\u0648\\u0642 \\u0621\\u0628\\u0648\\u0638\\u0628\\u064a 26 0 \\u0639\\u0646\\u062f \\u0645\\u0633\\u062a\\u0648\\u0649 82 5128 \\u0646\\u0642\\u0637\\u0629  \\u0648\\u0627\\u0631\\u062a\\u0641\\u0639 \\u0645\\u0621\\u0634\\u0631 \\u0633\\u0648\\u0642 \\u0627\\u0644\\u0621\\u0645\\u0627\\u0631\\u0627\\u062a 03 0 \\u0639\\u0646\\u062f 12 5350 \\u0646\\u0642\\u0637\\u0629 \\u0628\\u062f\\u0639\\u0645 \\u0631\\u0621\\u064a\\u0633 \\u0645\\u0646 \\u0621\\u0633\\u0647\\u0645 \\u0634\\u0631\\u0643\\u0627\\u062a \\u0627\\u0644\\u0639\\u0642\\u0627\\u0631 \\u0648\\u0627\\u0644\\u0635\\u0646\\u0627\\u0639\\u0629 \\u0648\\u0627\\u0644\\u062a\\u0621\\u0645\\u064a\\u0646 \\u0627\\u0644\\u062a\\u064a \\u0627\\u0631\\u062a\\u0641\\u0639\\u062a \\u0645\\u0621\\u0634\\u0631\\u0627\\u062a\\u0647\\u0627 \\u0627\\u0644\\u0642\\u0637\\u0627\\u0639\\u064a\\u0629 \\u0628\\u0646\\u0633\\u0628 \\u0645\\u062a\\u0641\\u0627\\u0648\\u062a\\u0629 \\u0621\\u0643\\u062b\\u0631\\u0647\\u0627 \\u0627\\u0631\\u062a\\u0641\\u0627\\u0639\\u0627 \\u0645\\u0621\\u0634\\u0631 \\u0627\\u0644\\u0639\\u0642\\u0627\\u0631 \\u0628\\u0646\\u0633\\u0628\\u0629 877 0  \\u0648\\u062a\\u0645 \\u062a\\u062f\\u0627\\u0648\\u0644 \\u0621\\u0633\\u0647\\u0645 65 \\u0634\\u0631\\u0643\\u0629 \\u0628\\u0645\\u0642\\u062f\\u0627\\u0631 27 748 \\u0645\\u0644\\u064a\\u0648\\u0646 \\u0633\\u0647\\u0645 \\u0646\\u0641\\u0630\\u062a \\u0645\\u0646 \\u062e\\u0644\\u0627\\u0644 11991 \\u0635\\u0641\\u0642\\u0629 \\u0628\\u0642\\u064a\\u0645\\u0629 267 2 \\u0645\\u0644\\u064a\\u0627\\u0631 \\u062f\\u0631\\u0647\\u0645 \\u0648\\u0627\\u0633\\u062a\\u062d\\u0648\\u0630\\u062a \\u0621\\u0633\\u0647\\u0645 \\u0634\\u0631\\u0643\\u0627\\u062a \\u0627\\u0644\\u0639\\u0642\\u0627\\u0631 \\u0639\\u0644\\u0649 \\u0627\\u0644\\u062d\\u0635\\u0629 \\u0627\\u0644\\u0621\\u0643\\u0628\\u0631 \\u0645\\u0646 \\u0627\\u0644\\u0633\\u064a\\u0648\\u0644\\u0629 \\u0628\\u0642\\u064a\\u0645\\u0629 805 1 \\u0645\\u0644\\u064a\\u0627\\u0631 \\u062f\\u0631\\u0647\\u0645 \\u0648\\u062a\\u0635\\u062f\\u0631 \\u0633\\u0647\\u0645 \\u0621\\u0631\\u0627\\u0628\\u062a\\u0643 \\u0642\\u0627\\u0621\\u0645\\u0629 \\u0627\\u0644\\u0621\\u0633\\u0647\\u0645 \\u0627\\u0644\\u0621\\u0643\\u062b\\u0631 \\u062a\\u062f\\u0627\\u0648\\u0644\\u0627 \\u0628\\u0642\\u064a\\u0645\\u0629 159 1 \\u0645\\u0644\\u064a\\u0627\\u0631 \\u062f\\u0631\\u0647\\u0645 \\u0648\\u0621\\u063a\\u0644\\u0642 \\u0633\\u0639\\u0631 \\u0627\\u0644\\u0633\\u0647\\u0645 \\u0639\\u0644\\u0649 \\u0627\\u0631\\u062a\\u0641\\u0627\\u0639 \\u0628\\u0646\\u0633\\u0628\\u0629 81 4 \\u0639\\u0646\\u062f 79 4 \\u062f\\u0631\\u0647\\u0645 \\u0648\\u0646\\u0641\\u0630\\u062a \\u0635\\u0641\\u0642\\u0627\\u062a \\u0639\\u0644\\u0649 \\u0627\\u0644\\u0633\\u0647\\u0645 \\u0639\\u0646\\u062f \\u0633\\u0639\\u0631 94 4 \\u062f\\u0631\\u0647\\u0645 \\u0648\\u0647\\u0648 \\u0621\\u0639\\u0644\\u0649 \\u0633\\u0639\\u0631 \\u0646\\u0641\\u0630 \\u0639\\u0644\\u064a\\u0629 \\u062e\\u0644\\u0627\\u0644 \\u062c\\u0644\\u0633\\u0629 \\u064a\\u0648\\u0645 \\u0621\\u0645\\u0633 \\u0648\\u0639\\u0627\\u062f \\u0627\\u0644\\u0633\\u0647\\u0645 \\u0648\\u062a\\u0631\\u0627\\u062c\\u0639 \\u0621\\u0644\\u0649 79 4 \\u062f\\u0631\\u0647\\u0645 \\u062a\\u062d\\u062a \\u0636\\u063a\\u0637 \\u0639\\u0645\\u0644\\u064a\\u0627\\u062a \\u062c\\u0646\\u064a \\u0627\\u0644\\u0621\\u0631\\u0628\\u0627\\u062d \\u062e\\u0644\\u0627\\u0644 \\u0627\\u0644\\u062c\\u0644\\u0633\\u0629 \\u0646\\u0641\\u0633\\u0647\\u0627  \\u0648\\u062c\\u0627\\u0621 \\u0633\\u0647\\u0645 \\u0627\\u0644\\u062f\\u0627\\u0631 \\u0627\\u0644\\u0639\\u0642\\u0627\\u0631\\u064a\\u0629 \\u0641\\u064a \\u0627\\u0644\\u0645\\u0631\\u0643\\u0632 \\u0627\\u0644\\u062b\\u0627\\u0646\\u064a \\u0628\\u062a\\u062f\\u0627\\u0648\\u0644 2 268 \\u0645\\u0644\\u064a\\u0648\\u0646 \\u062f\\u0631\\u0647\\u0645 \\u0648\\u0627\\u0631\\u062a\\u0641\\u0639 \\u0633\\u0639\\u0631 \\u0627\\u0644\\u0633\\u0647\\u0645 8 \\u0641\\u0644\\u0648\\u0633 \\u0639\\u0646\\u062f 02 4 \\u062f\\u0631\\u0647\\u0645  \\u0648\\u062c\\u0627\\u0621 \\u0633\\u0647\\u0645 \\u0621\\u0639\\u0645\\u0627\\u0631 \\u0627\\u0644\\u0639\\u0642\\u0627\\u0631\\u064a\\u0629 \\u0641\\u064a \\u0627\\u0644\\u0645\\u0631\\u0643\\u0632 \\u0627\\u0644\\u062b\\u0627\\u0644\\u062b \\u0628\\u062a\\u062f\\u0627\\u0648\\u0644 8 125 \\u0645\\u0644\\u064a\\u0648\\u0646 \\u062f\\u0631\\u0647\\u0645 \\u0648\\u062a\\u0631\\u0627\\u062c\\u0639 \\u0627\\u0644\\u0633\\u0647\\u0645 5 \\u0641\\u0644\\u0648\\u0633 \\u0646\\u062d\\u0648 48 0 \\u0639\\u0646\\u062f 4 10 \\u062f\\u0631\\u0647\\u0645  \\u0648\\u0627\\u062d\\u062a\\u0644 \\u0633\\u0647\\u0645 \\u0627\\u0644\\u0627\\u062a\\u062d\\u0627\\u062f \\u0627\\u0644\\u0639\\u0642\\u0627\\u0631\\u064a\\u0629 \\u0627\\u0644\\u0645\\u0631\\u0643\\u0632 \\u0627\\u0644\\u0631\\u0627\\u0628\\u0639 \\u0628\\u062a\\u062f\\u0627\\u0648\\u0644 123 \\u0645\\u0644\\u064a\\u0648\\u0646 \\u062f\\u0631\\u0647\\u0645 \\u0648\\u062a\\u0631\\u0627\\u062c\\u0639 \\u0627\\u0644\\u0633\\u0647\\u0645 \\u0641\\u0644\\u0633\\u0627 \\u0648\\u0627\\u062d\\u062f\\u0627 \\u0646\\u062d\\u0648 44 0 \\u0639\\u0646\\u062f 28 2 \\u062f\\u0631\\u0647\\u0645  \\u0648\\u062c\\u0627\\u0621 \\u0633\\u0647\\u0645 \\u0633\\u0648\\u0642 \\u062f\\u0628\\u064a \\u0627\\u0644\\u0645\\u0627\\u0644\\u064a \\u0641\\u064a \\u0627\\u0644\\u0645\\u0631\\u0643\\u0632 \\u0627\\u0644\\u062e\\u0627\\u0645\\u0633 \\u0628\\u062a\\u062f\\u0627\\u0648\\u0644 3 83 \\u0645\\u0644\\u064a\\u0648\\u0646 \\u062f\\u0631\\u0647\\u0645 \\u0648\\u062a\\u0631\\u0627\\u062c\\u0639 \\u0627\\u0644\\u0633\\u0647\\u0645 14 1  \\u0639\\u0646\\u062f 47 3 \\u062f\\u0631\\u0647\\u0645 \\u0648\\u062a\\u0635\\u062f\\u0631 \\u0633\\u0647\\u0645 \\u062f\\u0628\\u064a \\u0627\\u0644\\u0648\\u0637\\u0646\\u064a\\u0629 \\u0644\\u0644\\u062a\\u0621\\u0645\\u064a\\u0646 \\u0642\\u0627\\u0621\\u0645\\u0629 \\u0627\\u0644\\u0621\\u0633\\u0647\\u0645 \\u0627\\u0644\\u0621\\u0643\\u062b\\u0631 \\u0627\\u0631\\u062a\\u0641\\u0627\\u0639\\u0627 \\u0641\\u064a \\u0627\\u0644\\u0621\\u0633\\u0639\\u0627\\u0631 \\u0648\\u0635\\u0639\\u062f \\u0627\\u0644\\u0633\\u0647\\u0645 \\u0628\\u0627\\u0644\\u062d\\u062f \\u0627\\u0644\\u0621\\u0639\\u0644\\u0649 71 14 \\u0639\\u0646\\u062f 9 3 \\u062f\\u0631\\u0647\\u0645 \\u0645\\u062d\\u0642\\u0642\\u0627 \\u0645\\u0643\\u0627\\u0633\\u0628 \\u0645\\u0642\\u062f\\u0627\\u0631\\u0647\\u0627 50 \\u0641\\u0644\\u0633\\u0627 \\u0648\\u0633\\u0637 \\u062a\\u062f\\u0627\\u0648\\u0644\\u0627\\u062a \\u0636\\u0639\\u064a\\u0641\\u0629 \\u0628\\u0644\\u063a\\u062a \\u0621\\u0642\\u0644 \\u0645\\u0646 2000 \\u062f\\u0631\\u0647\\u0645 \\u0641\\u0642\\u0637  \\u0643\\u0645\\u0627 \\u0627\\u0631\\u062a\\u0641\\u0639 \\u0633\\u0647\\u0645 \\u0627\\u0644\\u0647\\u0644\\u0627\\u0644 \\u0627\\u0644\\u0621\\u062e\\u0636\\u0631 \\u0644\\u0644\\u062a\\u0621\\u0645\\u064a\\u0646 12 6 \\u0621\\u0644\\u0649 4_ 1 \\u062f\\u0631\\u0647\\u0645  \\u0648\\u0641\\u064a \\u0627\\u0644\\u0645\\u0642\\u0627\\u0628\\u0644 \\u062a\\u0635\\u062f\\u0631 \\u0633\\u0647\\u0645 \\u0621\\u0631\\u064a\\u062c \\u0642\\u0627\\u0621\\u0645\\u0629 \\u0627\\u0644\\u0621\\u0633\\u0647\\u0645 \\u0627\\u0644\\u0621\\u0643\\u062b\\u0631 \\u062a\\u0631\\u0627\\u062c\\u0639\\u0627 \\u0641\\u064a \\u0627\\u0644\\u0621\\u0633\\u0639\\u0627\\u0631 \\u0648\\u0647\\u0628\\u0637 \\u0627\\u0644\\u0633\\u0647\\u0645 \\u0628\\u0627\\u0644\\u062d\\u062f \\u0627\\u0644\\u0621\\u062f\\u0646\\u0649 10 \\u0639\\u0646\\u062f 97 2 \\u062f\\u0631\\u0647\\u0645  \\u0643\\u0645\\u0627 \\u0647\\u0628\\u0637 \\u0633\\u0647\\u0645 \\u0627\\u0644\\u0628\\u0646\\u0643 \\u0627\\u0644\\u0639\\u0631\\u0628\\u064a \\u0627\\u0644\\u0645\\u062a\\u062d\\u062f 43 8 \\u0639\\u0646\\u062f 41 6 \\u062f\\u0631\\u0647\\u0645 \\u0648\\u0627\\u062a\\u062c\\u0647 \\u0627\\u0644\\u0645\\u0633\\u062a\\u062b\\u0645\\u0631\\u0648\\u0646 \\u0627\\u0644\\u0645\\u0648\\u0627\\u0637\\u0646\\u0648\\u0646 \\u062e\\u0644\\u0627\\u0644 \\u062c\\u0644\\u0633\\u0629 \\u0621\\u0645\\u0633 \\u0646\\u062d\\u0648 \\u0634\\u0631\\u0627\\u0621 \\u0627\\u0644\\u0621\\u0633\\u0647\\u0645 \\u0628\\u0642\\u064a\\u0645\\u0629 437 1 \\u0645\\u0644\\u064a\\u0627\\u0631 \\u062f\\u0631\\u0647\\u0645 \\u0648\\u0628\\u0644\\u063a\\u062a \\u0645\\u0628\\u064a\\u0639\\u0627\\u062a\\u0647\\u0645 376 1 \\u0645\\u0644\\u064a\\u0627\\u0631 \\u062f\\u0631\\u0647\\u0645 \\u0648\\u0648\\u0635\\u0644 \\u0635\\u0627\\u0641\\u064a \\u0627\\u0633\\u062a\\u062b\\u0645\\u0627\\u0631\\u062a\\u0647\\u0645 \\u0621\\u0644\\u0649 6 60 \\u0645\\u0644\\u064a\\u0648\\u0646 \\u062f\\u0631\\u0647\\u0645 \\u0645\\u062d\\u0635\\u0644\\u0629 \\u0634\\u0631\\u0627\\u0621  \\u0643\\u0645\\u0627 \\u0627\\u062a\\u062c\\u0647 \\u0627\\u0644\\u0645\\u0633\\u062a\\u062b\\u0645\\u0631\\u0648\\u0646 \\u0627\\u0644\\u0621\\u062c\\u0627\\u0646\\u0628 \\u0645\\u0646 \\u063a\\u064a\\u0631 \\u0627\\u0644\\u0639\\u0631\\u0628 \\u0646\\u062d\\u0648 \\u0634\\u0631\\u0627\\u0621 \\u0627\\u0644\\u0621\\u0633\\u0647\\u0645 \\u0628\\u0642\\u064a\\u0645\\u0629 8 267 \\u0645\\u0644\\u064a\\u0648\\u0646 \\u062f\\u0631\\u0647\\u0645 \\u0648\\u0628\\u0644\\u063a\\u062a \\u0645\\u0628\\u064a\\u0639\\u0627\\u062a\\u0647\\u0645 7 237 \\u0645\\u0644\\u064a\\u0648\\u0646 \\u062f\\u0631\\u0647\\u0645 \\u0648\\u0648\\u0635\\u0644 \\u0635\\u0627\\u0641\\u064a \\u0627\\u0633\\u062a\\u062b\\u0645\\u0627\\u0631\\u0627\\u062a\\u0647\\u0645 \\u0621\\u0644\\u0649 2 30 \\u0645\\u0644\\u064a\\u0648\\u0646 \\u062f\\u0631\\u0647\\u0645 \\u0645\\u062d\\u0635\\u0644\\u0629 \\u0634\\u0631\\u0627\\u0621  \\u0648\\u0631\\u0643\\u0632 \\u0627\\u0644\\u0645\\u0633\\u062a\\u062b\\u0645\\u0631\\u0648\\u0646 \\u0627\\u0644\\u0621\\u062c\\u0627\\u0646\\u0628 \\u0645\\u0634\\u062a\\u0631\\u064a\\u0627\\u062a\\u0647\\u0645 \\u0639\\u0644\\u0649 \\u0621\\u0633\\u0647\\u0645 \\u0645\\u062d\\u062f\\u062f\\u0629 \\u0648\\u0632\\u0627\\u062f\\u0648\\u0627 \\u0645\\u0644\\u0643\\u064a\\u062a\\u0647\\u0645 \\u0641\\u064a \\u0627\\u0644\\u0627\\u062a\\u062d\\u0627\\u062f \\u0627\\u0644\\u0639\\u0642\\u0627\\u0631\\u064a\\u0629 \\u0628\\u0645\\u0642\\u062f\\u0627\\u0631 5 3 \\u0645\\u0644\\u064a\\u0648\\u0646 \\u0633\\u0647\\u0645 \\u0648\\u0641\\u064a \\u0631\\u0621\\u0633 \\u0627\\u0644\\u062e\\u064a\\u0645\\u0629 \\u0628\\u0645\\u0642\\u062f\\u0627\\u063199 2 \\u0645\\u0644\\u064a\\u0648\\u0646 \\u0633\\u0647\\u0645 \\u0648\\u0641\\u064a \\u0621\\u0639\\u0645\\u0627\\u0631 \\u0627\\u0644\\u0639\\u0642\\u0627\\u0631\\u064a\\u0629 \\u0628\\u0645\\u0642\\u062f\\u0627\\u0631 7 2 \\u0645\\u0644\\u064a\\u0648\\u0646 \\u0633\\u0647\\u0645 \\u0648\\u0641\\u064a \\u0627\\u0644\\u062f\\u0627\\u0631 \\u0627\\u0644\\u0639\\u0642\\u0627\\u0631\\u064a\\u0629 \\u0628\\u0645\\u0642\\u062f\\u0627\\u0631 4 1 \\u0645\\u0644\\u064a\\u0648\\u0646 \\u0633\\u0647\\u0645  \\u0648\\u0641\\u064a \\u0627\\u0644\\u0645\\u0642\\u0627\\u0628\\u0644 \\u062e\\u0641\\u0636\\u0648\\u0627 \\u0645\\u0644\\u0643\\u064a\\u062a\\u0647\\u0645 \\u0641\\u064a \\u0621\\u0631\\u0627\\u0628\\u062a\\u0643 \\u0628\\u0645\\u0642\\u062f\\u0627\\u0631 7 5 \\u0645\\u0644\\u064a\\u0648\\u0646 \\u0633\\u0647\\u0645 \\u0648\\u0641\\u064a \\u062f\\u0628\\u064a \\u0627\\u0644\\u0645\\u0627\\u0644\\u064a \\u0628\\u0645\\u0642\\u062f\\u0627\\u0631 4 2 \\u0645\\u0644\\u064a\\u0648\\u0646 \\u0633\\u0647\\u0645 \\u0648\\u0641\\u064a \\u0633\\u064a\\u0631\\u0627\\u0645\\u064a\\u0643 \\u0631\\u0621\\u0633 \\u0627\\u0644\\u062e\\u064a\\u0645\\u0629 \\u0628\\u0645\\u0642\\u062f\\u0627\\u0631 4 640 \\u0621\\u0644\\u0641 \\u0633\\u0647\\u0645 \\u0648\\u0627\\u062a\\u062c\\u0647 \\u0627\\u0644\\u0645\\u0633\\u062a\\u062b\\u0645\\u0631\\u0648\\u0646 \\u0627\\u0644\\u062e\\u0644\\u064a\\u062c\\u064a\\u0648\\u0646 \\u0648\\u0627\\u0644\\u0639\\u0631\\u0628 \\u0646\\u062d\\u0648 \\u0628\\u064a\\u0639 \\u0627\\u0644\\u0621\\u0633\\u0647\\u0645 \\u0648\\u0634\\u0643\\u0644\\u062a \\u0645\\u0628\\u064a\\u0639\\u0627\\u062a\\u0647\\u0645 \\u0636\\u063a\\u0648\\u0637\\u0627 \\u0639\\u0644\\u0649 \\u062d\\u0631\\u0643\\u0629 \\u0627\\u0644\\u0621\\u0633\\u0648\\u0627\\u0642 \\u0648\\u0628\\u0644\\u063a \\u0635\\u0627\\u0641\\u064a \\u0627\\u0633\\u062a\\u062b\\u0645\\u0627\\u0631\\u0627\\u062a \\u0627\\u0644\\u0639\\u0631\\u0628 7 27 \\u0645\\u0644\\u064a\\u0648\\u0646 \\u0633\\u0647\\u0645 \\u0645\\u062d\\u0635\\u0644\\u0629 \\u0628\\u064a\\u0639 \\u0641\\u064a\\u0645\\u0627 \\u0628\\u0644\\u063a \\u0635\\u0627\\u0641\\u064a \\u0627\\u0633\\u062a\\u062b\\u0645\\u0627\\u0631\\u0627\\u062a \\u0627\\u0644\\u062e\\u0644\\u064a\\u062c\\u064a\\u064a\\u0646 1 63 \\u0645\\u0644\\u064a\\u0648\\u0646 \\u0633\\u0647\\u0645 \\u0645\\u062d\\u0635\\u0644\\u0629 \\u0628\\u064a\\u0639  \\u0628\\u062f\\u0648\\u0631\\u0647\\u0627 \\u0627\\u062a\\u062c\\u0647\\u062a \\u0627\\u0644\\u0645\\u062d\\u0627\\u0641\\u0638 \\u0627\\u0644\\u0627\\u0633\\u062a\\u062b\\u0645\\u0627\\u0631\\u064a\\u0629 \\u0646\\u062d\\u0648 \\u0628\\u064a\\u0639 \\u0627\\u0644\\u0621\\u0633\\u0647\\u0645 \\u0648\\u0634\\u0643\\u0644\\u062a \\u0645\\u0628\\u064a\\u0639\\u0627\\u062a\\u0647\\u0627 \\u0627\\u0644\\u0628\\u0627\\u0644\\u063a\\u0629 3 490 \\u0645\\u0644\\u064a\\u0648\\u0646 \\u062f\\u0631\\u0647\\u0645 \\u0636\\u063a\\u0648\\u0637\\u0627 \\u0639\\u0644\\u0649 \\u062d\\u0631\\u0643\\u0629 \\u0627\\u0644\\u0621\\u0633\\u0648\\u0627\\u0642 \\u0641\\u064a\\u0645\\u0627 \\u0628\\u0644\\u063a\\u062a \\u0645\\u0634\\u062a\\u0631\\u064a\\u0627\\u062a\\u0647\\u0627 7 382 \\u0645\\u0644\\u064a\\u0648\\u0646 \\u062f\\u0631\\u0647\\u0645 \\u0648\\u0648\\u0635\\u0644 \\u0635\\u0627\\u0641\\u064a \\u0627\\u0633\\u062a\\u062b\\u0645\\u0627\\u0631\\u0627\\u062a\\u0647\\u0627 \\u0621\\u0644\\u0649 7 107 \\u0645\\u0644\\u064a\\u0648\\u0646 \\u062f\\u0631\\u0647\\u0645 \\u0645\\u062d\\u0635\\u0644\\u0629 \\u0628\\u064a\\u0639 \\u0648\\u0641\\u064a \\u0627\\u0644\\u0645\\u0642\\u0627\\u0628\\u0644 \\u0627\\u062a\\u062c\\u0647 \\u0627\\u0644\\u0645\\u0633\\u062a\\u062b\\u0645\\u0631\\u0648\\u0646 \\u0627\\u0644\\u0621\\u0641\\u0631\\u0627\\u062f \\u0646\\u062d\\u0648 \\u0634\\u0631\\u0627\\u0621 \\u0627\\u0644\\u0621\\u0633\\u0647\\u0645 \\u0628\\u0635\\u0627\\u0641\\u064a \\u0627\\u0633\\u062a\\u062b\\u0645\\u0627\\u0631 \\u0648\\u0635\\u0644 \\u0621\\u0644\\u0649 7 107 \\u0645\\u0644\\u064a\\u0648\\u0646 \\u062f\\u0631\\u0647\\u0645 \\u0645\\u062d\\u0635\\u0644\\u0629 \\u0634\\u0631\\u0627\\u0621  \\u0621\\u0633\\u0645\\u064a\\u0643 \\u064a\\u0631\\u0641\\u0636 \\u0639\\u0631\\u0636\\u0627 \\u0644\\u0628\\u064a\\u0639 \\u062c\\u0632\\u0621 \\u0645\\u0646 \\u062d\\u0635\\u062a\\u0647 \\u0641\\u064a \\u0621\\u0631\\u0627\\u0628\\u062a\\u0643 \\u0628 5 \\u062f\\u0631\\u0627\\u0647\\u0645 \\u0644\\u0644\\u0633\\u0647\\u0645 \\u0631\\u0641\\u0636 \\u062d\\u0633\\u0646 \\u0621\\u0633\\u0645\\u064a\\u0643 \\u0627\\u0644\\u0631\\u0621\\u064a\\u0633 \\u0627\\u0644\\u062a\\u0646\\u0641\\u064a\\u0630\\u064a \\u0627\\u0644\\u0633\\u0627\\u0628\\u0642 \\u0644\\u0634\\u0631\\u0643\\u0629 \\u0621\\u0631\\u0627\\u0628\\u062a\\u0643 \\u0627\\u0644\\u0642\\u0627\\u0628\\u0636\\u0629 \\u0639\\u0631\\u0636\\u0627 \\u0645\\u0646 \\u0642\\u0628\\u0644 \\u0634\\u0631\\u0643\\u0629 \\u0621\\u0621\\u0628\\u0627\\u0631 \\u0644\\u0644\\u0627\\u0633\\u062a\\u062b\\u0645\\u0627\\u0631 \\u0644\\u0628\\u064a\\u0639 \\u062c\\u0632\\u0621 \\u0645\\u0646 \\u062d\\u0635\\u062a\\u0647 \\u0641\\u064a \\u0621\\u0631\\u0627\\u0628\\u062a\\u0643 \\u0628\\u0642\\u064a\\u0645\\u0629 5 \\u062f\\u0631\\u0627\\u0647\\u0645 \\u0644\\u0644\\u0633\\u0647\\u0645 \\u0627\\u0644\\u0648\\u0627\\u062d\\u062f  \\u0648\\u0621\\u0648\\u0636\\u062d \\u0621\\u0633\\u0645\\u064a\\u0643 \\u0641\\u064a \\u0645\\u0642\\u0627\\u0628\\u0644\\u0629 \\u0647\\u0627\\u062a\\u0641\\u064a\\u0629 \\u0645\\u0639 \\u0628\\u0644\\u0648\\u0645\\u0628\\u064a\\u0631\\u063a \\u0621\\u0646 \\u0621\\u0621\\u0628\\u0627\\u0631 \\u0644\\u0627 \\u062a\\u0632\\u0627\\u0644 \\u062a\\u062a\\u0641\\u0627\\u0648\\u0636 \\u0645\\u0639\\u0647 \\u0644\\u0628\\u064a\\u0639 \\u0646\\u0635\\u0641 \\u062d\\u0635\\u062a\\u0647 \\u0641\\u064a \\u0627\\u0644\\u0634\\u0631\\u0643\\u0629 \\u0645\\u0634\\u064a\\u0631\\u0627 \\u0621\\u0644\\u0649 \\u0621\\u0646\\u0647 \\u064a\\u0633\\u0639\\u0649 \\u0621\\u0644\\u0649 \\u0628\\u064a\\u0639 \\u062d\\u0635\\u062a\\u0647 \\u0628\\u0633\\u0639\\u0631 \\u064a\\u0632\\u064a\\u062f \\u0639\\u0644\\u0649 5 \\u062f\\u0631\\u0627\\u0647\\u0645 \\u0644\\u0644\\u0633\\u0647\\u0645 \\u0645\\u0646 \\u062c\\u0647\\u0629 \\u0621\\u062e\\u0631\\u0649 \\u0642\\u0627\\u0644 \\u062d\\u0633\\u0646 \\u0621\\u0633\\u0645\\u064a\\u0643 \\u0621\\u0646\\u0647 \\u064a\\u062c\\u0631\\u064a \\u0645\\u062d\\u0627\\u062f\\u062b\\u0627\\u062a \\u062d\\u0648\\u0644 \\u0628\\u064a\\u0639 \\u062c\\u0632\\u0621 \\u0645\\u0646 \\u062d\\u0635\\u062a\\u0647 \\u0627\\u0644\\u0628\\u0627\\u0644\\u063a\\u0629 9 27 \\u0644\\u0635\\u0646\\u062f\\u0648\\u0642 \\u0621\\u0621\\u0628\\u0627\\u0631 \\u0644\\u0644\\u0627\\u0633\\u062a\\u062b\\u0645\\u0627\\u0631\\u0627\\u062a \\u0641\\u064a \\u0621\\u0628\\u0648\\u0638\\u0628\\u064a \\u0648\\u064a\\u0631\\u064a\\u062f \\u0633\\u0639\\u0631\\u0627 \\u064a\\u062a\\u062c\\u0627\\u0648\\u0632 5 \\u062f\\u0631\\u0627\\u0647\\u0645 \\u0644\\u0644\\u0633\\u0647\\u0645 \\u0648\\u0647\\u0648 \\u0645\\u0627 \\u064a\\u0641\\u0648\\u0642 \\u0633\\u0639\\u0631 \\u0627\\u0644\\u0633\\u0648\\u0642 \\u0627\\u0644\\u062d\\u0627\\u0644\\u064a \\u0628\\u0646\\u062d\\u0648 4 \\u0648\\u0642\\u0627\\u0644 \\u0644\\u0631\\u0648\\u064a\\u062a\\u0631\\u0632 \\u0639\\u0628\\u0631 \\u0627\\u0644\\u0647\\u0627\\u062a\\u0641 \\u062e\\u0645\\u0633\\u0629 \\u062f\\u0631\\u0627\\u0647\\u0645 \\u0644\\u0644\\u0633\\u0647\\u0645 \\u0644\\u064a\\u0633\\u062a \\u0645\\u0642\\u0628\\u0648\\u0644\\u0629 \\u0628\\u0627\\u0644\\u0646\\u0633\\u0628\\u0629 \\u0621\\u0644\\u064a \\u0648\\u0642\\u0641\\u0632 \\u0633\\u0639\\u0631 \\u0633\\u0647\\u0645 \\u0621\\u0631\\u0627\\u0628\\u062a\\u0643 13 \\u0621\\u0644\\u0649 97 4 \\u062f\\u0631\\u0647\\u0645 \\u0641\\u064a \\u0627\\u0644\\u062c\\u0644\\u0633\\u0627\\u062a \\u0627\\u0644\\u0621\\u0631\\u0628\\u0639 \\u0627\\u0644\\u0621\\u062e\\u064a\\u0631\\u0629 \"\n        ],\n        \"semantic_type\": \"\",\n        \"description\": \"\"\n      }\n    },\n    {\n      \"column\": \"label\",\n      \"properties\": {\n        \"dtype\": \"category\",\n        \"num_unique_values\": 3,\n        \"samples\": [\n          \"Culture\",\n          \"Finance\",\n          \"Medical\"\n        ],\n        \"semantic_type\": \"\",\n        \"description\": \"\"\n      }\n    }\n  ]\n}"
            }
          },
          "metadata": {},
          "execution_count": 11
        }
      ]
    },
    {
      "cell_type": "code",
      "source": [
        "train_df , test_df = train_test_split(df, test_size= 0.2, random_state=42)"
      ],
      "metadata": {
        "id": "HQmrAyb9M7m3"
      },
      "id": "HQmrAyb9M7m3",
      "execution_count": 12,
      "outputs": []
    },
    {
      "cell_type": "code",
      "source": [
        "from sklearn.preprocessing import LabelEncoder\n",
        "\n",
        "le = LabelEncoder()\n",
        "\n",
        "train_df['label'] = le.fit_transform(train_df['label'])\n",
        "test_df['label'] = le.fit_transform(test_df['label'])"
      ],
      "metadata": {
        "id": "_UCJApSj4uAV"
      },
      "id": "_UCJApSj4uAV",
      "execution_count": 13,
      "outputs": []
    },
    {
      "cell_type": "code",
      "source": [
        "!pip install datasets"
      ],
      "metadata": {
        "colab": {
          "base_uri": "https://localhost:8080/"
        },
        "id": "OQRKqtF76oLy",
        "outputId": "022c47c3-d89f-4c98-d164-48f4ce63a24c"
      },
      "id": "OQRKqtF76oLy",
      "execution_count": 14,
      "outputs": [
        {
          "output_type": "stream",
          "name": "stdout",
          "text": [
            "Requirement already satisfied: datasets in /usr/local/lib/python3.10/dist-packages (3.0.0)\n",
            "Requirement already satisfied: filelock in /usr/local/lib/python3.10/dist-packages (from datasets) (3.16.0)\n",
            "Requirement already satisfied: numpy>=1.17 in /usr/local/lib/python3.10/dist-packages (from datasets) (1.26.4)\n",
            "Requirement already satisfied: pyarrow>=15.0.0 in /usr/local/lib/python3.10/dist-packages (from datasets) (17.0.0)\n",
            "Requirement already satisfied: dill<0.3.9,>=0.3.0 in /usr/local/lib/python3.10/dist-packages (from datasets) (0.3.8)\n",
            "Requirement already satisfied: pandas in /usr/local/lib/python3.10/dist-packages (from datasets) (2.1.4)\n",
            "Requirement already satisfied: requests>=2.32.2 in /usr/local/lib/python3.10/dist-packages (from datasets) (2.32.3)\n",
            "Requirement already satisfied: tqdm>=4.66.3 in /usr/local/lib/python3.10/dist-packages (from datasets) (4.66.5)\n",
            "Requirement already satisfied: xxhash in /usr/local/lib/python3.10/dist-packages (from datasets) (3.5.0)\n",
            "Requirement already satisfied: multiprocess in /usr/local/lib/python3.10/dist-packages (from datasets) (0.70.16)\n",
            "Requirement already satisfied: fsspec<=2024.6.1,>=2023.1.0 in /usr/local/lib/python3.10/dist-packages (from fsspec[http]<=2024.6.1,>=2023.1.0->datasets) (2024.6.1)\n",
            "Requirement already satisfied: aiohttp in /usr/local/lib/python3.10/dist-packages (from datasets) (3.10.5)\n",
            "Requirement already satisfied: huggingface-hub>=0.22.0 in /usr/local/lib/python3.10/dist-packages (from datasets) (0.24.6)\n",
            "Requirement already satisfied: packaging in /usr/local/lib/python3.10/dist-packages (from datasets) (24.1)\n",
            "Requirement already satisfied: pyyaml>=5.1 in /usr/local/lib/python3.10/dist-packages (from datasets) (6.0.2)\n",
            "Requirement already satisfied: aiohappyeyeballs>=2.3.0 in /usr/local/lib/python3.10/dist-packages (from aiohttp->datasets) (2.4.0)\n",
            "Requirement already satisfied: aiosignal>=1.1.2 in /usr/local/lib/python3.10/dist-packages (from aiohttp->datasets) (1.3.1)\n",
            "Requirement already satisfied: attrs>=17.3.0 in /usr/local/lib/python3.10/dist-packages (from aiohttp->datasets) (24.2.0)\n",
            "Requirement already satisfied: frozenlist>=1.1.1 in /usr/local/lib/python3.10/dist-packages (from aiohttp->datasets) (1.4.1)\n",
            "Requirement already satisfied: multidict<7.0,>=4.5 in /usr/local/lib/python3.10/dist-packages (from aiohttp->datasets) (6.1.0)\n",
            "Requirement already satisfied: yarl<2.0,>=1.0 in /usr/local/lib/python3.10/dist-packages (from aiohttp->datasets) (1.11.1)\n",
            "Requirement already satisfied: async-timeout<5.0,>=4.0 in /usr/local/lib/python3.10/dist-packages (from aiohttp->datasets) (4.0.3)\n",
            "Requirement already satisfied: typing-extensions>=3.7.4.3 in /usr/local/lib/python3.10/dist-packages (from huggingface-hub>=0.22.0->datasets) (4.12.2)\n",
            "Requirement already satisfied: charset-normalizer<4,>=2 in /usr/local/lib/python3.10/dist-packages (from requests>=2.32.2->datasets) (3.3.2)\n",
            "Requirement already satisfied: idna<4,>=2.5 in /usr/local/lib/python3.10/dist-packages (from requests>=2.32.2->datasets) (3.8)\n",
            "Requirement already satisfied: urllib3<3,>=1.21.1 in /usr/local/lib/python3.10/dist-packages (from requests>=2.32.2->datasets) (2.0.7)\n",
            "Requirement already satisfied: certifi>=2017.4.17 in /usr/local/lib/python3.10/dist-packages (from requests>=2.32.2->datasets) (2024.8.30)\n",
            "Requirement already satisfied: python-dateutil>=2.8.2 in /usr/local/lib/python3.10/dist-packages (from pandas->datasets) (2.8.2)\n",
            "Requirement already satisfied: pytz>=2020.1 in /usr/local/lib/python3.10/dist-packages (from pandas->datasets) (2024.2)\n",
            "Requirement already satisfied: tzdata>=2022.1 in /usr/local/lib/python3.10/dist-packages (from pandas->datasets) (2024.1)\n",
            "Requirement already satisfied: six>=1.5 in /usr/local/lib/python3.10/dist-packages (from python-dateutil>=2.8.2->pandas->datasets) (1.16.0)\n"
          ]
        }
      ]
    },
    {
      "cell_type": "code",
      "source": [
        "from datasets import Dataset\n",
        "train_dataset = Dataset.from_pandas(train_df)\n",
        "test_dataset = Dataset.from_pandas(test_df)"
      ],
      "metadata": {
        "id": "er382r4x6q0u"
      },
      "id": "er382r4x6q0u",
      "execution_count": 15,
      "outputs": []
    },
    {
      "cell_type": "markdown",
      "id": "091d3694",
      "metadata": {
        "id": "091d3694"
      },
      "source": [
        "## Step 4: Tokenizing the Data"
      ]
    },
    {
      "cell_type": "markdown",
      "id": "c6418768",
      "metadata": {
        "id": "c6418768"
      },
      "source": [
        "Initialize a tokenizer for the model."
      ]
    },
    {
      "cell_type": "code",
      "execution_count": 16,
      "id": "89a28bfc",
      "metadata": {
        "id": "89a28bfc",
        "colab": {
          "base_uri": "https://localhost:8080/"
        },
        "outputId": "674e6cea-7adc-47f4-a469-a1cfaa0e0352"
      },
      "outputs": [
        {
          "output_type": "stream",
          "name": "stderr",
          "text": [
            "/usr/local/lib/python3.10/dist-packages/transformers/tokenization_utils_base.py:1601: FutureWarning: `clean_up_tokenization_spaces` was not set. It will be set to `True` by default. This behavior will be depracted in transformers v4.45, and will be then set to `False` by default. For more details check this issue: https://github.com/huggingface/transformers/issues/31884\n",
            "  warnings.warn(\n"
          ]
        }
      ],
      "source": [
        "from transformers import AutoTokenizer\n",
        "\n",
        "tokenizer = AutoTokenizer.from_pretrained(\"aubmindlab/bert-base-arabertv02\")\n",
        "\n",
        "def tokenize_fun(examples):\n",
        "  return tokenizer(examples['text'], truncation = True, padding = True)"
      ]
    },
    {
      "cell_type": "markdown",
      "id": "89500748",
      "metadata": {
        "id": "89500748"
      },
      "source": [
        "## Step 5: Preprocessing the Text"
      ]
    },
    {
      "cell_type": "markdown",
      "id": "30bd6fab",
      "metadata": {
        "id": "30bd6fab"
      },
      "source": [
        "Map the tokenization function to the dataset. Ensure the text data is processed using truncation to handle sequences that exceed the model's input size. Please do any further preprocessing.\n",
        "\n",
        "**Bonus**: If you performed more comprehensive preprocessing, such as removing links, converting text to lowercase, or applying additional preprocessing techniques."
      ]
    },
    {
      "cell_type": "code",
      "source": [
        "tokenized_train_dataset = train_dataset.map(tokenize_fun, batched = True)\n",
        "tokenized_test_dataset = test_dataset.map(tokenize_fun, batched=True)"
      ],
      "metadata": {
        "colab": {
          "base_uri": "https://localhost:8080/",
          "height": 81,
          "referenced_widgets": [
            "ba46d497a87c40cebd7cdb52e2b17d2f",
            "aeb9b75bbc37487a8a515fdeeee26976",
            "55c16f04505446278cbabdab9a66e5d5",
            "cad0dfb55b1d4bd492472c6140b73d2e",
            "baffc2922c6642398fc3ffa49031ac30",
            "31a95bb9d84e4ed88b193e48327754c1",
            "f73ee0c772d048e085da3cc80f69ef7f",
            "a45ce7303a0c4d56a2bfd650de237517",
            "cde269bdf140436ba345cb90f302ee51",
            "6597117ae691443d9476231bdc9a0211",
            "7a09a334bb9748108bf4c9bc8cc5b5d4",
            "9ab630b01f904d859fb133c31759e313",
            "c36c7302097a4d90a281a3997ac54080",
            "7b5ab4ff4f7746fea0e7b913d631d5c6",
            "f5f41c065acd46078229d35ca6b02a17",
            "4aaba673eb6f4071877ae5cfefbb7653",
            "b171ecf4311a45469b840ec0b0c585fe",
            "734bbb107e73400996a51aa420cdc2e7",
            "98095a1051014db6b7b3bba3a6bb2817",
            "a94f283dbabc4946815ac00c51b28d0f",
            "fd2185600647458d944b8c3ae3d3cbb2",
            "5c02f577abef4b82847b20ac9739980d"
          ]
        },
        "id": "loT3pSVW6hmY",
        "outputId": "e6e8c4ed-a9b1-49b0-96e8-e9553c0a84bb"
      },
      "id": "loT3pSVW6hmY",
      "execution_count": 17,
      "outputs": [
        {
          "output_type": "display_data",
          "data": {
            "text/plain": [
              "Map:   0%|          | 0/12000 [00:00<?, ? examples/s]"
            ],
            "application/vnd.jupyter.widget-view+json": {
              "version_major": 2,
              "version_minor": 0,
              "model_id": "ba46d497a87c40cebd7cdb52e2b17d2f"
            }
          },
          "metadata": {}
        },
        {
          "output_type": "display_data",
          "data": {
            "text/plain": [
              "Map:   0%|          | 0/3000 [00:00<?, ? examples/s]"
            ],
            "application/vnd.jupyter.widget-view+json": {
              "version_major": 2,
              "version_minor": 0,
              "model_id": "9ab630b01f904d859fb133c31759e313"
            }
          },
          "metadata": {}
        }
      ]
    },
    {
      "cell_type": "markdown",
      "id": "5f05ad70",
      "metadata": {
        "id": "5f05ad70"
      },
      "source": [
        "### Step 6: Label Encoding"
      ]
    },
    {
      "cell_type": "markdown",
      "id": "87441817",
      "metadata": {
        "id": "87441817"
      },
      "source": [
        "Convert the categorical labels into numerical format using a label encoder if needed."
      ]
    },
    {
      "cell_type": "code",
      "execution_count": null,
      "id": "dcb0ce69",
      "metadata": {
        "id": "dcb0ce69"
      },
      "outputs": [],
      "source": []
    },
    {
      "cell_type": "markdown",
      "id": "2c2cde80",
      "metadata": {
        "id": "2c2cde80"
      },
      "source": [
        "### Step 7: Data Collation for Padding"
      ]
    },
    {
      "cell_type": "markdown",
      "id": "130522fd",
      "metadata": {
        "id": "130522fd"
      },
      "source": [
        "Prepare the data for training by ensuring all sequences in a batch are padded to the same length. Use a data collator to handle dynamic padding."
      ]
    },
    {
      "cell_type": "code",
      "execution_count": 18,
      "id": "fe5832f9",
      "metadata": {
        "id": "fe5832f9"
      },
      "outputs": [],
      "source": [
        "from transformers import DataCollatorWithPadding\n",
        "\n",
        "data_collator = DataCollatorWithPadding(tokenizer = tokenizer)"
      ]
    },
    {
      "cell_type": "markdown",
      "id": "08125f2b",
      "metadata": {
        "id": "08125f2b"
      },
      "source": [
        "### Step 8: Model Initialization"
      ]
    },
    {
      "cell_type": "markdown",
      "id": "a209e8e8",
      "metadata": {
        "id": "a209e8e8"
      },
      "source": [
        "Initialize a sequence classification model using the BERT-based architecture. Set the the right amount of output labels."
      ]
    },
    {
      "cell_type": "code",
      "source": [
        "from transformers import AutoConfig , AutoModelForSequenceClassification\n",
        "\n",
        "checkpoint = 'aubmindlab/bert-base-arabertv02'\n",
        "num_labels = len(df['label'].unique())\n",
        "\n",
        "config = AutoConfig.from_pretrained(checkpoint, num_labels= num_labels)\n",
        "model = AutoModelForSequenceClassification.from_pretrained(checkpoint, config = config)"
      ],
      "metadata": {
        "colab": {
          "base_uri": "https://localhost:8080/"
        },
        "id": "akfltDlz-KQs",
        "outputId": "b9a428c3-b59a-4969-ab05-d630b1b6ac2f"
      },
      "id": "akfltDlz-KQs",
      "execution_count": 19,
      "outputs": [
        {
          "output_type": "stream",
          "name": "stderr",
          "text": [
            "Some weights of BertForSequenceClassification were not initialized from the model checkpoint at aubmindlab/bert-base-arabertv02 and are newly initialized: ['classifier.bias', 'classifier.weight']\n",
            "You should probably TRAIN this model on a down-stream task to be able to use it for predictions and inference.\n"
          ]
        }
      ]
    },
    {
      "cell_type": "markdown",
      "id": "c662a02e",
      "metadata": {
        "id": "c662a02e"
      },
      "source": [
        "## Step 9: Training Arguments"
      ]
    },
    {
      "cell_type": "markdown",
      "id": "fc922a37",
      "metadata": {
        "id": "fc922a37"
      },
      "source": [
        "Define the training arguments, including parameters such as learning rate, batch size, number of epochs, and weight decay."
      ]
    },
    {
      "cell_type": "code",
      "source": [
        "from transformers import Trainer, TrainingArguments\n",
        "\n",
        "training_args = TrainingArguments(\n",
        "    output_dir='./results',\n",
        "    learning_rate = 4e-5,\n",
        "    per_device_train_batch_size=4,\n",
        "    num_train_epochs=1,\n",
        "    evaluation_strategy=\"no\"\n",
        ")"
      ],
      "metadata": {
        "colab": {
          "base_uri": "https://localhost:8080/"
        },
        "id": "rCOi8CkD-09N",
        "outputId": "0ef292cf-10c4-462e-aa3e-1350c5df08a2"
      },
      "id": "rCOi8CkD-09N",
      "execution_count": 20,
      "outputs": [
        {
          "output_type": "stream",
          "name": "stderr",
          "text": [
            "/usr/local/lib/python3.10/dist-packages/transformers/training_args.py:1525: FutureWarning: `evaluation_strategy` is deprecated and will be removed in version 4.46 of 🤗 Transformers. Use `eval_strategy` instead\n",
            "  warnings.warn(\n"
          ]
        }
      ]
    },
    {
      "cell_type": "markdown",
      "id": "74aabddb",
      "metadata": {
        "id": "74aabddb"
      },
      "source": [
        "## Step 10: Trainer Initialization and Training"
      ]
    },
    {
      "cell_type": "markdown",
      "id": "3d3b4bf5",
      "metadata": {
        "id": "3d3b4bf5"
      },
      "source": [
        "Set up the trainer with the model, training arguments, dataset, tokenizer, and data collator. Train the model using the dataset you processed earlier."
      ]
    },
    {
      "cell_type": "code",
      "source": [
        "tranier = Trainer(\n",
        "    model = model,\n",
        "    args = training_args,\n",
        "    train_dataset = tokenized_train_dataset\n",
        ")\n",
        "tranier.train()"
      ],
      "metadata": {
        "colab": {
          "base_uri": "https://localhost:8080/",
          "height": 298
        },
        "id": "AX0lWtZy_Ugk",
        "outputId": "ca5c47cf-898b-4d7f-c879-b45172921dec"
      },
      "id": "AX0lWtZy_Ugk",
      "execution_count": 23,
      "outputs": [
        {
          "output_type": "display_data",
          "data": {
            "text/plain": [
              "<IPython.core.display.HTML object>"
            ],
            "text/html": [
              "\n",
              "    <div>\n",
              "      \n",
              "      <progress value='3000' max='3000' style='width:300px; height:20px; vertical-align: middle;'></progress>\n",
              "      [3000/3000 25:33, Epoch 1/1]\n",
              "    </div>\n",
              "    <table border=\"1\" class=\"dataframe\">\n",
              "  <thead>\n",
              " <tr style=\"text-align: left;\">\n",
              "      <th>Step</th>\n",
              "      <th>Training Loss</th>\n",
              "    </tr>\n",
              "  </thead>\n",
              "  <tbody>\n",
              "    <tr>\n",
              "      <td>500</td>\n",
              "      <td>0.076900</td>\n",
              "    </tr>\n",
              "    <tr>\n",
              "      <td>1000</td>\n",
              "      <td>0.032400</td>\n",
              "    </tr>\n",
              "    <tr>\n",
              "      <td>1500</td>\n",
              "      <td>0.036600</td>\n",
              "    </tr>\n",
              "    <tr>\n",
              "      <td>2000</td>\n",
              "      <td>0.012000</td>\n",
              "    </tr>\n",
              "    <tr>\n",
              "      <td>2500</td>\n",
              "      <td>0.025100</td>\n",
              "    </tr>\n",
              "    <tr>\n",
              "      <td>3000</td>\n",
              "      <td>0.037000</td>\n",
              "    </tr>\n",
              "  </tbody>\n",
              "</table><p>"
            ]
          },
          "metadata": {}
        },
        {
          "output_type": "execute_result",
          "data": {
            "text/plain": [
              "TrainOutput(global_step=3000, training_loss=0.03665904219945272, metrics={'train_runtime': 1535.582, 'train_samples_per_second': 7.815, 'train_steps_per_second': 1.954, 'total_flos': 3157361012736000.0, 'train_loss': 0.03665904219945272, 'epoch': 1.0})"
            ]
          },
          "metadata": {},
          "execution_count": 23
        }
      ]
    },
    {
      "cell_type": "code",
      "source": [
        "model.save_pretrained(\"./mymodel\")\n",
        "tokenizer.save_pretrained(\"./mytokenizer\")"
      ],
      "metadata": {
        "colab": {
          "base_uri": "https://localhost:8080/"
        },
        "id": "B8JoO5MHCbsi",
        "outputId": "b8c74d6e-b66b-47bf-a873-6e77b2d80c38"
      },
      "id": "B8JoO5MHCbsi",
      "execution_count": 24,
      "outputs": [
        {
          "output_type": "execute_result",
          "data": {
            "text/plain": [
              "('./mytokenizer/tokenizer_config.json',\n",
              " './mytokenizer/special_tokens_map.json',\n",
              " './mytokenizer/vocab.txt',\n",
              " './mytokenizer/added_tokens.json',\n",
              " './mytokenizer/tokenizer.json')"
            ]
          },
          "metadata": {},
          "execution_count": 24
        }
      ]
    },
    {
      "cell_type": "markdown",
      "id": "9b7e59cb",
      "metadata": {
        "id": "9b7e59cb"
      },
      "source": [
        "## Step 11: Inference"
      ]
    },
    {
      "cell_type": "markdown",
      "id": "0c5ed70c",
      "metadata": {
        "id": "0c5ed70c"
      },
      "source": [
        "Once the model is trained, perform inference on a sample text to evaluate the model's prediction capabilities. Use the tokenizer to process the text, and then feed it into the model to get the predicted label."
      ]
    },
    {
      "cell_type": "markdown",
      "source": [
        "Examples on Medical artcle:"
      ],
      "metadata": {
        "id": "m7Y2c7K9I3y8"
      },
      "id": "m7Y2c7K9I3y8"
    },
    {
      "cell_type": "code",
      "execution_count": 25,
      "id": "0d90a5b5",
      "metadata": {
        "id": "0d90a5b5",
        "colab": {
          "base_uri": "https://localhost:8080/"
        },
        "outputId": "e0a895c3-e23e-4b63-ea62-1113e7ef6f45"
      },
      "outputs": [
        {
          "output_type": "stream",
          "name": "stderr",
          "text": [
            "Hardware accelerator e.g. GPU is available in the environment, but no `device` argument is passed to the `Pipeline` object. Model will be on CPU.\n",
            "/usr/local/lib/python3.10/dist-packages/transformers/pipelines/text_classification.py:104: UserWarning: `return_all_scores` is now deprecated,  if want a similar functionality use `top_k=None` instead of `return_all_scores=True` or `top_k=1` instead of `return_all_scores=False`.\n",
            "  warnings.warn(\n"
          ]
        },
        {
          "output_type": "stream",
          "name": "stdout",
          "text": [
            "[{'label': 'LABEL_2', 'score': 0.9998788833618164}]\n"
          ]
        }
      ],
      "source": [
        "from transformers import pipeline\n",
        "\n",
        "model_inf = pipeline(\"sentiment-analysis\", model = \"/content/mymodel\", tokenizer=\"/content/mytokenizer\", return_all_scores=False)\n",
        "\n",
        "example =\"\"\"\n",
        "\n",
        "رأس الخيمة: «الخليج» افتتح الدكتور عبدالله النعيمي، مدير منطقة رأس الخيمة الطبية، مركز الظيت للرعاية الصحية الأولية، الذي استأنف عمله بعد إنجاز مشروع التطوير والصيانة، الذي خضع له، وهو يخدم منطقة حيوية تضم كثافة سكانية عالية. وأوضح د. النعيمي، خلال زيارته للمركز الصحي، أن أعمال الصيانة للمركز بدأت في يناير/كانون الثاني من العام الماضي، واشتملت على تعديلات في المبنى وتطوير مرافقه وخدماته، من أهمها إنشاء حجرات إضافية، وأقسام جديدة للمختبر والتمريض والعيادات، وتجهيز المواقف الخارجية لسيارات المراجعين والموظفين، وتعديلات داخلية في المبنى الرئيسي للمركز الصحي الحيوي. وبين النعيمي أن الهدف من مشروع توسعة مركز الظيت وتطويره هو الارتقاء بالخدمات الصحية المقدمة لأهالي المنطقة، وتسهيل تنقل المراجعين بين مرافق المركز، وتسهيل عملية دخول المراجعين بسياراتهم إلى حرم المركز. وأضاف النعيمي أن «الأشغال العامة» تسلمت المبنى من المنطقة الطبية في وقت سابق، وتكفلت بتنفيذ التوسعات والتعديلات المنشودة، ليكون المركز جاهزاً للعمل في إبريل/نيسان الحالي. وأشار الدكتور النعيمي إلى أن المنطقة تقدم خدمات الرعاية الصحية الأولية إلى مراجعيها عبر 18 مركزاً صحياً تنتشر جغرافياً، في مختلف أنحاء الإمارة.\n",
        "\n",
        "\n",
        "\n",
        "\"\"\"\n",
        "clean_example=cleaning(example)\n",
        "result = model_inf(clean_example)\n",
        "print(result)"
      ]
    },
    {
      "cell_type": "markdown",
      "source": [
        "Examples on Culture artcle:"
      ],
      "metadata": {
        "id": "Ccn7g2ZyI2D6"
      },
      "id": "Ccn7g2ZyI2D6"
    },
    {
      "cell_type": "markdown",
      "source": [
        "Examples on Financal artcle:"
      ],
      "metadata": {
        "id": "V7l76TZMJHP9"
      },
      "id": "V7l76TZMJHP9"
    },
    {
      "cell_type": "code",
      "source": [
        "example = '''\n",
        "\n",
        "وظبي - \"الخليج\":انخفض مؤشر سوق الإمارات المالي الصادر عن هيئة الأوراق المالية والسلع خلال جلسة تداول أمس، بنسبة 72 .0% ليغلق على 22 .5422 نقطة . وشهدت القيمة السوقية انخفاضاً بقيمة 92 .5 مليار درهم لتصل إلى 99 .813 مليار درهم، وتم تداول ما يقارب 17 .1 مليار سهم بقيمة إجمالية بلغت 25 .3 مليار درهم من خلال 17182 صفقة .وبلغ عدد الشركات التي تم تداول أسهمها 65 من أصل 120 شركة مدرجة في الأسواق المالية . وحققت أسعار أسهم 15 شركة ارتفاعاً في حين انخفضت أسعار أسهم 42 شركة، بينما لم يحدث أي تغير على أسعار أسهم باقي الشركات .وجاء سهم \"شركة أرابتك القابضة\" في المركز الأول من حيث الشركات الأكثر نشاطاً، حيث تم تداول ما قيمته 82 .0 مليار درهم موزعة على 71 .84 مليون سهم من خلال 2995 صفقة . وجاء سهم \"العربية للطيران\" في المركز الثاني من حيث الشركات الأكثر نشاطاً، حيث تم تداول ما قيمته 32 .449 مليون درهم موزعة على 288 مليون سهم من خلال 2039 صفقة .وحقق سهم \"تكافل الإمارات\" أكثر نسبة ارتفاع سعري حيث أقفل سعر السهم على مستوى 17 .1 درهم مرتفعا بنسبة 35 .9% من خلال تداول 05 .12 مليون سهم بقيمة 21 .14 مليون درهم، وجاء في المركز الثاني من حيث الارتفاع السعري سهم \"العربية للطيران\" ليغلق على مستوى 58 .1 درهم مرتفعاً بنسبة 48 .7% من خلال تداول 288 مليون سهم بقيمة 32 .449 مليون درهم .وسجل سهم \"شركة أبوظبي الوطنية للتأمين\" أكثر انخفاض سعري في جلسة التداول حيث أقفل سعر السهم على مستوى 30 .6 درهم مسجلاً خسارة بنسبة 10% من خلال تداول 30 ألف سهم بقيمة 189 ألف درهم . تلاه سهم \"الشركة الوطنية للتأمينات العامة\" الذي انخفض بنسبة 37 .8% ليغلق على مستوى 94 .3 درهم من خلال تداول 300 سهم بقيمة 1182 درهماً .ومنذ بداية العام بلغت نسبة الارتفاع في مؤشر سوق الإمارات المالي 70 .25%، وبلغ إجمالي قيمة التداول 48 .245 مليار درهم . وبلغ عدد الشركات التي حققت ارتفاعاً سعرياً 70 من أصل ،120 وعدد الشركات المتراجعة 35 شركة .\n",
        "\n",
        "'''\n",
        "clean_example=cleaning(example)\n",
        "result = model_inf(clean_example)\n",
        "print(result)"
      ],
      "metadata": {
        "colab": {
          "base_uri": "https://localhost:8080/"
        },
        "id": "xvOH8tPZJKWR",
        "outputId": "9ff84cf2-d0b8-4923-ed09-a4221b34b08c"
      },
      "id": "xvOH8tPZJKWR",
      "execution_count": 28,
      "outputs": [
        {
          "output_type": "stream",
          "name": "stdout",
          "text": [
            "[{'label': 'LABEL_1', 'score': 0.9999696016311646}]\n"
          ]
        }
      ]
    },
    {
      "cell_type": "code",
      "source": [
        "test_dataset[0]"
      ],
      "metadata": {
        "colab": {
          "base_uri": "https://localhost:8080/"
        },
        "id": "apRAo1AiWNLR",
        "outputId": "9de25383-efde-403d-bd74-f3c86423c4c7"
      },
      "id": "apRAo1AiWNLR",
      "execution_count": 41,
      "outputs": [
        {
          "output_type": "execute_result",
          "data": {
            "text/plain": [
              "{'text': 'ءعلنت هيءة الءوراق المالية والسلع ءنه تقرر وبعد التشاور والتنسيق مع الءسواق المالية ءن تبدء ءجازة عيد الءضحى المبارك في الءسواق المالية اعتبارا من السبت 9 ذي الحجة الموافق 5 نوفمبر وحتى يوم الثلاثاء الموافق 8 نوفمبر على ءن تستءنف التداولات يوم الءربعاء الموافق 9 نوفمبر ',\n",
              " 'label': 1,\n",
              " '__index_level_0__': 11499}"
            ]
          },
          "metadata": {},
          "execution_count": 41
        }
      ]
    },
    {
      "cell_type": "code",
      "source": [
        "test_dataset[0].get(\"label\")"
      ],
      "metadata": {
        "colab": {
          "base_uri": "https://localhost:8080/"
        },
        "id": "Wf3OdBzvybzE",
        "outputId": "0b4d298c-fe24-4fd3-898d-c3b150cd0fd7"
      },
      "id": "Wf3OdBzvybzE",
      "execution_count": 22,
      "outputs": [
        {
          "output_type": "execute_result",
          "data": {
            "text/plain": [
              "1"
            ]
          },
          "metadata": {},
          "execution_count": 22
        }
      ]
    },
    {
      "cell_type": "code",
      "source": [
        "test_example=test_dataset[0].get(\"text\")\n",
        "result = model_inf(test_example)\n",
        "print(result)"
      ],
      "metadata": {
        "colab": {
          "base_uri": "https://localhost:8080/"
        },
        "id": "pAVDqx7OVGdd",
        "outputId": "aa587c96-ec8b-4a4a-88d3-df6ab9a888cc"
      },
      "id": "pAVDqx7OVGdd",
      "execution_count": 40,
      "outputs": [
        {
          "output_type": "stream",
          "name": "stdout",
          "text": [
            "[{'label': 'LABEL_1', 'score': 0.9999480247497559}]\n"
          ]
        }
      ]
    },
    {
      "cell_type": "code",
      "source": [
        "\n",
        "from sklearn.metrics import accuracy_score\n",
        "true=[]\n",
        "pred=[]\n",
        "for row in test_dataset:\n",
        "  true.append(row.get('label'))\n",
        "\n",
        "for row in test_dataset:\n",
        "  pred.append(model_inf(test_dataset.get('text')))\n",
        "acc=accuracy_score(true,pred)\n",
        "acc"
      ],
      "metadata": {
        "colab": {
          "base_uri": "https://localhost:8080/"
        },
        "id": "6U8g3A6QX4sT",
        "outputId": "aa6caf1a-c1a5-4628-cb00-21340a6b3650"
      },
      "id": "6U8g3A6QX4sT",
      "execution_count": 26,
      "outputs": [
        {
          "output_type": "stream",
          "name": "stdout",
          "text": [
            "97.35\n"
          ]
        }
      ]
    },
    {
      "cell_type": "code",
      "source": [],
      "metadata": {
        "id": "iMHt_fufzClI"
      },
      "id": "iMHt_fufzClI",
      "execution_count": null,
      "outputs": []
    }
  ],
  "metadata": {
    "language_info": {
      "name": "python"
    },
    "colab": {
      "provenance": [],
      "gpuType": "T4"
    },
    "kernelspec": {
      "name": "python3",
      "display_name": "Python 3"
    },
    "accelerator": "GPU",
    "widgets": {
      "application/vnd.jupyter.widget-state+json": {
        "ba46d497a87c40cebd7cdb52e2b17d2f": {
          "model_module": "@jupyter-widgets/controls",
          "model_name": "HBoxModel",
          "model_module_version": "1.5.0",
          "state": {
            "_dom_classes": [],
            "_model_module": "@jupyter-widgets/controls",
            "_model_module_version": "1.5.0",
            "_model_name": "HBoxModel",
            "_view_count": null,
            "_view_module": "@jupyter-widgets/controls",
            "_view_module_version": "1.5.0",
            "_view_name": "HBoxView",
            "box_style": "",
            "children": [
              "IPY_MODEL_aeb9b75bbc37487a8a515fdeeee26976",
              "IPY_MODEL_55c16f04505446278cbabdab9a66e5d5",
              "IPY_MODEL_cad0dfb55b1d4bd492472c6140b73d2e"
            ],
            "layout": "IPY_MODEL_baffc2922c6642398fc3ffa49031ac30"
          }
        },
        "aeb9b75bbc37487a8a515fdeeee26976": {
          "model_module": "@jupyter-widgets/controls",
          "model_name": "HTMLModel",
          "model_module_version": "1.5.0",
          "state": {
            "_dom_classes": [],
            "_model_module": "@jupyter-widgets/controls",
            "_model_module_version": "1.5.0",
            "_model_name": "HTMLModel",
            "_view_count": null,
            "_view_module": "@jupyter-widgets/controls",
            "_view_module_version": "1.5.0",
            "_view_name": "HTMLView",
            "description": "",
            "description_tooltip": null,
            "layout": "IPY_MODEL_31a95bb9d84e4ed88b193e48327754c1",
            "placeholder": "​",
            "style": "IPY_MODEL_f73ee0c772d048e085da3cc80f69ef7f",
            "value": "Map: 100%"
          }
        },
        "55c16f04505446278cbabdab9a66e5d5": {
          "model_module": "@jupyter-widgets/controls",
          "model_name": "FloatProgressModel",
          "model_module_version": "1.5.0",
          "state": {
            "_dom_classes": [],
            "_model_module": "@jupyter-widgets/controls",
            "_model_module_version": "1.5.0",
            "_model_name": "FloatProgressModel",
            "_view_count": null,
            "_view_module": "@jupyter-widgets/controls",
            "_view_module_version": "1.5.0",
            "_view_name": "ProgressView",
            "bar_style": "success",
            "description": "",
            "description_tooltip": null,
            "layout": "IPY_MODEL_a45ce7303a0c4d56a2bfd650de237517",
            "max": 12000,
            "min": 0,
            "orientation": "horizontal",
            "style": "IPY_MODEL_cde269bdf140436ba345cb90f302ee51",
            "value": 12000
          }
        },
        "cad0dfb55b1d4bd492472c6140b73d2e": {
          "model_module": "@jupyter-widgets/controls",
          "model_name": "HTMLModel",
          "model_module_version": "1.5.0",
          "state": {
            "_dom_classes": [],
            "_model_module": "@jupyter-widgets/controls",
            "_model_module_version": "1.5.0",
            "_model_name": "HTMLModel",
            "_view_count": null,
            "_view_module": "@jupyter-widgets/controls",
            "_view_module_version": "1.5.0",
            "_view_name": "HTMLView",
            "description": "",
            "description_tooltip": null,
            "layout": "IPY_MODEL_6597117ae691443d9476231bdc9a0211",
            "placeholder": "​",
            "style": "IPY_MODEL_7a09a334bb9748108bf4c9bc8cc5b5d4",
            "value": " 12000/12000 [00:17&lt;00:00, 660.65 examples/s]"
          }
        },
        "baffc2922c6642398fc3ffa49031ac30": {
          "model_module": "@jupyter-widgets/base",
          "model_name": "LayoutModel",
          "model_module_version": "1.2.0",
          "state": {
            "_model_module": "@jupyter-widgets/base",
            "_model_module_version": "1.2.0",
            "_model_name": "LayoutModel",
            "_view_count": null,
            "_view_module": "@jupyter-widgets/base",
            "_view_module_version": "1.2.0",
            "_view_name": "LayoutView",
            "align_content": null,
            "align_items": null,
            "align_self": null,
            "border": null,
            "bottom": null,
            "display": null,
            "flex": null,
            "flex_flow": null,
            "grid_area": null,
            "grid_auto_columns": null,
            "grid_auto_flow": null,
            "grid_auto_rows": null,
            "grid_column": null,
            "grid_gap": null,
            "grid_row": null,
            "grid_template_areas": null,
            "grid_template_columns": null,
            "grid_template_rows": null,
            "height": null,
            "justify_content": null,
            "justify_items": null,
            "left": null,
            "margin": null,
            "max_height": null,
            "max_width": null,
            "min_height": null,
            "min_width": null,
            "object_fit": null,
            "object_position": null,
            "order": null,
            "overflow": null,
            "overflow_x": null,
            "overflow_y": null,
            "padding": null,
            "right": null,
            "top": null,
            "visibility": null,
            "width": null
          }
        },
        "31a95bb9d84e4ed88b193e48327754c1": {
          "model_module": "@jupyter-widgets/base",
          "model_name": "LayoutModel",
          "model_module_version": "1.2.0",
          "state": {
            "_model_module": "@jupyter-widgets/base",
            "_model_module_version": "1.2.0",
            "_model_name": "LayoutModel",
            "_view_count": null,
            "_view_module": "@jupyter-widgets/base",
            "_view_module_version": "1.2.0",
            "_view_name": "LayoutView",
            "align_content": null,
            "align_items": null,
            "align_self": null,
            "border": null,
            "bottom": null,
            "display": null,
            "flex": null,
            "flex_flow": null,
            "grid_area": null,
            "grid_auto_columns": null,
            "grid_auto_flow": null,
            "grid_auto_rows": null,
            "grid_column": null,
            "grid_gap": null,
            "grid_row": null,
            "grid_template_areas": null,
            "grid_template_columns": null,
            "grid_template_rows": null,
            "height": null,
            "justify_content": null,
            "justify_items": null,
            "left": null,
            "margin": null,
            "max_height": null,
            "max_width": null,
            "min_height": null,
            "min_width": null,
            "object_fit": null,
            "object_position": null,
            "order": null,
            "overflow": null,
            "overflow_x": null,
            "overflow_y": null,
            "padding": null,
            "right": null,
            "top": null,
            "visibility": null,
            "width": null
          }
        },
        "f73ee0c772d048e085da3cc80f69ef7f": {
          "model_module": "@jupyter-widgets/controls",
          "model_name": "DescriptionStyleModel",
          "model_module_version": "1.5.0",
          "state": {
            "_model_module": "@jupyter-widgets/controls",
            "_model_module_version": "1.5.0",
            "_model_name": "DescriptionStyleModel",
            "_view_count": null,
            "_view_module": "@jupyter-widgets/base",
            "_view_module_version": "1.2.0",
            "_view_name": "StyleView",
            "description_width": ""
          }
        },
        "a45ce7303a0c4d56a2bfd650de237517": {
          "model_module": "@jupyter-widgets/base",
          "model_name": "LayoutModel",
          "model_module_version": "1.2.0",
          "state": {
            "_model_module": "@jupyter-widgets/base",
            "_model_module_version": "1.2.0",
            "_model_name": "LayoutModel",
            "_view_count": null,
            "_view_module": "@jupyter-widgets/base",
            "_view_module_version": "1.2.0",
            "_view_name": "LayoutView",
            "align_content": null,
            "align_items": null,
            "align_self": null,
            "border": null,
            "bottom": null,
            "display": null,
            "flex": null,
            "flex_flow": null,
            "grid_area": null,
            "grid_auto_columns": null,
            "grid_auto_flow": null,
            "grid_auto_rows": null,
            "grid_column": null,
            "grid_gap": null,
            "grid_row": null,
            "grid_template_areas": null,
            "grid_template_columns": null,
            "grid_template_rows": null,
            "height": null,
            "justify_content": null,
            "justify_items": null,
            "left": null,
            "margin": null,
            "max_height": null,
            "max_width": null,
            "min_height": null,
            "min_width": null,
            "object_fit": null,
            "object_position": null,
            "order": null,
            "overflow": null,
            "overflow_x": null,
            "overflow_y": null,
            "padding": null,
            "right": null,
            "top": null,
            "visibility": null,
            "width": null
          }
        },
        "cde269bdf140436ba345cb90f302ee51": {
          "model_module": "@jupyter-widgets/controls",
          "model_name": "ProgressStyleModel",
          "model_module_version": "1.5.0",
          "state": {
            "_model_module": "@jupyter-widgets/controls",
            "_model_module_version": "1.5.0",
            "_model_name": "ProgressStyleModel",
            "_view_count": null,
            "_view_module": "@jupyter-widgets/base",
            "_view_module_version": "1.2.0",
            "_view_name": "StyleView",
            "bar_color": null,
            "description_width": ""
          }
        },
        "6597117ae691443d9476231bdc9a0211": {
          "model_module": "@jupyter-widgets/base",
          "model_name": "LayoutModel",
          "model_module_version": "1.2.0",
          "state": {
            "_model_module": "@jupyter-widgets/base",
            "_model_module_version": "1.2.0",
            "_model_name": "LayoutModel",
            "_view_count": null,
            "_view_module": "@jupyter-widgets/base",
            "_view_module_version": "1.2.0",
            "_view_name": "LayoutView",
            "align_content": null,
            "align_items": null,
            "align_self": null,
            "border": null,
            "bottom": null,
            "display": null,
            "flex": null,
            "flex_flow": null,
            "grid_area": null,
            "grid_auto_columns": null,
            "grid_auto_flow": null,
            "grid_auto_rows": null,
            "grid_column": null,
            "grid_gap": null,
            "grid_row": null,
            "grid_template_areas": null,
            "grid_template_columns": null,
            "grid_template_rows": null,
            "height": null,
            "justify_content": null,
            "justify_items": null,
            "left": null,
            "margin": null,
            "max_height": null,
            "max_width": null,
            "min_height": null,
            "min_width": null,
            "object_fit": null,
            "object_position": null,
            "order": null,
            "overflow": null,
            "overflow_x": null,
            "overflow_y": null,
            "padding": null,
            "right": null,
            "top": null,
            "visibility": null,
            "width": null
          }
        },
        "7a09a334bb9748108bf4c9bc8cc5b5d4": {
          "model_module": "@jupyter-widgets/controls",
          "model_name": "DescriptionStyleModel",
          "model_module_version": "1.5.0",
          "state": {
            "_model_module": "@jupyter-widgets/controls",
            "_model_module_version": "1.5.0",
            "_model_name": "DescriptionStyleModel",
            "_view_count": null,
            "_view_module": "@jupyter-widgets/base",
            "_view_module_version": "1.2.0",
            "_view_name": "StyleView",
            "description_width": ""
          }
        },
        "9ab630b01f904d859fb133c31759e313": {
          "model_module": "@jupyter-widgets/controls",
          "model_name": "HBoxModel",
          "model_module_version": "1.5.0",
          "state": {
            "_dom_classes": [],
            "_model_module": "@jupyter-widgets/controls",
            "_model_module_version": "1.5.0",
            "_model_name": "HBoxModel",
            "_view_count": null,
            "_view_module": "@jupyter-widgets/controls",
            "_view_module_version": "1.5.0",
            "_view_name": "HBoxView",
            "box_style": "",
            "children": [
              "IPY_MODEL_c36c7302097a4d90a281a3997ac54080",
              "IPY_MODEL_7b5ab4ff4f7746fea0e7b913d631d5c6",
              "IPY_MODEL_f5f41c065acd46078229d35ca6b02a17"
            ],
            "layout": "IPY_MODEL_4aaba673eb6f4071877ae5cfefbb7653"
          }
        },
        "c36c7302097a4d90a281a3997ac54080": {
          "model_module": "@jupyter-widgets/controls",
          "model_name": "HTMLModel",
          "model_module_version": "1.5.0",
          "state": {
            "_dom_classes": [],
            "_model_module": "@jupyter-widgets/controls",
            "_model_module_version": "1.5.0",
            "_model_name": "HTMLModel",
            "_view_count": null,
            "_view_module": "@jupyter-widgets/controls",
            "_view_module_version": "1.5.0",
            "_view_name": "HTMLView",
            "description": "",
            "description_tooltip": null,
            "layout": "IPY_MODEL_b171ecf4311a45469b840ec0b0c585fe",
            "placeholder": "​",
            "style": "IPY_MODEL_734bbb107e73400996a51aa420cdc2e7",
            "value": "Map: 100%"
          }
        },
        "7b5ab4ff4f7746fea0e7b913d631d5c6": {
          "model_module": "@jupyter-widgets/controls",
          "model_name": "FloatProgressModel",
          "model_module_version": "1.5.0",
          "state": {
            "_dom_classes": [],
            "_model_module": "@jupyter-widgets/controls",
            "_model_module_version": "1.5.0",
            "_model_name": "FloatProgressModel",
            "_view_count": null,
            "_view_module": "@jupyter-widgets/controls",
            "_view_module_version": "1.5.0",
            "_view_name": "ProgressView",
            "bar_style": "success",
            "description": "",
            "description_tooltip": null,
            "layout": "IPY_MODEL_98095a1051014db6b7b3bba3a6bb2817",
            "max": 3000,
            "min": 0,
            "orientation": "horizontal",
            "style": "IPY_MODEL_a94f283dbabc4946815ac00c51b28d0f",
            "value": 3000
          }
        },
        "f5f41c065acd46078229d35ca6b02a17": {
          "model_module": "@jupyter-widgets/controls",
          "model_name": "HTMLModel",
          "model_module_version": "1.5.0",
          "state": {
            "_dom_classes": [],
            "_model_module": "@jupyter-widgets/controls",
            "_model_module_version": "1.5.0",
            "_model_name": "HTMLModel",
            "_view_count": null,
            "_view_module": "@jupyter-widgets/controls",
            "_view_module_version": "1.5.0",
            "_view_name": "HTMLView",
            "description": "",
            "description_tooltip": null,
            "layout": "IPY_MODEL_fd2185600647458d944b8c3ae3d3cbb2",
            "placeholder": "​",
            "style": "IPY_MODEL_5c02f577abef4b82847b20ac9739980d",
            "value": " 3000/3000 [00:03&lt;00:00, 760.30 examples/s]"
          }
        },
        "4aaba673eb6f4071877ae5cfefbb7653": {
          "model_module": "@jupyter-widgets/base",
          "model_name": "LayoutModel",
          "model_module_version": "1.2.0",
          "state": {
            "_model_module": "@jupyter-widgets/base",
            "_model_module_version": "1.2.0",
            "_model_name": "LayoutModel",
            "_view_count": null,
            "_view_module": "@jupyter-widgets/base",
            "_view_module_version": "1.2.0",
            "_view_name": "LayoutView",
            "align_content": null,
            "align_items": null,
            "align_self": null,
            "border": null,
            "bottom": null,
            "display": null,
            "flex": null,
            "flex_flow": null,
            "grid_area": null,
            "grid_auto_columns": null,
            "grid_auto_flow": null,
            "grid_auto_rows": null,
            "grid_column": null,
            "grid_gap": null,
            "grid_row": null,
            "grid_template_areas": null,
            "grid_template_columns": null,
            "grid_template_rows": null,
            "height": null,
            "justify_content": null,
            "justify_items": null,
            "left": null,
            "margin": null,
            "max_height": null,
            "max_width": null,
            "min_height": null,
            "min_width": null,
            "object_fit": null,
            "object_position": null,
            "order": null,
            "overflow": null,
            "overflow_x": null,
            "overflow_y": null,
            "padding": null,
            "right": null,
            "top": null,
            "visibility": null,
            "width": null
          }
        },
        "b171ecf4311a45469b840ec0b0c585fe": {
          "model_module": "@jupyter-widgets/base",
          "model_name": "LayoutModel",
          "model_module_version": "1.2.0",
          "state": {
            "_model_module": "@jupyter-widgets/base",
            "_model_module_version": "1.2.0",
            "_model_name": "LayoutModel",
            "_view_count": null,
            "_view_module": "@jupyter-widgets/base",
            "_view_module_version": "1.2.0",
            "_view_name": "LayoutView",
            "align_content": null,
            "align_items": null,
            "align_self": null,
            "border": null,
            "bottom": null,
            "display": null,
            "flex": null,
            "flex_flow": null,
            "grid_area": null,
            "grid_auto_columns": null,
            "grid_auto_flow": null,
            "grid_auto_rows": null,
            "grid_column": null,
            "grid_gap": null,
            "grid_row": null,
            "grid_template_areas": null,
            "grid_template_columns": null,
            "grid_template_rows": null,
            "height": null,
            "justify_content": null,
            "justify_items": null,
            "left": null,
            "margin": null,
            "max_height": null,
            "max_width": null,
            "min_height": null,
            "min_width": null,
            "object_fit": null,
            "object_position": null,
            "order": null,
            "overflow": null,
            "overflow_x": null,
            "overflow_y": null,
            "padding": null,
            "right": null,
            "top": null,
            "visibility": null,
            "width": null
          }
        },
        "734bbb107e73400996a51aa420cdc2e7": {
          "model_module": "@jupyter-widgets/controls",
          "model_name": "DescriptionStyleModel",
          "model_module_version": "1.5.0",
          "state": {
            "_model_module": "@jupyter-widgets/controls",
            "_model_module_version": "1.5.0",
            "_model_name": "DescriptionStyleModel",
            "_view_count": null,
            "_view_module": "@jupyter-widgets/base",
            "_view_module_version": "1.2.0",
            "_view_name": "StyleView",
            "description_width": ""
          }
        },
        "98095a1051014db6b7b3bba3a6bb2817": {
          "model_module": "@jupyter-widgets/base",
          "model_name": "LayoutModel",
          "model_module_version": "1.2.0",
          "state": {
            "_model_module": "@jupyter-widgets/base",
            "_model_module_version": "1.2.0",
            "_model_name": "LayoutModel",
            "_view_count": null,
            "_view_module": "@jupyter-widgets/base",
            "_view_module_version": "1.2.0",
            "_view_name": "LayoutView",
            "align_content": null,
            "align_items": null,
            "align_self": null,
            "border": null,
            "bottom": null,
            "display": null,
            "flex": null,
            "flex_flow": null,
            "grid_area": null,
            "grid_auto_columns": null,
            "grid_auto_flow": null,
            "grid_auto_rows": null,
            "grid_column": null,
            "grid_gap": null,
            "grid_row": null,
            "grid_template_areas": null,
            "grid_template_columns": null,
            "grid_template_rows": null,
            "height": null,
            "justify_content": null,
            "justify_items": null,
            "left": null,
            "margin": null,
            "max_height": null,
            "max_width": null,
            "min_height": null,
            "min_width": null,
            "object_fit": null,
            "object_position": null,
            "order": null,
            "overflow": null,
            "overflow_x": null,
            "overflow_y": null,
            "padding": null,
            "right": null,
            "top": null,
            "visibility": null,
            "width": null
          }
        },
        "a94f283dbabc4946815ac00c51b28d0f": {
          "model_module": "@jupyter-widgets/controls",
          "model_name": "ProgressStyleModel",
          "model_module_version": "1.5.0",
          "state": {
            "_model_module": "@jupyter-widgets/controls",
            "_model_module_version": "1.5.0",
            "_model_name": "ProgressStyleModel",
            "_view_count": null,
            "_view_module": "@jupyter-widgets/base",
            "_view_module_version": "1.2.0",
            "_view_name": "StyleView",
            "bar_color": null,
            "description_width": ""
          }
        },
        "fd2185600647458d944b8c3ae3d3cbb2": {
          "model_module": "@jupyter-widgets/base",
          "model_name": "LayoutModel",
          "model_module_version": "1.2.0",
          "state": {
            "_model_module": "@jupyter-widgets/base",
            "_model_module_version": "1.2.0",
            "_model_name": "LayoutModel",
            "_view_count": null,
            "_view_module": "@jupyter-widgets/base",
            "_view_module_version": "1.2.0",
            "_view_name": "LayoutView",
            "align_content": null,
            "align_items": null,
            "align_self": null,
            "border": null,
            "bottom": null,
            "display": null,
            "flex": null,
            "flex_flow": null,
            "grid_area": null,
            "grid_auto_columns": null,
            "grid_auto_flow": null,
            "grid_auto_rows": null,
            "grid_column": null,
            "grid_gap": null,
            "grid_row": null,
            "grid_template_areas": null,
            "grid_template_columns": null,
            "grid_template_rows": null,
            "height": null,
            "justify_content": null,
            "justify_items": null,
            "left": null,
            "margin": null,
            "max_height": null,
            "max_width": null,
            "min_height": null,
            "min_width": null,
            "object_fit": null,
            "object_position": null,
            "order": null,
            "overflow": null,
            "overflow_x": null,
            "overflow_y": null,
            "padding": null,
            "right": null,
            "top": null,
            "visibility": null,
            "width": null
          }
        },
        "5c02f577abef4b82847b20ac9739980d": {
          "model_module": "@jupyter-widgets/controls",
          "model_name": "DescriptionStyleModel",
          "model_module_version": "1.5.0",
          "state": {
            "_model_module": "@jupyter-widgets/controls",
            "_model_module_version": "1.5.0",
            "_model_name": "DescriptionStyleModel",
            "_view_count": null,
            "_view_module": "@jupyter-widgets/base",
            "_view_module_version": "1.2.0",
            "_view_name": "StyleView",
            "description_width": ""
          }
        }
      }
    }
  },
  "nbformat": 4,
  "nbformat_minor": 5
}