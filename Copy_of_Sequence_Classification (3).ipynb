{
  "cells": [
    {
      "cell_type": "markdown",
      "id": "6338e9cf",
      "metadata": {
        "id": "6338e9cf"
      },
      "source": [
        "# Fine-tuning a Sequence Classification Model Exam"
      ]
    },
    {
      "cell_type": "markdown",
      "id": "cc78efcc",
      "metadata": {
        "id": "cc78efcc"
      },
      "source": [
        "In this exam, you will be tasked with performing dataset preprocessing and fine-tuning a model for sequence classification. Complete each step carefully according to the instructions provided.\n",
        "\n",
        "### Model and Dataset Information\n",
        "\n",
        "For this task, you will be working with the following:\n",
        "\n",
        "- **Model Checkpoint**: Use the pre-trained model checkpoint `aubmindlab/bert-base-arabertv02` for both the model and tokenizer.\n",
        "- **Dataset**: You will be using the `CUTD/sanad_df` dataset. Ensure to load and preprocess the dataset correctly for training and evaluation.\n",
        "\n",
        "**Note:**\n",
        "- Any additional steps or methods you include that improve or enhance the results will be rewarded with bonus points if they are justified.\n",
        "- The steps outlined here are suggestions. You are free to implement alternative methods or approaches to achieve the task, as long as you explain the reasoning and the process at the bottom of the notebook.\n",
        "- You can use either TensorFlow or PyTorch for this task. If you prefer TensorFlow, feel free to use it when working with Hugging Face Transformers.\n",
        "- The number of data samples you choose to work with is flexible. However, if you select a very low number of samples and the training time is too short, this could affect the evaluation of your work."
      ]
    },
    {
      "cell_type": "markdown",
      "id": "e4aded80",
      "metadata": {
        "id": "e4aded80"
      },
      "source": [
        "## Step 1: Load the Dataset"
      ]
    },
    {
      "cell_type": "markdown",
      "id": "d54930f9",
      "metadata": {
        "id": "d54930f9"
      },
      "source": [
        "Load the dataset and split it into training and test sets. Use 20% of the data for testing."
      ]
    },
    {
      "cell_type": "code",
      "source": [
        "import pandas as pd\n",
        "from sklearn.model_selection import train_test_split\n",
        "from sklearn.preprocessing import LabelEncoder\n",
        "from datasets import Dataset\n",
        "from transformers import AutoTokenizer\n",
        "from transformers import DataCollatorWithPadding\n",
        "from transformers import AutoConfig, AutoModelForSequenceClassification\n",
        "from transformers import Trainer, TrainingArguments\n",
        "from transformers import pipeline"
      ],
      "metadata": {
        "id": "2cP5ThIySsGE"
      },
      "id": "2cP5ThIySsGE",
      "execution_count": null,
      "outputs": []
    },
    {
      "cell_type": "code",
      "execution_count": 3,
      "id": "ef64e03c",
      "metadata": {
        "id": "ef64e03c",
        "colab": {
          "base_uri": "https://localhost:8080/"
        },
        "outputId": "86d27d3c-e48e-40c5-c09f-ae7199179608"
      },
      "outputs": [
        {
          "output_type": "stream",
          "name": "stderr",
          "text": [
            "/usr/local/lib/python3.10/dist-packages/huggingface_hub/utils/_token.py:89: UserWarning: \n",
            "The secret `HF_TOKEN` does not exist in your Colab secrets.\n",
            "To authenticate with the Hugging Face Hub, create a token in your settings tab (https://huggingface.co/settings/tokens), set it as secret in your Google Colab and restart your session.\n",
            "You will be able to reuse this secret in all of your notebooks.\n",
            "Please note that authentication is recommended but still optional to access public models or datasets.\n",
            "  warnings.warn(\n"
          ]
        }
      ],
      "source": [
        "df = pd.read_csv(\"hf://datasets/CUTD/sanad_df/sanad_df.csv\")"
      ]
    },
    {
      "cell_type": "code",
      "execution_count": 24,
      "id": "7dd06b97",
      "metadata": {
        "id": "7dd06b97",
        "colab": {
          "base_uri": "https://localhost:8080/",
          "height": 363
        },
        "outputId": "d7d3147f-7382-4bee-8a11-919f558388ef"
      },
      "outputs": [
        {
          "output_type": "execute_result",
          "data": {
            "text/plain": [
              "                                                text    label\n",
              "0  الشارقة - محمد ولد محمد سالمعرضت مساء أمس الأو...  Culture\n",
              "1  عبدالحكيم الزبيدي شاعر وقاص وناقد، جاءت نصوصه ...  Culture\n",
              "2  انطلقت في مثل هذه الأيام من العام الفائت فعالي...  Culture\n",
              "3  أقيمت مساء أمس الأول في إكسبو الشارقة ندوة حوا...  Culture\n",
              "4  باسمة يونس حينما قال صاحب السموّ الشيخ الدكتور...  Culture\n",
              "5  قرر اتحاد الأدباء والكتّاب الموريتانيين عقد مؤ...  Culture\n",
              "6  تتناول الرواية الإماراتية المرأة ومكانتها في ا...  Culture\n",
              "7  أعلنت هيئة دبي للثقافة والفنون (دبي للثقافة)، ...  Culture\n",
              "8  توفي أمس الأديب الإسباني ميجيل ديليبس الذي يعت...  Culture\n",
              "9  نظم مركز الشارقة للشعر الشعبي في مجلس ضاحية مغ...  Culture"
            ],
            "text/html": [
              "\n",
              "  <div id=\"df-736f5dae-b4d6-4136-bbe2-b2355fc7274d\" class=\"colab-df-container\">\n",
              "    <div>\n",
              "<style scoped>\n",
              "    .dataframe tbody tr th:only-of-type {\n",
              "        vertical-align: middle;\n",
              "    }\n",
              "\n",
              "    .dataframe tbody tr th {\n",
              "        vertical-align: top;\n",
              "    }\n",
              "\n",
              "    .dataframe thead th {\n",
              "        text-align: right;\n",
              "    }\n",
              "</style>\n",
              "<table border=\"1\" class=\"dataframe\">\n",
              "  <thead>\n",
              "    <tr style=\"text-align: right;\">\n",
              "      <th></th>\n",
              "      <th>text</th>\n",
              "      <th>label</th>\n",
              "    </tr>\n",
              "  </thead>\n",
              "  <tbody>\n",
              "    <tr>\n",
              "      <th>0</th>\n",
              "      <td>الشارقة - محمد ولد محمد سالمعرضت مساء أمس الأو...</td>\n",
              "      <td>Culture</td>\n",
              "    </tr>\n",
              "    <tr>\n",
              "      <th>1</th>\n",
              "      <td>عبدالحكيم الزبيدي شاعر وقاص وناقد، جاءت نصوصه ...</td>\n",
              "      <td>Culture</td>\n",
              "    </tr>\n",
              "    <tr>\n",
              "      <th>2</th>\n",
              "      <td>انطلقت في مثل هذه الأيام من العام الفائت فعالي...</td>\n",
              "      <td>Culture</td>\n",
              "    </tr>\n",
              "    <tr>\n",
              "      <th>3</th>\n",
              "      <td>أقيمت مساء أمس الأول في إكسبو الشارقة ندوة حوا...</td>\n",
              "      <td>Culture</td>\n",
              "    </tr>\n",
              "    <tr>\n",
              "      <th>4</th>\n",
              "      <td>باسمة يونس حينما قال صاحب السموّ الشيخ الدكتور...</td>\n",
              "      <td>Culture</td>\n",
              "    </tr>\n",
              "    <tr>\n",
              "      <th>5</th>\n",
              "      <td>قرر اتحاد الأدباء والكتّاب الموريتانيين عقد مؤ...</td>\n",
              "      <td>Culture</td>\n",
              "    </tr>\n",
              "    <tr>\n",
              "      <th>6</th>\n",
              "      <td>تتناول الرواية الإماراتية المرأة ومكانتها في ا...</td>\n",
              "      <td>Culture</td>\n",
              "    </tr>\n",
              "    <tr>\n",
              "      <th>7</th>\n",
              "      <td>أعلنت هيئة دبي للثقافة والفنون (دبي للثقافة)، ...</td>\n",
              "      <td>Culture</td>\n",
              "    </tr>\n",
              "    <tr>\n",
              "      <th>8</th>\n",
              "      <td>توفي أمس الأديب الإسباني ميجيل ديليبس الذي يعت...</td>\n",
              "      <td>Culture</td>\n",
              "    </tr>\n",
              "    <tr>\n",
              "      <th>9</th>\n",
              "      <td>نظم مركز الشارقة للشعر الشعبي في مجلس ضاحية مغ...</td>\n",
              "      <td>Culture</td>\n",
              "    </tr>\n",
              "  </tbody>\n",
              "</table>\n",
              "</div>\n",
              "    <div class=\"colab-df-buttons\">\n",
              "      \n",
              "  <div class=\"colab-df-container\">\n",
              "    <button class=\"colab-df-convert\" onclick=\"convertToInteractive('df-736f5dae-b4d6-4136-bbe2-b2355fc7274d')\"\n",
              "            title=\"Convert this dataframe to an interactive table.\"\n",
              "            style=\"display:none;\">\n",
              "      \n",
              "  <svg xmlns=\"http://www.w3.org/2000/svg\" height=\"24px\" viewBox=\"0 -960 960 960\">\n",
              "    <path d=\"M120-120v-720h720v720H120Zm60-500h600v-160H180v160Zm220 220h160v-160H400v160Zm0 220h160v-160H400v160ZM180-400h160v-160H180v160Zm440 0h160v-160H620v160ZM180-180h160v-160H180v160Zm440 0h160v-160H620v160Z\"/>\n",
              "  </svg>\n",
              "    </button>\n",
              "    \n",
              "  <style>\n",
              "    .colab-df-container {\n",
              "      display:flex;\n",
              "      gap: 12px;\n",
              "    }\n",
              "\n",
              "    .colab-df-convert {\n",
              "      background-color: #E8F0FE;\n",
              "      border: none;\n",
              "      border-radius: 50%;\n",
              "      cursor: pointer;\n",
              "      display: none;\n",
              "      fill: #1967D2;\n",
              "      height: 32px;\n",
              "      padding: 0 0 0 0;\n",
              "      width: 32px;\n",
              "    }\n",
              "\n",
              "    .colab-df-convert:hover {\n",
              "      background-color: #E2EBFA;\n",
              "      box-shadow: 0px 1px 2px rgba(60, 64, 67, 0.3), 0px 1px 3px 1px rgba(60, 64, 67, 0.15);\n",
              "      fill: #174EA6;\n",
              "    }\n",
              "\n",
              "    .colab-df-buttons div {\n",
              "      margin-bottom: 4px;\n",
              "    }\n",
              "\n",
              "    [theme=dark] .colab-df-convert {\n",
              "      background-color: #3B4455;\n",
              "      fill: #D2E3FC;\n",
              "    }\n",
              "\n",
              "    [theme=dark] .colab-df-convert:hover {\n",
              "      background-color: #434B5C;\n",
              "      box-shadow: 0px 1px 3px 1px rgba(0, 0, 0, 0.15);\n",
              "      filter: drop-shadow(0px 1px 2px rgba(0, 0, 0, 0.3));\n",
              "      fill: #FFFFFF;\n",
              "    }\n",
              "  </style>\n",
              "\n",
              "    <script>\n",
              "      const buttonEl =\n",
              "        document.querySelector('#df-736f5dae-b4d6-4136-bbe2-b2355fc7274d button.colab-df-convert');\n",
              "      buttonEl.style.display =\n",
              "        google.colab.kernel.accessAllowed ? 'block' : 'none';\n",
              "\n",
              "      async function convertToInteractive(key) {\n",
              "        const element = document.querySelector('#df-736f5dae-b4d6-4136-bbe2-b2355fc7274d');\n",
              "        const dataTable =\n",
              "          await google.colab.kernel.invokeFunction('convertToInteractive',\n",
              "                                                    [key], {});\n",
              "        if (!dataTable) return;\n",
              "\n",
              "        const docLinkHtml = 'Like what you see? Visit the ' +\n",
              "          '<a target=\"_blank\" href=https://colab.research.google.com/notebooks/data_table.ipynb>data table notebook</a>'\n",
              "          + ' to learn more about interactive tables.';\n",
              "        element.innerHTML = '';\n",
              "        dataTable['output_type'] = 'display_data';\n",
              "        await google.colab.output.renderOutput(dataTable, element);\n",
              "        const docLink = document.createElement('div');\n",
              "        docLink.innerHTML = docLinkHtml;\n",
              "        element.appendChild(docLink);\n",
              "      }\n",
              "    </script>\n",
              "  </div>\n",
              "  \n",
              "    </div>\n",
              "  </div>\n",
              "  "
            ]
          },
          "metadata": {},
          "execution_count": 24
        }
      ],
      "source": [
        "df.head(10)"
      ]
    },
    {
      "cell_type": "code",
      "source": [
        "print(df['text'][2])"
      ],
      "metadata": {
        "colab": {
          "base_uri": "https://localhost:8080/"
        },
        "id": "c959c-PrHj7M",
        "outputId": "836f85aa-93e9-4153-fbcf-fe103857f4c1"
      },
      "id": "c959c-PrHj7M",
      "execution_count": 22,
      "outputs": [
        {
          "output_type": "stream",
          "name": "stdout",
          "text": [
            "انطلقت في مثل هذه الأيام من العام الفائت فعاليات مهرجان دبي لمسرح الشباب، تحت مظلة مجلس دبي الثقافي، وكانت فكرة المهرجان تهدف الى تشجيع ودعم المواهب الشابة من الفنانين المسرحيين، وإتاحة الفرصة أمامهم لتقديم أعمالهم المسرحية أمام الجمهور، وهو ما يزيد من خبرتهم ويصقل موهبتهم المسرحية، ويوم 10 أغسطس الفائت انطلقت فعاليات المهرجان في دورته الثانية وتستمر حتى 20 أغسطس/ آب الجاري، ولكن مع قرار صاحب السمو الشيخ محمد بن راشد آل مكتوم نائب رئيس الدولة رئيس مجلس الوزراء حاكم دبي، بإنشاء هيئة دبي للثقافة والفنون تحولت رعاية المهرجان الى الهيئة التي تسعى الى المساهمة في الحياة الاجتماعية والفكرية والثقافية في دولة الإمارات، وترسيخ مكانة دبي كمقر حيوي للثقافة والفنون والتراث.وقد وضعت هيئة دبي للثقافة والفنون في استراتيجيتها الثقافة الشاملة، أهمية المحافظة على الهوية الوطنية من خلال تعزيز الوعي بالأنشطة الثقافية، والتعاون مع المؤسسات المعنية في الدولة، للمشاركة في أنشطة وفعاليات الهيئة، والتي يبرز مهرجان دبي لمسرح الشباب في مقدمتها، لأن الهيئة تؤمن بضرورة أن يظل المسرح يقوم بدوره العضوي الحيوي في الحراك الاجتماعي والثقافي، وهو ما يسهم في وعي الإنسان وإدراكه لذاته وواقعه ومجتمعه ووطنه.وتسعى الهيئة أيضاً الى دعم وتشجيع الجيل المسرحي الشاب في الإمارات، من خلال مشاركته في فعالياتها، والمساهمة في ترويج منتوجه الثقافي والفني، خصوصاً أن المكانة التي وصل إليها المسرح في الإمارات، على المستويين الخليجي والعربي، تتطلب النظر بمسؤولية الى أهمية وجود جيل مسرحي شاب وموهوب فنياً وفكرياً، يستكمل المسيرة، ويحافظ على المستوى الذي حققه الجيل المفصل، والذي يتربع الآن على القمة.والمتابع لفعاليات مهرجان دبي لمسرح الشباب، بدأ يتعرف من خلال العروض على أسماء شابة في مجال التمثيل والتأليف والإخراج، وأصبحت أسماء مألوفة له، مثل حمد الحمادي وعبدالله الظاهري وخالد علي ربيع ومحمد الحمادي ومنال بن عمرو ومروان عبدالله صالح وهم جميعاً من العاملين في مجال الإخراج وقد تتلمذوا على أيدي كوكبة من المخرجين الإماراتيين من الجيل المفصل وقد برزوا من خلال أعمالهم المسرحية التي تدور حول الأرض والوطن والهوية بدلالات ورموز مختلفة في أبعادها الفنية والفكرية، والموقف من مواكبة العصر أو التمسك بالماضي، وأحلام الإنسان العادي وطموحاته في هذه الحياة التي تعج بالصراعات الاجتماعية والسياسية والاقتصادية.ولا تقتصر فعاليات المهرجان على العروض وحسب، وإنما أدرجت اللجنة الاستشارية للمهرجان وفي كل دورة، تكريم أحد الفنانين المسرحيين من الجيل المؤسس في الدولة، حيث يكرم في هذه الدورة الفنان الشامل عبدالله صالح، وهي لفتة نبيلة تحسب لإدارة المهرجان.نواف يونسRAFET.JANAH@gmail.com\n"
          ]
        }
      ]
    },
    {
      "cell_type": "code",
      "source": [
        "df.shape"
      ],
      "metadata": {
        "colab": {
          "base_uri": "https://localhost:8080/"
        },
        "id": "yznIdmjq15Yh",
        "outputId": "7a568690-848f-4944-8907-9ecb044708c9"
      },
      "id": "yznIdmjq15Yh",
      "execution_count": 4,
      "outputs": [
        {
          "output_type": "execute_result",
          "data": {
            "text/plain": [
              "(15000, 3)"
            ]
          },
          "metadata": {},
          "execution_count": 4
        }
      ]
    },
    {
      "cell_type": "code",
      "source": [
        "df['label'].unique()"
      ],
      "metadata": {
        "colab": {
          "base_uri": "https://localhost:8080/"
        },
        "id": "JvfQ-8bn2NxG",
        "outputId": "778b03e6-229b-4c5d-b178-0beb4e1fc72f"
      },
      "id": "JvfQ-8bn2NxG",
      "execution_count": 3,
      "outputs": [
        {
          "output_type": "execute_result",
          "data": {
            "text/plain": [
              "array(['Culture', 'Finance', 'Medical'], dtype=object)"
            ]
          },
          "metadata": {},
          "execution_count": 3
        }
      ]
    },
    {
      "cell_type": "markdown",
      "id": "d87ddcd5",
      "metadata": {
        "id": "d87ddcd5"
      },
      "source": [
        "## Step 2: Clean Unnecessary Columns"
      ]
    },
    {
      "cell_type": "markdown",
      "id": "bb10d4d4",
      "metadata": {
        "id": "bb10d4d4"
      },
      "source": [
        "Remove any columns from the dataset that are not needed for training."
      ]
    },
    {
      "cell_type": "code",
      "source": [
        "df.drop(columns=['Unnamed: 0'], inplace= True)"
      ],
      "metadata": {
        "id": "j2p2dc9q18jn"
      },
      "id": "j2p2dc9q18jn",
      "execution_count": 5,
      "outputs": []
    },
    {
      "cell_type": "markdown",
      "id": "790b4a9e",
      "metadata": {
        "id": "790b4a9e"
      },
      "source": [
        "## Step 3: Splitting the Dataset"
      ]
    },
    {
      "cell_type": "markdown",
      "id": "66c8c1f4",
      "metadata": {
        "id": "66c8c1f4"
      },
      "source": [
        "Split the dataset into training and testing sets, ensuring that 20% of the data is used for testing."
      ]
    },
    {
      "cell_type": "code",
      "execution_count": 6,
      "id": "3f839fea",
      "metadata": {
        "id": "3f839fea"
      },
      "outputs": [],
      "source": [
        "train_df , test_df = train_test_split(df, test_size= 0.2, random_state=42)"
      ]
    },
    {
      "cell_type": "code",
      "source": [
        "le = LabelEncoder()\n",
        "\n",
        "train_df['label'] = le.fit_transform(train_df['label'])\n",
        "test_df['label'] = le.fit_transform(test_df['label'])"
      ],
      "metadata": {
        "id": "_UCJApSj4uAV"
      },
      "id": "_UCJApSj4uAV",
      "execution_count": 7,
      "outputs": []
    },
    {
      "cell_type": "code",
      "source": [
        "!pip install datasets"
      ],
      "metadata": {
        "colab": {
          "base_uri": "https://localhost:8080/",
          "height": 1000
        },
        "id": "OQRKqtF76oLy",
        "outputId": "6c6277ce-86ca-4067-a151-b3f927c4afd8"
      },
      "id": "OQRKqtF76oLy",
      "execution_count": 6,
      "outputs": [
        {
          "output_type": "stream",
          "name": "stdout",
          "text": [
            "Collecting datasets\n",
            "  Downloading datasets-3.0.0-py3-none-any.whl.metadata (19 kB)\n",
            "Requirement already satisfied: filelock in /usr/local/lib/python3.10/dist-packages (from datasets) (3.16.0)\n",
            "Requirement already satisfied: numpy>=1.17 in /usr/local/lib/python3.10/dist-packages (from datasets) (1.26.4)\n",
            "Collecting pyarrow>=15.0.0 (from datasets)\n",
            "  Downloading pyarrow-17.0.0-cp310-cp310-manylinux_2_28_x86_64.whl.metadata (3.3 kB)\n",
            "Collecting dill<0.3.9,>=0.3.0 (from datasets)\n",
            "  Downloading dill-0.3.8-py3-none-any.whl.metadata (10 kB)\n",
            "Requirement already satisfied: pandas in /usr/local/lib/python3.10/dist-packages (from datasets) (2.1.4)\n",
            "Requirement already satisfied: requests>=2.32.2 in /usr/local/lib/python3.10/dist-packages (from datasets) (2.32.3)\n",
            "Requirement already satisfied: tqdm>=4.66.3 in /usr/local/lib/python3.10/dist-packages (from datasets) (4.66.5)\n",
            "Collecting xxhash (from datasets)\n",
            "  Downloading xxhash-3.5.0-cp310-cp310-manylinux_2_17_x86_64.manylinux2014_x86_64.whl.metadata (12 kB)\n",
            "Collecting multiprocess (from datasets)\n",
            "  Downloading multiprocess-0.70.16-py310-none-any.whl.metadata (7.2 kB)\n",
            "Requirement already satisfied: fsspec<=2024.6.1,>=2023.1.0 in /usr/local/lib/python3.10/dist-packages (from fsspec[http]<=2024.6.1,>=2023.1.0->datasets) (2024.6.1)\n",
            "Requirement already satisfied: aiohttp in /usr/local/lib/python3.10/dist-packages (from datasets) (3.10.5)\n",
            "Requirement already satisfied: huggingface-hub>=0.22.0 in /usr/local/lib/python3.10/dist-packages (from datasets) (0.24.6)\n",
            "Requirement already satisfied: packaging in /usr/local/lib/python3.10/dist-packages (from datasets) (24.1)\n",
            "Requirement already satisfied: pyyaml>=5.1 in /usr/local/lib/python3.10/dist-packages (from datasets) (6.0.2)\n",
            "Requirement already satisfied: aiohappyeyeballs>=2.3.0 in /usr/local/lib/python3.10/dist-packages (from aiohttp->datasets) (2.4.0)\n",
            "Requirement already satisfied: aiosignal>=1.1.2 in /usr/local/lib/python3.10/dist-packages (from aiohttp->datasets) (1.3.1)\n",
            "Requirement already satisfied: attrs>=17.3.0 in /usr/local/lib/python3.10/dist-packages (from aiohttp->datasets) (24.2.0)\n",
            "Requirement already satisfied: frozenlist>=1.1.1 in /usr/local/lib/python3.10/dist-packages (from aiohttp->datasets) (1.4.1)\n",
            "Requirement already satisfied: multidict<7.0,>=4.5 in /usr/local/lib/python3.10/dist-packages (from aiohttp->datasets) (6.1.0)\n",
            "Requirement already satisfied: yarl<2.0,>=1.0 in /usr/local/lib/python3.10/dist-packages (from aiohttp->datasets) (1.11.1)\n",
            "Requirement already satisfied: async-timeout<5.0,>=4.0 in /usr/local/lib/python3.10/dist-packages (from aiohttp->datasets) (4.0.3)\n",
            "Requirement already satisfied: typing-extensions>=3.7.4.3 in /usr/local/lib/python3.10/dist-packages (from huggingface-hub>=0.22.0->datasets) (4.12.2)\n",
            "Requirement already satisfied: charset-normalizer<4,>=2 in /usr/local/lib/python3.10/dist-packages (from requests>=2.32.2->datasets) (3.3.2)\n",
            "Requirement already satisfied: idna<4,>=2.5 in /usr/local/lib/python3.10/dist-packages (from requests>=2.32.2->datasets) (3.8)\n",
            "Requirement already satisfied: urllib3<3,>=1.21.1 in /usr/local/lib/python3.10/dist-packages (from requests>=2.32.2->datasets) (2.0.7)\n",
            "Requirement already satisfied: certifi>=2017.4.17 in /usr/local/lib/python3.10/dist-packages (from requests>=2.32.2->datasets) (2024.8.30)\n",
            "Requirement already satisfied: python-dateutil>=2.8.2 in /usr/local/lib/python3.10/dist-packages (from pandas->datasets) (2.8.2)\n",
            "Requirement already satisfied: pytz>=2020.1 in /usr/local/lib/python3.10/dist-packages (from pandas->datasets) (2024.2)\n",
            "Requirement already satisfied: tzdata>=2022.1 in /usr/local/lib/python3.10/dist-packages (from pandas->datasets) (2024.1)\n",
            "Requirement already satisfied: six>=1.5 in /usr/local/lib/python3.10/dist-packages (from python-dateutil>=2.8.2->pandas->datasets) (1.16.0)\n",
            "Downloading datasets-3.0.0-py3-none-any.whl (474 kB)\n",
            "\u001b[2K   \u001b[90m━━━━━━━━━━━━━━━━━━━━━━━━━━━━━━━━━━━━━━━━\u001b[0m \u001b[32m474.3/474.3 kB\u001b[0m \u001b[31m34.8 MB/s\u001b[0m eta \u001b[36m0:00:00\u001b[0m\n",
            "\u001b[?25hDownloading dill-0.3.8-py3-none-any.whl (116 kB)\n",
            "\u001b[2K   \u001b[90m━━━━━━━━━━━━━━━━━━━━━━━━━━━━━━━━━━━━━━━━\u001b[0m \u001b[32m116.3/116.3 kB\u001b[0m \u001b[31m10.9 MB/s\u001b[0m eta \u001b[36m0:00:00\u001b[0m\n",
            "\u001b[?25hDownloading pyarrow-17.0.0-cp310-cp310-manylinux_2_28_x86_64.whl (39.9 MB)\n",
            "\u001b[2K   \u001b[90m━━━━━━━━━━━━━━━━━━━━━━━━━━━━━━━━━━━━━━━━\u001b[0m \u001b[32m39.9/39.9 MB\u001b[0m \u001b[31m20.2 MB/s\u001b[0m eta \u001b[36m0:00:00\u001b[0m\n",
            "\u001b[?25hDownloading multiprocess-0.70.16-py310-none-any.whl (134 kB)\n",
            "\u001b[2K   \u001b[90m━━━━━━━━━━━━━━━━━━━━━━━━━━━━━━━━━━━━━━━━\u001b[0m \u001b[32m134.8/134.8 kB\u001b[0m \u001b[31m12.3 MB/s\u001b[0m eta \u001b[36m0:00:00\u001b[0m\n",
            "\u001b[?25hDownloading xxhash-3.5.0-cp310-cp310-manylinux_2_17_x86_64.manylinux2014_x86_64.whl (194 kB)\n",
            "\u001b[2K   \u001b[90m━━━━━━━━━━━━━━━━━━━━━━━━━━━━━━━━━━━━━━━━\u001b[0m \u001b[32m194.1/194.1 kB\u001b[0m \u001b[31m15.8 MB/s\u001b[0m eta \u001b[36m0:00:00\u001b[0m\n",
            "\u001b[?25hInstalling collected packages: xxhash, pyarrow, dill, multiprocess, datasets\n",
            "  Attempting uninstall: pyarrow\n",
            "    Found existing installation: pyarrow 14.0.2\n",
            "    Uninstalling pyarrow-14.0.2:\n",
            "      Successfully uninstalled pyarrow-14.0.2\n",
            "\u001b[31mERROR: pip's dependency resolver does not currently take into account all the packages that are installed. This behaviour is the source of the following dependency conflicts.\n",
            "cudf-cu12 24.4.1 requires pyarrow<15.0.0a0,>=14.0.1, but you have pyarrow 17.0.0 which is incompatible.\n",
            "ibis-framework 8.0.0 requires pyarrow<16,>=2, but you have pyarrow 17.0.0 which is incompatible.\u001b[0m\u001b[31m\n",
            "\u001b[0mSuccessfully installed datasets-3.0.0 dill-0.3.8 multiprocess-0.70.16 pyarrow-17.0.0 xxhash-3.5.0\n"
          ]
        },
        {
          "output_type": "display_data",
          "data": {
            "application/vnd.colab-display-data+json": {
              "pip_warning": {
                "packages": [
                  "pyarrow"
                ]
              },
              "id": "73e5c8611dfa4a69acae1155741241c7"
            }
          },
          "metadata": {}
        }
      ]
    },
    {
      "cell_type": "code",
      "source": [
        "train_dataset = Dataset.from_pandas(train_df)\n",
        "test_dataset = Dataset.from_pandas(test_df)"
      ],
      "metadata": {
        "id": "er382r4x6q0u"
      },
      "id": "er382r4x6q0u",
      "execution_count": 8,
      "outputs": []
    },
    {
      "cell_type": "markdown",
      "id": "091d3694",
      "metadata": {
        "id": "091d3694"
      },
      "source": [
        "## Step 4: Tokenizing the Data"
      ]
    },
    {
      "cell_type": "markdown",
      "id": "c6418768",
      "metadata": {
        "id": "c6418768"
      },
      "source": [
        "Initialize a tokenizer for the model."
      ]
    },
    {
      "cell_type": "code",
      "execution_count": 9,
      "id": "89a28bfc",
      "metadata": {
        "id": "89a28bfc",
        "colab": {
          "base_uri": "https://localhost:8080/"
        },
        "outputId": "01326a69-7bfd-498e-e267-10c149124787"
      },
      "outputs": [
        {
          "output_type": "stream",
          "name": "stderr",
          "text": [
            "/usr/local/lib/python3.10/dist-packages/transformers/tokenization_utils_base.py:1601: FutureWarning: `clean_up_tokenization_spaces` was not set. It will be set to `True` by default. This behavior will be depracted in transformers v4.45, and will be then set to `False` by default. For more details check this issue: https://github.com/huggingface/transformers/issues/31884\n",
            "  warnings.warn(\n"
          ]
        }
      ],
      "source": [
        "tokenizer = AutoTokenizer.from_pretrained(\"aubmindlab/bert-base-arabertv02\")\n",
        "\n",
        "def tokenize_fun(examples):\n",
        "  return tokenizer(examples['text'], truncation = True, padding = True)"
      ]
    },
    {
      "cell_type": "markdown",
      "id": "89500748",
      "metadata": {
        "id": "89500748"
      },
      "source": [
        "## Step 5: Preprocessing the Text"
      ]
    },
    {
      "cell_type": "markdown",
      "id": "30bd6fab",
      "metadata": {
        "id": "30bd6fab"
      },
      "source": [
        "Map the tokenization function to the dataset. Ensure the text data is processed using truncation to handle sequences that exceed the model's input size. Please do any further preprocessing.\n",
        "\n",
        "**Bonus**: If you performed more comprehensive preprocessing, such as removing links, converting text to lowercase, or applying additional preprocessing techniques."
      ]
    },
    {
      "cell_type": "code",
      "source": [
        "tokenized_train_dataset = train_dataset.map(tokenize_fun, batched = True)\n",
        "tokenized_test_dataset = test_dataset.map(tokenize_fun, batched= True)"
      ],
      "metadata": {
        "colab": {
          "base_uri": "https://localhost:8080/",
          "height": 81,
          "referenced_widgets": [
            "32cd59086d714412a3d3d8bd59d4bacc",
            "ab1b50ea0a55404bb63fb522da452fbd",
            "2c3c2c10d39444afab1db5be8ac5c200",
            "e411bdee785f4476967d9fbc0510f2d9",
            "b55f1f2cafef4147928c1a90413a917c",
            "bc1ce25dcf524bdbb569c3b7c8dd9700",
            "df66a113c28c4301b9ef5305797bcd38",
            "184aaccc21704bbe935322ac83e45f7c",
            "86e98f9c569541f9aecbeeaeb0610429",
            "b7ba057790b6409fbef85340562f5846",
            "b3cd23253dcd4b8e8d7c992feeb342a5",
            "baba4c214cc24a7d9656630323459512",
            "a895b612b7794a28b3cf5290cf3057e2",
            "8475091ff2544c499e79187c7fc0bbf5",
            "ffa93d352e794473bd039c08854912fc",
            "d72646a536724f9589e4616feb0d190c",
            "e815a277d1624e1891e39309fa7a0a26",
            "17318e51a54949db9b173d09ebfd5f16",
            "d877a112bf34439f9ba9f3c3dffe62cd",
            "6451a98da9c34eb79fdbf55da67ff713",
            "e14a3f82f91f471fb9fc29f9b828a399",
            "e9d51da31d624d8dade0071be79d9767"
          ]
        },
        "id": "loT3pSVW6hmY",
        "outputId": "da42dc07-5e59-4c7c-d05a-fad21f8be603"
      },
      "id": "loT3pSVW6hmY",
      "execution_count": 10,
      "outputs": [
        {
          "output_type": "display_data",
          "data": {
            "text/plain": [
              "Map:   0%|          | 0/12000 [00:00<?, ? examples/s]"
            ],
            "application/vnd.jupyter.widget-view+json": {
              "version_major": 2,
              "version_minor": 0,
              "model_id": "32cd59086d714412a3d3d8bd59d4bacc"
            }
          },
          "metadata": {}
        },
        {
          "output_type": "display_data",
          "data": {
            "text/plain": [
              "Map:   0%|          | 0/3000 [00:00<?, ? examples/s]"
            ],
            "application/vnd.jupyter.widget-view+json": {
              "version_major": 2,
              "version_minor": 0,
              "model_id": "baba4c214cc24a7d9656630323459512"
            }
          },
          "metadata": {}
        }
      ]
    },
    {
      "cell_type": "markdown",
      "id": "5f05ad70",
      "metadata": {
        "id": "5f05ad70"
      },
      "source": [
        "### Step 6: Label Encoding"
      ]
    },
    {
      "cell_type": "markdown",
      "id": "87441817",
      "metadata": {
        "id": "87441817"
      },
      "source": [
        "Convert the categorical labels into numerical format using a label encoder if needed."
      ]
    },
    {
      "cell_type": "markdown",
      "id": "2c2cde80",
      "metadata": {
        "id": "2c2cde80"
      },
      "source": [
        "### Step 7: Data Collation for Padding"
      ]
    },
    {
      "cell_type": "markdown",
      "id": "130522fd",
      "metadata": {
        "id": "130522fd"
      },
      "source": [
        "Prepare the data for training by ensuring all sequences in a batch are padded to the same length. Use a data collator to handle dynamic padding."
      ]
    },
    {
      "cell_type": "code",
      "execution_count": 11,
      "id": "fe5832f9",
      "metadata": {
        "id": "fe5832f9"
      },
      "outputs": [],
      "source": [
        "data_collator = DataCollatorWithPadding(tokenizer = tokenizer)"
      ]
    },
    {
      "cell_type": "markdown",
      "id": "08125f2b",
      "metadata": {
        "id": "08125f2b"
      },
      "source": [
        "### Step 8: Model Initialization"
      ]
    },
    {
      "cell_type": "markdown",
      "id": "a209e8e8",
      "metadata": {
        "id": "a209e8e8"
      },
      "source": [
        "Initialize a sequence classification model using the BERT-based architecture. Set the the right amount of output labels."
      ]
    },
    {
      "cell_type": "code",
      "source": [
        "checkpoint = 'aubmindlab/bert-base-arabertv02'\n",
        "num_labels = len(df['label'].unique())\n",
        "\n",
        "config = AutoConfig.from_pretrained(checkpoint, num_labels= num_labels)\n",
        "model = AutoModelForSequenceClassification.from_pretrained(checkpoint, config = config)"
      ],
      "metadata": {
        "colab": {
          "base_uri": "https://localhost:8080/",
          "height": 104,
          "referenced_widgets": [
            "ec9e522e210a43f9905022b125512dde",
            "0c045ef0bb894aa581fc4cf99428f3df",
            "4b9ea1464cdf408ab234b3bad87cc617",
            "fda9746f4df64f789b715d5778bf15c2",
            "1e18c0a274454fff8daab90e5ffbe69a",
            "a9660f9313bf4ac2ab6c4c5d598596ef",
            "4b050949d6a744009a596bbadda2a2cb",
            "5bc59405883d4afaa9eca1f5250e8e2c",
            "cb7f3e6930964c40a94c1ae42115385d",
            "285ebbd0493a4b7c9d6e27ded75cc157",
            "0e2cf9ff34a04528af2500d64ea2be8d"
          ]
        },
        "id": "akfltDlz-KQs",
        "outputId": "71b0d3db-c2e5-49b3-c34a-c7fb605e5c38"
      },
      "id": "akfltDlz-KQs",
      "execution_count": 12,
      "outputs": [
        {
          "output_type": "display_data",
          "data": {
            "text/plain": [
              "model.safetensors:   0%|          | 0.00/543M [00:00<?, ?B/s]"
            ],
            "application/vnd.jupyter.widget-view+json": {
              "version_major": 2,
              "version_minor": 0,
              "model_id": "ec9e522e210a43f9905022b125512dde"
            }
          },
          "metadata": {}
        },
        {
          "output_type": "stream",
          "name": "stderr",
          "text": [
            "Some weights of BertForSequenceClassification were not initialized from the model checkpoint at aubmindlab/bert-base-arabertv02 and are newly initialized: ['classifier.bias', 'classifier.weight']\n",
            "You should probably TRAIN this model on a down-stream task to be able to use it for predictions and inference.\n"
          ]
        }
      ]
    },
    {
      "cell_type": "markdown",
      "id": "c662a02e",
      "metadata": {
        "id": "c662a02e"
      },
      "source": [
        "## Step 9: Training Arguments"
      ]
    },
    {
      "cell_type": "markdown",
      "id": "fc922a37",
      "metadata": {
        "id": "fc922a37"
      },
      "source": [
        "Define the training arguments, including parameters such as learning rate, batch size, number of epochs, and weight decay."
      ]
    },
    {
      "cell_type": "code",
      "source": [
        "training_args = TrainingArguments(\n",
        "    output_dir='./results',\n",
        "    learning_rate = 4e-5,\n",
        "    per_device_train_batch_size=4,\n",
        "    num_train_epochs=1,\n",
        "    evaluation_strategy=\"no\"\n",
        ")"
      ],
      "metadata": {
        "colab": {
          "base_uri": "https://localhost:8080/"
        },
        "id": "rCOi8CkD-09N",
        "outputId": "be873044-7af5-43bf-cad4-bf425d46a7b6"
      },
      "id": "rCOi8CkD-09N",
      "execution_count": 14,
      "outputs": [
        {
          "output_type": "stream",
          "name": "stderr",
          "text": [
            "/usr/local/lib/python3.10/dist-packages/transformers/training_args.py:1525: FutureWarning: `evaluation_strategy` is deprecated and will be removed in version 4.46 of 🤗 Transformers. Use `eval_strategy` instead\n",
            "  warnings.warn(\n"
          ]
        }
      ]
    },
    {
      "cell_type": "markdown",
      "id": "74aabddb",
      "metadata": {
        "id": "74aabddb"
      },
      "source": [
        "## Step 10: Trainer Initialization and Training"
      ]
    },
    {
      "cell_type": "markdown",
      "id": "3d3b4bf5",
      "metadata": {
        "id": "3d3b4bf5"
      },
      "source": [
        "Set up the trainer with the model, training arguments, dataset, tokenizer, and data collator. Train the model using the dataset you processed earlier."
      ]
    },
    {
      "cell_type": "code",
      "source": [
        "tranier = Trainer(\n",
        "    model = model,\n",
        "    args = training_args,\n",
        "    train_dataset = tokenized_train_dataset\n",
        "    data_collator= data_collator\n",
        ")\n",
        "tranier.train()"
      ],
      "metadata": {
        "colab": {
          "base_uri": "https://localhost:8080/",
          "height": 298
        },
        "id": "AX0lWtZy_Ugk",
        "outputId": "5bc837fc-9726-417f-bb32-2670be620d56"
      },
      "id": "AX0lWtZy_Ugk",
      "execution_count": 20,
      "outputs": [
        {
          "output_type": "display_data",
          "data": {
            "text/plain": [
              "<IPython.core.display.HTML object>"
            ],
            "text/html": [
              "\n",
              "    <div>\n",
              "      \n",
              "      <progress value='3000' max='3000' style='width:300px; height:20px; vertical-align: middle;'></progress>\n",
              "      [3000/3000 24:05, Epoch 1/1]\n",
              "    </div>\n",
              "    <table border=\"1\" class=\"dataframe\">\n",
              "  <thead>\n",
              " <tr style=\"text-align: left;\">\n",
              "      <th>Step</th>\n",
              "      <th>Training Loss</th>\n",
              "    </tr>\n",
              "  </thead>\n",
              "  <tbody>\n",
              "    <tr>\n",
              "      <td>500</td>\n",
              "      <td>0.057400</td>\n",
              "    </tr>\n",
              "    <tr>\n",
              "      <td>1000</td>\n",
              "      <td>0.031300</td>\n",
              "    </tr>\n",
              "    <tr>\n",
              "      <td>1500</td>\n",
              "      <td>0.024300</td>\n",
              "    </tr>\n",
              "    <tr>\n",
              "      <td>2000</td>\n",
              "      <td>0.027100</td>\n",
              "    </tr>\n",
              "    <tr>\n",
              "      <td>2500</td>\n",
              "      <td>0.023300</td>\n",
              "    </tr>\n",
              "    <tr>\n",
              "      <td>3000</td>\n",
              "      <td>0.020600</td>\n",
              "    </tr>\n",
              "  </tbody>\n",
              "</table><p>"
            ]
          },
          "metadata": {}
        },
        {
          "output_type": "execute_result",
          "data": {
            "text/plain": [
              "TrainOutput(global_step=3000, training_loss=0.03065721416473389, metrics={'train_runtime': 1447.1861, 'train_samples_per_second': 8.292, 'train_steps_per_second': 2.073, 'total_flos': 3157361012736000.0, 'train_loss': 0.03065721416473389, 'epoch': 1.0})"
            ]
          },
          "metadata": {},
          "execution_count": 20
        }
      ]
    },
    {
      "cell_type": "code",
      "source": [
        "model.save_pretrained(\"./mymodel\")\n",
        "tokenizer.save_pretrained(\"./mytokenizer\")"
      ],
      "metadata": {
        "colab": {
          "base_uri": "https://localhost:8080/"
        },
        "id": "B8JoO5MHCbsi",
        "outputId": "c05ab9b0-eb65-4de7-f6eb-9414c9e4a805"
      },
      "id": "B8JoO5MHCbsi",
      "execution_count": 21,
      "outputs": [
        {
          "output_type": "execute_result",
          "data": {
            "text/plain": [
              "('./mytokenizer/tokenizer_config.json',\n",
              " './mytokenizer/special_tokens_map.json',\n",
              " './mytokenizer/vocab.txt',\n",
              " './mytokenizer/added_tokens.json',\n",
              " './mytokenizer/tokenizer.json')"
            ]
          },
          "metadata": {},
          "execution_count": 21
        }
      ]
    },
    {
      "cell_type": "markdown",
      "id": "9b7e59cb",
      "metadata": {
        "id": "9b7e59cb"
      },
      "source": [
        "## Step 11: Inference"
      ]
    },
    {
      "cell_type": "markdown",
      "id": "0c5ed70c",
      "metadata": {
        "id": "0c5ed70c"
      },
      "source": [
        "Once the model is trained, perform inference on a sample text to evaluate the model's prediction capabilities. Use the tokenizer to process the text, and then feed it into the model to get the predicted label."
      ]
    },
    {
      "cell_type": "markdown",
      "source": [
        "**Examples on Medical article:**"
      ],
      "metadata": {
        "id": "m7Y2c7K9I3y8"
      },
      "id": "m7Y2c7K9I3y8"
    },
    {
      "cell_type": "code",
      "source": [
        "model_inf = pipeline(\"sentiment-analysis\", model = \"/content/mymodel\", tokenizer=\"/content/mytokenizer\",return_all_scores=False)"
      ],
      "metadata": {
        "id": "ZmG_dS7QT6d_"
      },
      "id": "ZmG_dS7QT6d_",
      "execution_count": null,
      "outputs": []
    },
    {
      "cell_type": "code",
      "execution_count": 25,
      "id": "0d90a5b5",
      "metadata": {
        "id": "0d90a5b5",
        "colab": {
          "base_uri": "https://localhost:8080/"
        },
        "outputId": "d25f22fb-b0ae-4470-82f5-e262d72ed013"
      },
      "outputs": [
        {
          "output_type": "stream",
          "name": "stderr",
          "text": [
            "Hardware accelerator e.g. GPU is available in the environment, but no `device` argument is passed to the `Pipeline` object. Model will be on CPU.\n",
            "/usr/local/lib/python3.10/dist-packages/transformers/pipelines/text_classification.py:104: UserWarning: `return_all_scores` is now deprecated,  if want a similar functionality use `top_k=None` instead of `return_all_scores=True` or `top_k=1` instead of `return_all_scores=False`.\n",
            "  warnings.warn(\n"
          ]
        },
        {
          "output_type": "stream",
          "name": "stdout",
          "text": [
            "[{'label': 'LABEL_2', 'score': 0.9999425411224365}]\n"
          ]
        }
      ],
      "source": [
        "example1 =\"\"\"\n",
        "\n",
        "رأس الخيمة: «الخليج» افتتح الدكتور عبدالله النعيمي، مدير منطقة رأس الخيمة الطبية، مركز الظيت للرعاية الصحية الأولية، الذي استأنف عمله بعد إنجاز مشروع التطوير والصيانة، الذي خضع له، وهو يخدم منطقة حيوية تضم كثافة سكانية عالية. وأوضح د. النعيمي، خلال زيارته للمركز الصحي، أن أعمال الصيانة للمركز بدأت في يناير/كانون الثاني من العام الماضي، واشتملت على تعديلات في المبنى وتطوير مرافقه وخدماته، من أهمها إنشاء حجرات إضافية، وأقسام جديدة للمختبر والتمريض والعيادات، وتجهيز المواقف الخارجية لسيارات المراجعين والموظفين، وتعديلات داخلية في المبنى الرئيسي للمركز الصحي الحيوي. وبين النعيمي أن الهدف من مشروع توسعة مركز الظيت وتطويره هو الارتقاء بالخدمات الصحية المقدمة لأهالي المنطقة، وتسهيل تنقل المراجعين بين مرافق المركز، وتسهيل عملية دخول المراجعين بسياراتهم إلى حرم المركز. وأضاف النعيمي أن «الأشغال العامة» تسلمت المبنى من المنطقة الطبية في وقت سابق، وتكفلت بتنفيذ التوسعات والتعديلات المنشودة، ليكون المركز جاهزاً للعمل في إبريل/نيسان الحالي. وأشار الدكتور النعيمي إلى أن المنطقة تقدم خدمات الرعاية الصحية الأولية إلى مراجعيها عبر 18 مركزاً صحياً تنتشر جغرافياً، في مختلف أنحاء الإمارة.\n",
        "\n",
        "\n",
        "\n",
        "\"\"\"\n",
        "\n",
        "result = model_inf(example1)\n",
        "print(result)"
      ]
    },
    {
      "cell_type": "markdown",
      "source": [
        "**Examples on Culture article:**"
      ],
      "metadata": {
        "id": "Ccn7g2ZyI2D6"
      },
      "id": "Ccn7g2ZyI2D6"
    },
    {
      "cell_type": "code",
      "source": [
        "example2 =\"\"\"\n",
        "\n",
        "نطلقت في مثل هذه الأيام من العام الفائت فعاليات مهرجان دبي لمسرح الشباب، تحت مظلة مجلس دبي الثقافي، وكانت فكرة المهرجان تهدف الى تشجيع ودعم المواهب الشابة من الفنانين المسرحيين، وإتاحة الفرصة أمامهم لتقديم أعمالهم المسرحية أمام الجمهور، وهو ما يزيد من خبرتهم ويصقل موهبتهم المسرحية، ويوم 10 أغسطس الفائت انطلقت فعاليات المهرجان في دورته الثانية وتستمر حتى 20 أغسطس/ آب الجاري، ولكن مع قرار صاحب السمو الشيخ محمد بن راشد آل مكتوم نائب رئيس الدولة رئيس مجلس الوزراء حاكم دبي، بإنشاء هيئة دبي للثقافة والفنون تحولت رعاية المهرجان الى الهيئة التي تسعى الى المساهمة في الحياة الاجتماعية والفكرية والثقافية في دولة الإمارات، وترسيخ مكانة دبي كمقر حيوي للثقافة والفنون والتراث.وقد وضعت هيئة دبي للثقافة والفنون في استراتيجيتها الثقافة الشاملة، أهمية المحافظة على الهوية الوطنية من خلال تعزيز الوعي بالأنشطة الثقافية، والتعاون مع المؤسسات المعنية في الدولة، للمشاركة في أنشطة وفعاليات الهيئة، والتي يبرز مهرجان دبي لمسرح الشباب في مقدمتها، لأن الهيئة تؤمن بضرورة أن يظل المسرح يقوم بدوره العضوي الحيوي في الحراك الاجتماعي والثقافي، وهو ما يسهم في وعي الإنسان وإدراكه لذاته وواقعه ومجتمعه ووطنه.وتسعى الهيئة أيضاً الى دعم وتشجيع الجيل المسرحي الشاب في الإمارات، من خلال مشاركته في فعالياتها، والمساهمة في ترويج منتوجه الثقافي والفني، خصوصاً أن المكانة التي وصل إليها المسرح في الإمارات، على المستويين الخليجي والعربي، تتطلب النظر بمسؤولية الى أهمية وجود جيل مسرحي شاب وموهوب فنياً وفكرياً، يستكمل المسيرة، ويحافظ على المستوى الذي حققه الجيل المفصل، والذي يتربع الآن على القمة.والمتابع لفعاليات مهرجان دبي لمسرح الشباب، بدأ يتعرف من خلال العروض على أسماء شابة في مجال التمثيل والتأليف والإخراج، وأصبحت أسماء مألوفة له، مثل حمد الحمادي وعبدالله الظاهري وخالد علي ربيع ومحمد الحمادي ومنال بن عمرو ومروان عبدالله صالح وهم جميعاً من العاملين في مجال الإخراج وقد تتلمذوا على أيدي كوكبة من المخرجين الإماراتيين من الجيل المفصل وقد برزوا من خلال أعمالهم المسرحية التي تدور حول الأرض والوطن والهوية بدلالات ورموز مختلفة في أبعادها الفنية والفكرية، والموقف من مواكبة العصر أو التمسك بالماضي، وأحلام الإنسان العادي وطموحاته في هذه الحياة التي تعج بالصراعات الاجتماعية والسياسية والاقتصادية.ولا تقتصر فعاليات المهرجان على العروض وحسب، وإنما أدرجت اللجنة الاستشارية للمهرجان وفي كل دورة، تكريم أحد الفنانين المسرحيين من الجيل المؤسس في الدولة، حيث يكرم في هذه الدورة الفنان الشامل عبدالله صالح، وهي لفتة نبيلة تحسب لإدارة المهرجان.نواف يونس\n",
        "\n",
        "\"\"\"\n",
        "\n",
        "result = model_inf(example2)\n",
        "print(result)"
      ],
      "metadata": {
        "colab": {
          "base_uri": "https://localhost:8080/"
        },
        "id": "MdHhY7D-Io-2",
        "outputId": "96a457f9-e774-498d-98d1-95dfdc5736b2"
      },
      "id": "MdHhY7D-Io-2",
      "execution_count": 26,
      "outputs": [
        {
          "output_type": "stream",
          "name": "stdout",
          "text": [
            "[{'label': 'LABEL_0', 'score': 0.9999538660049438}]\n"
          ]
        }
      ]
    },
    {
      "cell_type": "markdown",
      "source": [
        "**Examples on Financial article:**"
      ],
      "metadata": {
        "id": "V7l76TZMJHP9"
      },
      "id": "V7l76TZMJHP9"
    },
    {
      "cell_type": "code",
      "source": [
        "example3 = '''\n",
        "\n",
        "وظبي - \"الخليج\":انخفض مؤشر سوق الإمارات المالي الصادر عن هيئة الأوراق المالية والسلع خلال جلسة تداول أمس، بنسبة 72 .0% ليغلق على 22 .5422 نقطة . وشهدت القيمة السوقية انخفاضاً بقيمة 92 .5 مليار درهم لتصل إلى 99 .813 مليار درهم، وتم تداول ما يقارب 17 .1 مليار سهم بقيمة إجمالية بلغت 25 .3 مليار درهم من خلال 17182 صفقة .وبلغ عدد الشركات التي تم تداول أسهمها 65 من أصل 120 شركة مدرجة في الأسواق المالية . وحققت أسعار أسهم 15 شركة ارتفاعاً في حين انخفضت أسعار أسهم 42 شركة، بينما لم يحدث أي تغير على أسعار أسهم باقي الشركات .وجاء سهم \"شركة أرابتك القابضة\" في المركز الأول من حيث الشركات الأكثر نشاطاً، حيث تم تداول ما قيمته 82 .0 مليار درهم موزعة على 71 .84 مليون سهم من خلال 2995 صفقة . وجاء سهم \"العربية للطيران\" في المركز الثاني من حيث الشركات الأكثر نشاطاً، حيث تم تداول ما قيمته 32 .449 مليون درهم موزعة على 288 مليون سهم من خلال 2039 صفقة .وحقق سهم \"تكافل الإمارات\" أكثر نسبة ارتفاع سعري حيث أقفل سعر السهم على مستوى 17 .1 درهم مرتفعا بنسبة 35 .9% من خلال تداول 05 .12 مليون سهم بقيمة 21 .14 مليون درهم، وجاء في المركز الثاني من حيث الارتفاع السعري سهم \"العربية للطيران\" ليغلق على مستوى 58 .1 درهم مرتفعاً بنسبة 48 .7% من خلال تداول 288 مليون سهم بقيمة 32 .449 مليون درهم .وسجل سهم \"شركة أبوظبي الوطنية للتأمين\" أكثر انخفاض سعري في جلسة التداول حيث أقفل سعر السهم على مستوى 30 .6 درهم مسجلاً خسارة بنسبة 10% من خلال تداول 30 ألف سهم بقيمة 189 ألف درهم . تلاه سهم \"الشركة الوطنية للتأمينات العامة\" الذي انخفض بنسبة 37 .8% ليغلق على مستوى 94 .3 درهم من خلال تداول 300 سهم بقيمة 1182 درهماً .ومنذ بداية العام بلغت نسبة الارتفاع في مؤشر سوق الإمارات المالي 70 .25%، وبلغ إجمالي قيمة التداول 48 .245 مليار درهم . وبلغ عدد الشركات التي حققت ارتفاعاً سعرياً 70 من أصل ،120 وعدد الشركات المتراجعة 35 شركة .\n",
        "\n",
        "'''\n",
        "\n",
        "result = model_inf(example3)\n",
        "print(result)"
      ],
      "metadata": {
        "colab": {
          "base_uri": "https://localhost:8080/"
        },
        "id": "xvOH8tPZJKWR",
        "outputId": "18cb05f7-3ade-40ef-eb4e-885196597408"
      },
      "id": "xvOH8tPZJKWR",
      "execution_count": 27,
      "outputs": [
        {
          "output_type": "stream",
          "name": "stdout",
          "text": [
            "[{'label': 'LABEL_1', 'score': 0.9999779462814331}]\n"
          ]
        }
      ]
    }
  ],
  "metadata": {
    "language_info": {
      "name": "python"
    },
    "colab": {
      "provenance": [],
      "gpuType": "T4"
    },
    "kernelspec": {
      "name": "python3",
      "display_name": "Python 3"
    },
    "accelerator": "GPU",
    "widgets": {
      "application/vnd.jupyter.widget-state+json": {
        "32cd59086d714412a3d3d8bd59d4bacc": {
          "model_module": "@jupyter-widgets/controls",
          "model_name": "HBoxModel",
          "model_module_version": "1.5.0",
          "state": {
            "_dom_classes": [],
            "_model_module": "@jupyter-widgets/controls",
            "_model_module_version": "1.5.0",
            "_model_name": "HBoxModel",
            "_view_count": null,
            "_view_module": "@jupyter-widgets/controls",
            "_view_module_version": "1.5.0",
            "_view_name": "HBoxView",
            "box_style": "",
            "children": [
              "IPY_MODEL_ab1b50ea0a55404bb63fb522da452fbd",
              "IPY_MODEL_2c3c2c10d39444afab1db5be8ac5c200",
              "IPY_MODEL_e411bdee785f4476967d9fbc0510f2d9"
            ],
            "layout": "IPY_MODEL_b55f1f2cafef4147928c1a90413a917c"
          }
        },
        "ab1b50ea0a55404bb63fb522da452fbd": {
          "model_module": "@jupyter-widgets/controls",
          "model_name": "HTMLModel",
          "model_module_version": "1.5.0",
          "state": {
            "_dom_classes": [],
            "_model_module": "@jupyter-widgets/controls",
            "_model_module_version": "1.5.0",
            "_model_name": "HTMLModel",
            "_view_count": null,
            "_view_module": "@jupyter-widgets/controls",
            "_view_module_version": "1.5.0",
            "_view_name": "HTMLView",
            "description": "",
            "description_tooltip": null,
            "layout": "IPY_MODEL_bc1ce25dcf524bdbb569c3b7c8dd9700",
            "placeholder": "​",
            "style": "IPY_MODEL_df66a113c28c4301b9ef5305797bcd38",
            "value": "Map: 100%"
          }
        },
        "2c3c2c10d39444afab1db5be8ac5c200": {
          "model_module": "@jupyter-widgets/controls",
          "model_name": "FloatProgressModel",
          "model_module_version": "1.5.0",
          "state": {
            "_dom_classes": [],
            "_model_module": "@jupyter-widgets/controls",
            "_model_module_version": "1.5.0",
            "_model_name": "FloatProgressModel",
            "_view_count": null,
            "_view_module": "@jupyter-widgets/controls",
            "_view_module_version": "1.5.0",
            "_view_name": "ProgressView",
            "bar_style": "success",
            "description": "",
            "description_tooltip": null,
            "layout": "IPY_MODEL_184aaccc21704bbe935322ac83e45f7c",
            "max": 12000,
            "min": 0,
            "orientation": "horizontal",
            "style": "IPY_MODEL_86e98f9c569541f9aecbeeaeb0610429",
            "value": 12000
          }
        },
        "e411bdee785f4476967d9fbc0510f2d9": {
          "model_module": "@jupyter-widgets/controls",
          "model_name": "HTMLModel",
          "model_module_version": "1.5.0",
          "state": {
            "_dom_classes": [],
            "_model_module": "@jupyter-widgets/controls",
            "_model_module_version": "1.5.0",
            "_model_name": "HTMLModel",
            "_view_count": null,
            "_view_module": "@jupyter-widgets/controls",
            "_view_module_version": "1.5.0",
            "_view_name": "HTMLView",
            "description": "",
            "description_tooltip": null,
            "layout": "IPY_MODEL_b7ba057790b6409fbef85340562f5846",
            "placeholder": "​",
            "style": "IPY_MODEL_b3cd23253dcd4b8e8d7c992feeb342a5",
            "value": " 12000/12000 [00:15&lt;00:00, 735.51 examples/s]"
          }
        },
        "b55f1f2cafef4147928c1a90413a917c": {
          "model_module": "@jupyter-widgets/base",
          "model_name": "LayoutModel",
          "model_module_version": "1.2.0",
          "state": {
            "_model_module": "@jupyter-widgets/base",
            "_model_module_version": "1.2.0",
            "_model_name": "LayoutModel",
            "_view_count": null,
            "_view_module": "@jupyter-widgets/base",
            "_view_module_version": "1.2.0",
            "_view_name": "LayoutView",
            "align_content": null,
            "align_items": null,
            "align_self": null,
            "border": null,
            "bottom": null,
            "display": null,
            "flex": null,
            "flex_flow": null,
            "grid_area": null,
            "grid_auto_columns": null,
            "grid_auto_flow": null,
            "grid_auto_rows": null,
            "grid_column": null,
            "grid_gap": null,
            "grid_row": null,
            "grid_template_areas": null,
            "grid_template_columns": null,
            "grid_template_rows": null,
            "height": null,
            "justify_content": null,
            "justify_items": null,
            "left": null,
            "margin": null,
            "max_height": null,
            "max_width": null,
            "min_height": null,
            "min_width": null,
            "object_fit": null,
            "object_position": null,
            "order": null,
            "overflow": null,
            "overflow_x": null,
            "overflow_y": null,
            "padding": null,
            "right": null,
            "top": null,
            "visibility": null,
            "width": null
          }
        },
        "bc1ce25dcf524bdbb569c3b7c8dd9700": {
          "model_module": "@jupyter-widgets/base",
          "model_name": "LayoutModel",
          "model_module_version": "1.2.0",
          "state": {
            "_model_module": "@jupyter-widgets/base",
            "_model_module_version": "1.2.0",
            "_model_name": "LayoutModel",
            "_view_count": null,
            "_view_module": "@jupyter-widgets/base",
            "_view_module_version": "1.2.0",
            "_view_name": "LayoutView",
            "align_content": null,
            "align_items": null,
            "align_self": null,
            "border": null,
            "bottom": null,
            "display": null,
            "flex": null,
            "flex_flow": null,
            "grid_area": null,
            "grid_auto_columns": null,
            "grid_auto_flow": null,
            "grid_auto_rows": null,
            "grid_column": null,
            "grid_gap": null,
            "grid_row": null,
            "grid_template_areas": null,
            "grid_template_columns": null,
            "grid_template_rows": null,
            "height": null,
            "justify_content": null,
            "justify_items": null,
            "left": null,
            "margin": null,
            "max_height": null,
            "max_width": null,
            "min_height": null,
            "min_width": null,
            "object_fit": null,
            "object_position": null,
            "order": null,
            "overflow": null,
            "overflow_x": null,
            "overflow_y": null,
            "padding": null,
            "right": null,
            "top": null,
            "visibility": null,
            "width": null
          }
        },
        "df66a113c28c4301b9ef5305797bcd38": {
          "model_module": "@jupyter-widgets/controls",
          "model_name": "DescriptionStyleModel",
          "model_module_version": "1.5.0",
          "state": {
            "_model_module": "@jupyter-widgets/controls",
            "_model_module_version": "1.5.0",
            "_model_name": "DescriptionStyleModel",
            "_view_count": null,
            "_view_module": "@jupyter-widgets/base",
            "_view_module_version": "1.2.0",
            "_view_name": "StyleView",
            "description_width": ""
          }
        },
        "184aaccc21704bbe935322ac83e45f7c": {
          "model_module": "@jupyter-widgets/base",
          "model_name": "LayoutModel",
          "model_module_version": "1.2.0",
          "state": {
            "_model_module": "@jupyter-widgets/base",
            "_model_module_version": "1.2.0",
            "_model_name": "LayoutModel",
            "_view_count": null,
            "_view_module": "@jupyter-widgets/base",
            "_view_module_version": "1.2.0",
            "_view_name": "LayoutView",
            "align_content": null,
            "align_items": null,
            "align_self": null,
            "border": null,
            "bottom": null,
            "display": null,
            "flex": null,
            "flex_flow": null,
            "grid_area": null,
            "grid_auto_columns": null,
            "grid_auto_flow": null,
            "grid_auto_rows": null,
            "grid_column": null,
            "grid_gap": null,
            "grid_row": null,
            "grid_template_areas": null,
            "grid_template_columns": null,
            "grid_template_rows": null,
            "height": null,
            "justify_content": null,
            "justify_items": null,
            "left": null,
            "margin": null,
            "max_height": null,
            "max_width": null,
            "min_height": null,
            "min_width": null,
            "object_fit": null,
            "object_position": null,
            "order": null,
            "overflow": null,
            "overflow_x": null,
            "overflow_y": null,
            "padding": null,
            "right": null,
            "top": null,
            "visibility": null,
            "width": null
          }
        },
        "86e98f9c569541f9aecbeeaeb0610429": {
          "model_module": "@jupyter-widgets/controls",
          "model_name": "ProgressStyleModel",
          "model_module_version": "1.5.0",
          "state": {
            "_model_module": "@jupyter-widgets/controls",
            "_model_module_version": "1.5.0",
            "_model_name": "ProgressStyleModel",
            "_view_count": null,
            "_view_module": "@jupyter-widgets/base",
            "_view_module_version": "1.2.0",
            "_view_name": "StyleView",
            "bar_color": null,
            "description_width": ""
          }
        },
        "b7ba057790b6409fbef85340562f5846": {
          "model_module": "@jupyter-widgets/base",
          "model_name": "LayoutModel",
          "model_module_version": "1.2.0",
          "state": {
            "_model_module": "@jupyter-widgets/base",
            "_model_module_version": "1.2.0",
            "_model_name": "LayoutModel",
            "_view_count": null,
            "_view_module": "@jupyter-widgets/base",
            "_view_module_version": "1.2.0",
            "_view_name": "LayoutView",
            "align_content": null,
            "align_items": null,
            "align_self": null,
            "border": null,
            "bottom": null,
            "display": null,
            "flex": null,
            "flex_flow": null,
            "grid_area": null,
            "grid_auto_columns": null,
            "grid_auto_flow": null,
            "grid_auto_rows": null,
            "grid_column": null,
            "grid_gap": null,
            "grid_row": null,
            "grid_template_areas": null,
            "grid_template_columns": null,
            "grid_template_rows": null,
            "height": null,
            "justify_content": null,
            "justify_items": null,
            "left": null,
            "margin": null,
            "max_height": null,
            "max_width": null,
            "min_height": null,
            "min_width": null,
            "object_fit": null,
            "object_position": null,
            "order": null,
            "overflow": null,
            "overflow_x": null,
            "overflow_y": null,
            "padding": null,
            "right": null,
            "top": null,
            "visibility": null,
            "width": null
          }
        },
        "b3cd23253dcd4b8e8d7c992feeb342a5": {
          "model_module": "@jupyter-widgets/controls",
          "model_name": "DescriptionStyleModel",
          "model_module_version": "1.5.0",
          "state": {
            "_model_module": "@jupyter-widgets/controls",
            "_model_module_version": "1.5.0",
            "_model_name": "DescriptionStyleModel",
            "_view_count": null,
            "_view_module": "@jupyter-widgets/base",
            "_view_module_version": "1.2.0",
            "_view_name": "StyleView",
            "description_width": ""
          }
        },
        "baba4c214cc24a7d9656630323459512": {
          "model_module": "@jupyter-widgets/controls",
          "model_name": "HBoxModel",
          "model_module_version": "1.5.0",
          "state": {
            "_dom_classes": [],
            "_model_module": "@jupyter-widgets/controls",
            "_model_module_version": "1.5.0",
            "_model_name": "HBoxModel",
            "_view_count": null,
            "_view_module": "@jupyter-widgets/controls",
            "_view_module_version": "1.5.0",
            "_view_name": "HBoxView",
            "box_style": "",
            "children": [
              "IPY_MODEL_a895b612b7794a28b3cf5290cf3057e2",
              "IPY_MODEL_8475091ff2544c499e79187c7fc0bbf5",
              "IPY_MODEL_ffa93d352e794473bd039c08854912fc"
            ],
            "layout": "IPY_MODEL_d72646a536724f9589e4616feb0d190c"
          }
        },
        "a895b612b7794a28b3cf5290cf3057e2": {
          "model_module": "@jupyter-widgets/controls",
          "model_name": "HTMLModel",
          "model_module_version": "1.5.0",
          "state": {
            "_dom_classes": [],
            "_model_module": "@jupyter-widgets/controls",
            "_model_module_version": "1.5.0",
            "_model_name": "HTMLModel",
            "_view_count": null,
            "_view_module": "@jupyter-widgets/controls",
            "_view_module_version": "1.5.0",
            "_view_name": "HTMLView",
            "description": "",
            "description_tooltip": null,
            "layout": "IPY_MODEL_e815a277d1624e1891e39309fa7a0a26",
            "placeholder": "​",
            "style": "IPY_MODEL_17318e51a54949db9b173d09ebfd5f16",
            "value": "Map: 100%"
          }
        },
        "8475091ff2544c499e79187c7fc0bbf5": {
          "model_module": "@jupyter-widgets/controls",
          "model_name": "FloatProgressModel",
          "model_module_version": "1.5.0",
          "state": {
            "_dom_classes": [],
            "_model_module": "@jupyter-widgets/controls",
            "_model_module_version": "1.5.0",
            "_model_name": "FloatProgressModel",
            "_view_count": null,
            "_view_module": "@jupyter-widgets/controls",
            "_view_module_version": "1.5.0",
            "_view_name": "ProgressView",
            "bar_style": "success",
            "description": "",
            "description_tooltip": null,
            "layout": "IPY_MODEL_d877a112bf34439f9ba9f3c3dffe62cd",
            "max": 3000,
            "min": 0,
            "orientation": "horizontal",
            "style": "IPY_MODEL_6451a98da9c34eb79fdbf55da67ff713",
            "value": 3000
          }
        },
        "ffa93d352e794473bd039c08854912fc": {
          "model_module": "@jupyter-widgets/controls",
          "model_name": "HTMLModel",
          "model_module_version": "1.5.0",
          "state": {
            "_dom_classes": [],
            "_model_module": "@jupyter-widgets/controls",
            "_model_module_version": "1.5.0",
            "_model_name": "HTMLModel",
            "_view_count": null,
            "_view_module": "@jupyter-widgets/controls",
            "_view_module_version": "1.5.0",
            "_view_name": "HTMLView",
            "description": "",
            "description_tooltip": null,
            "layout": "IPY_MODEL_e14a3f82f91f471fb9fc29f9b828a399",
            "placeholder": "​",
            "style": "IPY_MODEL_e9d51da31d624d8dade0071be79d9767",
            "value": " 3000/3000 [00:03&lt;00:00, 846.78 examples/s]"
          }
        },
        "d72646a536724f9589e4616feb0d190c": {
          "model_module": "@jupyter-widgets/base",
          "model_name": "LayoutModel",
          "model_module_version": "1.2.0",
          "state": {
            "_model_module": "@jupyter-widgets/base",
            "_model_module_version": "1.2.0",
            "_model_name": "LayoutModel",
            "_view_count": null,
            "_view_module": "@jupyter-widgets/base",
            "_view_module_version": "1.2.0",
            "_view_name": "LayoutView",
            "align_content": null,
            "align_items": null,
            "align_self": null,
            "border": null,
            "bottom": null,
            "display": null,
            "flex": null,
            "flex_flow": null,
            "grid_area": null,
            "grid_auto_columns": null,
            "grid_auto_flow": null,
            "grid_auto_rows": null,
            "grid_column": null,
            "grid_gap": null,
            "grid_row": null,
            "grid_template_areas": null,
            "grid_template_columns": null,
            "grid_template_rows": null,
            "height": null,
            "justify_content": null,
            "justify_items": null,
            "left": null,
            "margin": null,
            "max_height": null,
            "max_width": null,
            "min_height": null,
            "min_width": null,
            "object_fit": null,
            "object_position": null,
            "order": null,
            "overflow": null,
            "overflow_x": null,
            "overflow_y": null,
            "padding": null,
            "right": null,
            "top": null,
            "visibility": null,
            "width": null
          }
        },
        "e815a277d1624e1891e39309fa7a0a26": {
          "model_module": "@jupyter-widgets/base",
          "model_name": "LayoutModel",
          "model_module_version": "1.2.0",
          "state": {
            "_model_module": "@jupyter-widgets/base",
            "_model_module_version": "1.2.0",
            "_model_name": "LayoutModel",
            "_view_count": null,
            "_view_module": "@jupyter-widgets/base",
            "_view_module_version": "1.2.0",
            "_view_name": "LayoutView",
            "align_content": null,
            "align_items": null,
            "align_self": null,
            "border": null,
            "bottom": null,
            "display": null,
            "flex": null,
            "flex_flow": null,
            "grid_area": null,
            "grid_auto_columns": null,
            "grid_auto_flow": null,
            "grid_auto_rows": null,
            "grid_column": null,
            "grid_gap": null,
            "grid_row": null,
            "grid_template_areas": null,
            "grid_template_columns": null,
            "grid_template_rows": null,
            "height": null,
            "justify_content": null,
            "justify_items": null,
            "left": null,
            "margin": null,
            "max_height": null,
            "max_width": null,
            "min_height": null,
            "min_width": null,
            "object_fit": null,
            "object_position": null,
            "order": null,
            "overflow": null,
            "overflow_x": null,
            "overflow_y": null,
            "padding": null,
            "right": null,
            "top": null,
            "visibility": null,
            "width": null
          }
        },
        "17318e51a54949db9b173d09ebfd5f16": {
          "model_module": "@jupyter-widgets/controls",
          "model_name": "DescriptionStyleModel",
          "model_module_version": "1.5.0",
          "state": {
            "_model_module": "@jupyter-widgets/controls",
            "_model_module_version": "1.5.0",
            "_model_name": "DescriptionStyleModel",
            "_view_count": null,
            "_view_module": "@jupyter-widgets/base",
            "_view_module_version": "1.2.0",
            "_view_name": "StyleView",
            "description_width": ""
          }
        },
        "d877a112bf34439f9ba9f3c3dffe62cd": {
          "model_module": "@jupyter-widgets/base",
          "model_name": "LayoutModel",
          "model_module_version": "1.2.0",
          "state": {
            "_model_module": "@jupyter-widgets/base",
            "_model_module_version": "1.2.0",
            "_model_name": "LayoutModel",
            "_view_count": null,
            "_view_module": "@jupyter-widgets/base",
            "_view_module_version": "1.2.0",
            "_view_name": "LayoutView",
            "align_content": null,
            "align_items": null,
            "align_self": null,
            "border": null,
            "bottom": null,
            "display": null,
            "flex": null,
            "flex_flow": null,
            "grid_area": null,
            "grid_auto_columns": null,
            "grid_auto_flow": null,
            "grid_auto_rows": null,
            "grid_column": null,
            "grid_gap": null,
            "grid_row": null,
            "grid_template_areas": null,
            "grid_template_columns": null,
            "grid_template_rows": null,
            "height": null,
            "justify_content": null,
            "justify_items": null,
            "left": null,
            "margin": null,
            "max_height": null,
            "max_width": null,
            "min_height": null,
            "min_width": null,
            "object_fit": null,
            "object_position": null,
            "order": null,
            "overflow": null,
            "overflow_x": null,
            "overflow_y": null,
            "padding": null,
            "right": null,
            "top": null,
            "visibility": null,
            "width": null
          }
        },
        "6451a98da9c34eb79fdbf55da67ff713": {
          "model_module": "@jupyter-widgets/controls",
          "model_name": "ProgressStyleModel",
          "model_module_version": "1.5.0",
          "state": {
            "_model_module": "@jupyter-widgets/controls",
            "_model_module_version": "1.5.0",
            "_model_name": "ProgressStyleModel",
            "_view_count": null,
            "_view_module": "@jupyter-widgets/base",
            "_view_module_version": "1.2.0",
            "_view_name": "StyleView",
            "bar_color": null,
            "description_width": ""
          }
        },
        "e14a3f82f91f471fb9fc29f9b828a399": {
          "model_module": "@jupyter-widgets/base",
          "model_name": "LayoutModel",
          "model_module_version": "1.2.0",
          "state": {
            "_model_module": "@jupyter-widgets/base",
            "_model_module_version": "1.2.0",
            "_model_name": "LayoutModel",
            "_view_count": null,
            "_view_module": "@jupyter-widgets/base",
            "_view_module_version": "1.2.0",
            "_view_name": "LayoutView",
            "align_content": null,
            "align_items": null,
            "align_self": null,
            "border": null,
            "bottom": null,
            "display": null,
            "flex": null,
            "flex_flow": null,
            "grid_area": null,
            "grid_auto_columns": null,
            "grid_auto_flow": null,
            "grid_auto_rows": null,
            "grid_column": null,
            "grid_gap": null,
            "grid_row": null,
            "grid_template_areas": null,
            "grid_template_columns": null,
            "grid_template_rows": null,
            "height": null,
            "justify_content": null,
            "justify_items": null,
            "left": null,
            "margin": null,
            "max_height": null,
            "max_width": null,
            "min_height": null,
            "min_width": null,
            "object_fit": null,
            "object_position": null,
            "order": null,
            "overflow": null,
            "overflow_x": null,
            "overflow_y": null,
            "padding": null,
            "right": null,
            "top": null,
            "visibility": null,
            "width": null
          }
        },
        "e9d51da31d624d8dade0071be79d9767": {
          "model_module": "@jupyter-widgets/controls",
          "model_name": "DescriptionStyleModel",
          "model_module_version": "1.5.0",
          "state": {
            "_model_module": "@jupyter-widgets/controls",
            "_model_module_version": "1.5.0",
            "_model_name": "DescriptionStyleModel",
            "_view_count": null,
            "_view_module": "@jupyter-widgets/base",
            "_view_module_version": "1.2.0",
            "_view_name": "StyleView",
            "description_width": ""
          }
        },
        "ec9e522e210a43f9905022b125512dde": {
          "model_module": "@jupyter-widgets/controls",
          "model_name": "HBoxModel",
          "model_module_version": "1.5.0",
          "state": {
            "_dom_classes": [],
            "_model_module": "@jupyter-widgets/controls",
            "_model_module_version": "1.5.0",
            "_model_name": "HBoxModel",
            "_view_count": null,
            "_view_module": "@jupyter-widgets/controls",
            "_view_module_version": "1.5.0",
            "_view_name": "HBoxView",
            "box_style": "",
            "children": [
              "IPY_MODEL_0c045ef0bb894aa581fc4cf99428f3df",
              "IPY_MODEL_4b9ea1464cdf408ab234b3bad87cc617",
              "IPY_MODEL_fda9746f4df64f789b715d5778bf15c2"
            ],
            "layout": "IPY_MODEL_1e18c0a274454fff8daab90e5ffbe69a"
          }
        },
        "0c045ef0bb894aa581fc4cf99428f3df": {
          "model_module": "@jupyter-widgets/controls",
          "model_name": "HTMLModel",
          "model_module_version": "1.5.0",
          "state": {
            "_dom_classes": [],
            "_model_module": "@jupyter-widgets/controls",
            "_model_module_version": "1.5.0",
            "_model_name": "HTMLModel",
            "_view_count": null,
            "_view_module": "@jupyter-widgets/controls",
            "_view_module_version": "1.5.0",
            "_view_name": "HTMLView",
            "description": "",
            "description_tooltip": null,
            "layout": "IPY_MODEL_a9660f9313bf4ac2ab6c4c5d598596ef",
            "placeholder": "​",
            "style": "IPY_MODEL_4b050949d6a744009a596bbadda2a2cb",
            "value": "model.safetensors: 100%"
          }
        },
        "4b9ea1464cdf408ab234b3bad87cc617": {
          "model_module": "@jupyter-widgets/controls",
          "model_name": "FloatProgressModel",
          "model_module_version": "1.5.0",
          "state": {
            "_dom_classes": [],
            "_model_module": "@jupyter-widgets/controls",
            "_model_module_version": "1.5.0",
            "_model_name": "FloatProgressModel",
            "_view_count": null,
            "_view_module": "@jupyter-widgets/controls",
            "_view_module_version": "1.5.0",
            "_view_name": "ProgressView",
            "bar_style": "success",
            "description": "",
            "description_tooltip": null,
            "layout": "IPY_MODEL_5bc59405883d4afaa9eca1f5250e8e2c",
            "max": 543432324,
            "min": 0,
            "orientation": "horizontal",
            "style": "IPY_MODEL_cb7f3e6930964c40a94c1ae42115385d",
            "value": 543432324
          }
        },
        "fda9746f4df64f789b715d5778bf15c2": {
          "model_module": "@jupyter-widgets/controls",
          "model_name": "HTMLModel",
          "model_module_version": "1.5.0",
          "state": {
            "_dom_classes": [],
            "_model_module": "@jupyter-widgets/controls",
            "_model_module_version": "1.5.0",
            "_model_name": "HTMLModel",
            "_view_count": null,
            "_view_module": "@jupyter-widgets/controls",
            "_view_module_version": "1.5.0",
            "_view_name": "HTMLView",
            "description": "",
            "description_tooltip": null,
            "layout": "IPY_MODEL_285ebbd0493a4b7c9d6e27ded75cc157",
            "placeholder": "​",
            "style": "IPY_MODEL_0e2cf9ff34a04528af2500d64ea2be8d",
            "value": " 543M/543M [00:02&lt;00:00, 244MB/s]"
          }
        },
        "1e18c0a274454fff8daab90e5ffbe69a": {
          "model_module": "@jupyter-widgets/base",
          "model_name": "LayoutModel",
          "model_module_version": "1.2.0",
          "state": {
            "_model_module": "@jupyter-widgets/base",
            "_model_module_version": "1.2.0",
            "_model_name": "LayoutModel",
            "_view_count": null,
            "_view_module": "@jupyter-widgets/base",
            "_view_module_version": "1.2.0",
            "_view_name": "LayoutView",
            "align_content": null,
            "align_items": null,
            "align_self": null,
            "border": null,
            "bottom": null,
            "display": null,
            "flex": null,
            "flex_flow": null,
            "grid_area": null,
            "grid_auto_columns": null,
            "grid_auto_flow": null,
            "grid_auto_rows": null,
            "grid_column": null,
            "grid_gap": null,
            "grid_row": null,
            "grid_template_areas": null,
            "grid_template_columns": null,
            "grid_template_rows": null,
            "height": null,
            "justify_content": null,
            "justify_items": null,
            "left": null,
            "margin": null,
            "max_height": null,
            "max_width": null,
            "min_height": null,
            "min_width": null,
            "object_fit": null,
            "object_position": null,
            "order": null,
            "overflow": null,
            "overflow_x": null,
            "overflow_y": null,
            "padding": null,
            "right": null,
            "top": null,
            "visibility": null,
            "width": null
          }
        },
        "a9660f9313bf4ac2ab6c4c5d598596ef": {
          "model_module": "@jupyter-widgets/base",
          "model_name": "LayoutModel",
          "model_module_version": "1.2.0",
          "state": {
            "_model_module": "@jupyter-widgets/base",
            "_model_module_version": "1.2.0",
            "_model_name": "LayoutModel",
            "_view_count": null,
            "_view_module": "@jupyter-widgets/base",
            "_view_module_version": "1.2.0",
            "_view_name": "LayoutView",
            "align_content": null,
            "align_items": null,
            "align_self": null,
            "border": null,
            "bottom": null,
            "display": null,
            "flex": null,
            "flex_flow": null,
            "grid_area": null,
            "grid_auto_columns": null,
            "grid_auto_flow": null,
            "grid_auto_rows": null,
            "grid_column": null,
            "grid_gap": null,
            "grid_row": null,
            "grid_template_areas": null,
            "grid_template_columns": null,
            "grid_template_rows": null,
            "height": null,
            "justify_content": null,
            "justify_items": null,
            "left": null,
            "margin": null,
            "max_height": null,
            "max_width": null,
            "min_height": null,
            "min_width": null,
            "object_fit": null,
            "object_position": null,
            "order": null,
            "overflow": null,
            "overflow_x": null,
            "overflow_y": null,
            "padding": null,
            "right": null,
            "top": null,
            "visibility": null,
            "width": null
          }
        },
        "4b050949d6a744009a596bbadda2a2cb": {
          "model_module": "@jupyter-widgets/controls",
          "model_name": "DescriptionStyleModel",
          "model_module_version": "1.5.0",
          "state": {
            "_model_module": "@jupyter-widgets/controls",
            "_model_module_version": "1.5.0",
            "_model_name": "DescriptionStyleModel",
            "_view_count": null,
            "_view_module": "@jupyter-widgets/base",
            "_view_module_version": "1.2.0",
            "_view_name": "StyleView",
            "description_width": ""
          }
        },
        "5bc59405883d4afaa9eca1f5250e8e2c": {
          "model_module": "@jupyter-widgets/base",
          "model_name": "LayoutModel",
          "model_module_version": "1.2.0",
          "state": {
            "_model_module": "@jupyter-widgets/base",
            "_model_module_version": "1.2.0",
            "_model_name": "LayoutModel",
            "_view_count": null,
            "_view_module": "@jupyter-widgets/base",
            "_view_module_version": "1.2.0",
            "_view_name": "LayoutView",
            "align_content": null,
            "align_items": null,
            "align_self": null,
            "border": null,
            "bottom": null,
            "display": null,
            "flex": null,
            "flex_flow": null,
            "grid_area": null,
            "grid_auto_columns": null,
            "grid_auto_flow": null,
            "grid_auto_rows": null,
            "grid_column": null,
            "grid_gap": null,
            "grid_row": null,
            "grid_template_areas": null,
            "grid_template_columns": null,
            "grid_template_rows": null,
            "height": null,
            "justify_content": null,
            "justify_items": null,
            "left": null,
            "margin": null,
            "max_height": null,
            "max_width": null,
            "min_height": null,
            "min_width": null,
            "object_fit": null,
            "object_position": null,
            "order": null,
            "overflow": null,
            "overflow_x": null,
            "overflow_y": null,
            "padding": null,
            "right": null,
            "top": null,
            "visibility": null,
            "width": null
          }
        },
        "cb7f3e6930964c40a94c1ae42115385d": {
          "model_module": "@jupyter-widgets/controls",
          "model_name": "ProgressStyleModel",
          "model_module_version": "1.5.0",
          "state": {
            "_model_module": "@jupyter-widgets/controls",
            "_model_module_version": "1.5.0",
            "_model_name": "ProgressStyleModel",
            "_view_count": null,
            "_view_module": "@jupyter-widgets/base",
            "_view_module_version": "1.2.0",
            "_view_name": "StyleView",
            "bar_color": null,
            "description_width": ""
          }
        },
        "285ebbd0493a4b7c9d6e27ded75cc157": {
          "model_module": "@jupyter-widgets/base",
          "model_name": "LayoutModel",
          "model_module_version": "1.2.0",
          "state": {
            "_model_module": "@jupyter-widgets/base",
            "_model_module_version": "1.2.0",
            "_model_name": "LayoutModel",
            "_view_count": null,
            "_view_module": "@jupyter-widgets/base",
            "_view_module_version": "1.2.0",
            "_view_name": "LayoutView",
            "align_content": null,
            "align_items": null,
            "align_self": null,
            "border": null,
            "bottom": null,
            "display": null,
            "flex": null,
            "flex_flow": null,
            "grid_area": null,
            "grid_auto_columns": null,
            "grid_auto_flow": null,
            "grid_auto_rows": null,
            "grid_column": null,
            "grid_gap": null,
            "grid_row": null,
            "grid_template_areas": null,
            "grid_template_columns": null,
            "grid_template_rows": null,
            "height": null,
            "justify_content": null,
            "justify_items": null,
            "left": null,
            "margin": null,
            "max_height": null,
            "max_width": null,
            "min_height": null,
            "min_width": null,
            "object_fit": null,
            "object_position": null,
            "order": null,
            "overflow": null,
            "overflow_x": null,
            "overflow_y": null,
            "padding": null,
            "right": null,
            "top": null,
            "visibility": null,
            "width": null
          }
        },
        "0e2cf9ff34a04528af2500d64ea2be8d": {
          "model_module": "@jupyter-widgets/controls",
          "model_name": "DescriptionStyleModel",
          "model_module_version": "1.5.0",
          "state": {
            "_model_module": "@jupyter-widgets/controls",
            "_model_module_version": "1.5.0",
            "_model_name": "DescriptionStyleModel",
            "_view_count": null,
            "_view_module": "@jupyter-widgets/base",
            "_view_module_version": "1.2.0",
            "_view_name": "StyleView",
            "description_width": ""
          }
        }
      }
    }
  },
  "nbformat": 4,
  "nbformat_minor": 5
}